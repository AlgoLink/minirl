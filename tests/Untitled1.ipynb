{
 "cells": [
  {
   "cell_type": "code",
   "execution_count": 1,
   "id": "172550bd-44da-4d7f-a881-0351606d3bde",
   "metadata": {},
   "outputs": [],
   "source": [
    "import numpy as np\n",
    "\n",
    "A, b = [], []\n",
    "D=3\n",
    "for _ in range(5):\n",
    "    A.append(np.eye(D))\n",
    "    b.append(np.zeros(D))\n",
    "            \n",
    "            "
   ]
  },
  {
   "cell_type": "code",
   "execution_count": 3,
   "id": "bc31d3d1-a25c-475f-b16d-3f0a6c2f9a51",
   "metadata": {},
   "outputs": [
    {
     "data": {
      "text/plain": [
       "([array([[1., 0., 0.],\n",
       "         [0., 1., 0.],\n",
       "         [0., 0., 1.]]),\n",
       "  array([[1., 0., 0.],\n",
       "         [0., 1., 0.],\n",
       "         [0., 0., 1.]]),\n",
       "  array([[1., 0., 0.],\n",
       "         [0., 1., 0.],\n",
       "         [0., 0., 1.]]),\n",
       "  array([[1., 0., 0.],\n",
       "         [0., 1., 0.],\n",
       "         [0., 0., 1.]]),\n",
       "  array([[1., 0., 0.],\n",
       "         [0., 1., 0.],\n",
       "         [0., 0., 1.]])],\n",
       " [array([0., 0., 0.]),\n",
       "  array([0., 0., 0.]),\n",
       "  array([0., 0., 0.]),\n",
       "  array([0., 0., 0.]),\n",
       "  array([0., 0., 0.])])"
      ]
     },
     "execution_count": 3,
     "metadata": {},
     "output_type": "execute_result"
    }
   ],
   "source": [
    "A,b"
   ]
  },
  {
   "cell_type": "code",
   "execution_count": 9,
   "id": "3242f8d9-bc4a-4c9b-a461-b54d0fe09349",
   "metadata": {},
   "outputs": [
    {
     "data": {
      "text/plain": [
       "array([0., 0., 0.])"
      ]
     },
     "execution_count": 9,
     "metadata": {},
     "output_type": "execute_result"
    }
   ],
   "source": [
    "_A = A[0]\n",
    "_b=b[0]\n",
    "A_inv = np.linalg.inv(_A)\n",
    "theta_hat = A_inv @ _b\n",
    "theta_hat"
   ]
  },
  {
   "cell_type": "code",
   "execution_count": 7,
   "id": "c0d92fe9-b3e7-4f63-90d6-2e64b9b5bc24",
   "metadata": {},
   "outputs": [
    {
     "data": {
      "text/plain": [
       "array([[1., 0., 0.],\n",
       "       [0., 1., 0.],\n",
       "       [0., 0., 1.]])"
      ]
     },
     "execution_count": 7,
     "metadata": {},
     "output_type": "execute_result"
    }
   ],
   "source": [
    "_A"
   ]
  },
  {
   "cell_type": "code",
   "execution_count": 13,
   "id": "731cdece-d316-493a-8dc1-cc8084d3b684",
   "metadata": {},
   "outputs": [
    {
     "data": {
      "text/plain": [
       "(array([[ 0.39691629],\n",
       "        [ 0.50576413],\n",
       "        [-0.45650851]]),\n",
       " array([[ 0.39691629,  0.50576413, -0.45650851]]))"
      ]
     },
     "execution_count": 13,
     "metadata": {},
     "output_type": "execute_result"
    }
   ],
   "source": [
    "feature_dim=3\n",
    "H=1\n",
    "\n",
    "tt=(-1 + 2 * np.random.rand(feature_dim, H)) / np.sqrt(feature_dim)\n",
    "tt,tt.T"
   ]
  },
  {
   "cell_type": "code",
   "execution_count": 12,
   "id": "a104f3ae-39b5-47f7-ba7a-9ca4c0e19f3b",
   "metadata": {},
   "outputs": [
    {
     "data": {
      "text/plain": [
       "array([0., 0., 0.])"
      ]
     },
     "execution_count": 12,
     "metadata": {},
     "output_type": "execute_result"
    }
   ],
   "source": [
    "theta = np.dot(np.linalg.inv(_A), _b)\n",
    "theta.T"
   ]
  },
  {
   "cell_type": "code",
   "execution_count": 19,
   "id": "a3f29924-d590-4f9a-a3c5-b06a82535937",
   "metadata": {},
   "outputs": [
    {
     "name": "stdout",
     "output_type": "stream",
     "text": [
      "第 1 次迭代：x=3.000000, f(x)=9.000000\n",
      "第 2 次迭代：x=0.600000, f(x)=0.360000\n",
      "第 3 次迭代：x=0.120000, f(x)=0.014400\n",
      "第 4 次迭代：x=0.024000, f(x)=0.000576\n",
      "第 5 次迭代：x=0.004800, f(x)=0.000023\n",
      "第 6 次迭代：x=0.000960, f(x)=0.000001\n",
      "第 7 次迭代：x=0.000192, f(x)=0.000000\n",
      "第 8 次迭代：x=0.000038, f(x)=0.000000\n",
      "第 9 次迭代：x=0.000008, f(x)=0.000000\n",
      "第 10 次迭代：x=0.000002, f(x)=0.000000\n",
      "第 11 次迭代：x=0.000000, f(x)=0.000000\n",
      "第 12 次迭代：x=0.000000, f(x)=0.000000\n",
      "第 13 次迭代：x=0.000000, f(x)=0.000000\n",
      "第 14 次迭代：x=0.000000, f(x)=0.000000\n",
      "第 15 次迭代：x=0.000000, f(x)=0.000000\n",
      "第 16 次迭代：x=0.000000, f(x)=0.000000\n",
      "第 17 次迭代：x=0.000000, f(x)=0.000000\n",
      "第 18 次迭代：x=0.000000, f(x)=0.000000\n",
      "第 19 次迭代：x=0.000000, f(x)=0.000000\n",
      "第 20 次迭代：x=0.000000, f(x)=0.000000\n",
      "第 21 次迭代：x=0.000000, f(x)=0.000000\n",
      "第 22 次迭代：x=0.000000, f(x)=0.000000\n",
      "第 23 次迭代：x=0.000000, f(x)=0.000000\n",
      "第 24 次迭代：x=0.000000, f(x)=0.000000\n",
      "第 25 次迭代：x=0.000000, f(x)=0.000000\n",
      "第 26 次迭代：x=0.000000, f(x)=0.000000\n",
      "第 27 次迭代：x=0.000000, f(x)=0.000000\n",
      "第 28 次迭代：x=0.000000, f(x)=0.000000\n",
      "第 29 次迭代：x=0.000000, f(x)=0.000000\n",
      "第 30 次迭代：x=0.000000, f(x)=0.000000\n",
      "第 31 次迭代：x=0.000000, f(x)=0.000000\n",
      "第 32 次迭代：x=0.000000, f(x)=0.000000\n",
      "第 33 次迭代：x=0.000000, f(x)=0.000000\n",
      "第 34 次迭代：x=0.000000, f(x)=0.000000\n",
      "第 35 次迭代：x=0.000000, f(x)=0.000000\n",
      "第 36 次迭代：x=0.000000, f(x)=0.000000\n",
      "第 37 次迭代：x=0.000000, f(x)=0.000000\n",
      "第 38 次迭代：x=0.000000, f(x)=0.000000\n",
      "第 39 次迭代：x=0.000000, f(x)=0.000000\n",
      "第 40 次迭代：x=0.000000, f(x)=0.000000\n",
      "第 41 次迭代：x=0.000000, f(x)=0.000000\n",
      "第 42 次迭代：x=0.000000, f(x)=0.000000\n",
      "第 43 次迭代：x=0.000000, f(x)=0.000000\n",
      "第 44 次迭代：x=0.000000, f(x)=0.000000\n",
      "第 45 次迭代：x=0.000000, f(x)=0.000000\n",
      "第 46 次迭代：x=0.000000, f(x)=0.000000\n",
      "第 47 次迭代：x=0.000000, f(x)=0.000000\n",
      "第 48 次迭代：x=0.000000, f(x)=0.000000\n",
      "第 49 次迭代：x=0.000000, f(x)=0.000000\n",
      "第 50 次迭代：x=0.000000, f(x)=0.000000\n",
      "第 51 次迭代：x=0.000000, f(x)=0.000000\n",
      "第 52 次迭代：x=0.000000, f(x)=0.000000\n",
      "第 53 次迭代：x=0.000000, f(x)=0.000000\n",
      "第 54 次迭代：x=0.000000, f(x)=0.000000\n",
      "第 55 次迭代：x=0.000000, f(x)=0.000000\n",
      "第 56 次迭代：x=0.000000, f(x)=0.000000\n",
      "第 57 次迭代：x=0.000000, f(x)=0.000000\n",
      "第 58 次迭代：x=0.000000, f(x)=0.000000\n",
      "第 59 次迭代：x=0.000000, f(x)=0.000000\n",
      "第 60 次迭代：x=0.000000, f(x)=0.000000\n",
      "第 61 次迭代：x=0.000000, f(x)=0.000000\n",
      "第 62 次迭代：x=0.000000, f(x)=0.000000\n",
      "第 63 次迭代：x=0.000000, f(x)=0.000000\n",
      "第 64 次迭代：x=0.000000, f(x)=0.000000\n",
      "第 65 次迭代：x=0.000000, f(x)=0.000000\n",
      "第 66 次迭代：x=0.000000, f(x)=0.000000\n",
      "第 67 次迭代：x=0.000000, f(x)=0.000000\n",
      "第 68 次迭代：x=0.000000, f(x)=0.000000\n",
      "第 69 次迭代：x=0.000000, f(x)=0.000000\n",
      "第 70 次迭代：x=0.000000, f(x)=0.000000\n",
      "第 71 次迭代：x=0.000000, f(x)=0.000000\n",
      "第 72 次迭代：x=0.000000, f(x)=0.000000\n",
      "第 73 次迭代：x=0.000000, f(x)=0.000000\n",
      "第 74 次迭代：x=0.000000, f(x)=0.000000\n",
      "第 75 次迭代：x=0.000000, f(x)=0.000000\n",
      "第 76 次迭代：x=0.000000, f(x)=0.000000\n",
      "第 77 次迭代：x=0.000000, f(x)=0.000000\n",
      "第 78 次迭代：x=0.000000, f(x)=0.000000\n",
      "第 79 次迭代：x=0.000000, f(x)=0.000000\n",
      "第 80 次迭代：x=0.000000, f(x)=0.000000\n",
      "第 81 次迭代：x=0.000000, f(x)=0.000000\n",
      "第 82 次迭代：x=0.000000, f(x)=0.000000\n",
      "第 83 次迭代：x=0.000000, f(x)=0.000000\n",
      "第 84 次迭代：x=0.000000, f(x)=0.000000\n",
      "第 85 次迭代：x=0.000000, f(x)=0.000000\n",
      "第 86 次迭代：x=0.000000, f(x)=0.000000\n",
      "第 87 次迭代：x=0.000000, f(x)=0.000000\n",
      "第 88 次迭代：x=0.000000, f(x)=0.000000\n",
      "第 89 次迭代：x=0.000000, f(x)=0.000000\n",
      "第 90 次迭代：x=0.000000, f(x)=0.000000\n",
      "第 91 次迭代：x=0.000000, f(x)=0.000000\n",
      "第 92 次迭代：x=0.000000, f(x)=0.000000\n",
      "第 93 次迭代：x=0.000000, f(x)=0.000000\n",
      "第 94 次迭代：x=0.000000, f(x)=0.000000\n",
      "第 95 次迭代：x=0.000000, f(x)=0.000000\n",
      "第 96 次迭代：x=0.000000, f(x)=0.000000\n",
      "第 97 次迭代：x=0.000000, f(x)=0.000000\n",
      "第 98 次迭代：x=0.000000, f(x)=0.000000\n",
      "第 99 次迭代：x=0.000000, f(x)=0.000000\n",
      "第 100 次迭代：x=0.000000, f(x)=0.000000\n"
     ]
    }
   ],
   "source": [
    "# 定义函数 f(x) = x^2 及其导数 df(x) = 2x\n",
    "def f(x):\n",
    "    return x ** 2\n",
    "\n",
    "def df(x):\n",
    "    return 2 * x\n",
    "\n",
    "# 初始点 x0 和学习率 lr，以及迭代次数 max_iter\n",
    "x0 = 15  # 初始点（可根据实际情况调整）\n",
    "lr = 0.4  # 学习率（可根据实际情况调整）\n",
    "max_iter = 100  # 迭代次数（可根据实际情况调整）\n",
    "\n",
    "# 使用梯度下降法求解最小值\n",
    "for i in range(max_iter):\n",
    "    x0 = x0 - lr * df(x0)\n",
    "    print(\"第 %d 次迭代：x=%f, f(x)=%f\" % (i+1, x0, f(x0)))\n"
   ]
  },
  {
   "cell_type": "code",
   "execution_count": 22,
   "id": "6970b9fe-609e-4118-a957-e12164938b47",
   "metadata": {},
   "outputs": [
    {
     "data": {
      "image/png": "[encoded data removed]",
      "text/plain": [
       "<Figure size 640x480 with 1 Axes>"
      ]
     },
     "metadata": {},
     "output_type": "display_data"
    }
   ],
   "source": [
    "import numpy as np\n",
    "import matplotlib.pyplot as plt\n",
    "\n",
    "# 定义函数 f(x) = x^2 及其导数 df(x) = 2x\n",
    "def f(x):\n",
    "    return x ** 2\n",
    "\n",
    "def df(x):\n",
    "    return 2 * x\n",
    "\n",
    "# 初始点 x0 和学习率 lr，以及迭代次数 max_iter\n",
    "x0 = 15  # 初始点（可根据实际情况调整）\n",
    "lr = 0.1  # 学习率（可根据实际情况调整）\n",
    "max_iter = 100  # 迭代次数（可根据实际情况调整）\n",
    "\n",
    "# 使用梯度下降法求解最小值\n",
    "x = [x0]\n",
    "y = [f(x0)]\n",
    "for i in range(1, max_iter+1):\n",
    "    x_i = x[i-1] - lr * df(x[i-1])\n",
    "    x.append(x_i)\n",
    "    y.append(f(x_i))\n",
    "\n",
    "# 绘制函数图像和梯度下降过程\n",
    "fig, ax = plt.subplots()\n",
    "x_vals = np.linspace(-5, 5, 100)\n",
    "y_vals = f(x_vals)\n",
    "ax.plot(x_vals, y_vals, 'b-', label='f(x)=x^2')\n",
    "ax.plot(x, y, 'r*', label='gradient descent')\n",
    "ax.set_xlabel('x')\n",
    "ax.set_ylabel('f(x)')\n",
    "ax.set_title('Gradient Descent for f(x) = x^2')\n",
    "ax.legend()\n",
    "plt.show()\n"
   ]
  },
  {
   "cell_type": "code",
   "execution_count": 23,
   "id": "fba86c97-defc-4b81-adc8-b6f3fbed1aaf",
   "metadata": {},
   "outputs": [
    {
     "name": "stdout",
     "output_type": "stream",
     "text": [
      "Iteration 0: w=0.117050, b=0.200598, loss=4.3641\n",
      "Iteration 100: w=1.409859, b=1.321187, loss=0.0376\n",
      "Iteration 200: w=1.684291, b=1.174112, loss=0.0172\n",
      "Iteration 300: w=1.824333, b=1.099058, loss=0.0119\n",
      "Iteration 400: w=1.895797, b=1.060758, loss=0.0106\n",
      "Iteration 500: w=1.932265, b=1.041214, loss=0.0102\n",
      "Iteration 600: w=1.950875, b=1.031240, loss=0.0101\n",
      "Iteration 700: w=1.960371, b=1.026151, loss=0.0101\n",
      "Iteration 800: w=1.965217, b=1.023554, loss=0.0101\n",
      "Iteration 900: w=1.967690, b=1.022228, loss=0.0101\n"
     ]
    },
    {
     "data": {
      "image/png": "[encoded data removed]",
      "text/plain": [
       "<Figure size 640x480 with 1 Axes>"
      ]
     },
     "metadata": {},
     "output_type": "display_data"
    }
   ],
   "source": [
    "import numpy as np\n",
    "import matplotlib.pyplot as plt\n",
    "\n",
    "# 定义函数：线性模型 y = w * x + b\n",
    "def linear_model(x, w, b):\n",
    "    return w * x + b\n",
    "\n",
    "# 定义损失函数：均方误差（MSE）\n",
    "def mse_loss(y_true, y_pred):\n",
    "    return np.mean((y_true - y_pred) ** 2)\n",
    "\n",
    "# 生成随机数据集\n",
    "np.random.seed(0)\n",
    "x = np.linspace(0, 1, 100)\n",
    "y = 2 * x + 1 + np.random.normal(loc=0, scale=0.1, size=(100,))\n",
    "\n",
    "# 初始化参数 w 和 b\n",
    "w = 0\n",
    "b = 0\n",
    "lr = 0.1  # 学习率\n",
    "max_iter = 1000  # 最大迭代次数\n",
    "\n",
    "# 使用梯度下降法求解最优参数（w、b）\n",
    "losses = []\n",
    "for i in range(max_iter):\n",
    "    y_pred = linear_model(x, w, b)\n",
    "    loss = mse_loss(y, y_pred)\n",
    "    losses.append(loss)\n",
    "    dw = -np.mean((y - y_pred) * x)\n",
    "    db = -np.mean(y - y_pred)\n",
    "    w -= lr * dw\n",
    "    b -= lr * db\n",
    "    if i % 100 == 0:\n",
    "        print(\"Iteration %d: w=%f, b=%f, loss=%.4f\" % (i, w, b, loss))\n",
    "\n",
    "# 绘制损失函数下降的曲线\n",
    "fig, ax = plt.subplots()\n",
    "ax.plot(losses)\n",
    "ax.set_xlabel('Iteration')\n",
    "ax.set_ylabel('MSE Loss')\n",
    "ax.set_title('Loss Curve in Gradient Descent for Linear Regression')\n",
    "plt.show()\n"
   ]
  }
 ],
 "metadata": {
  "kernelspec": {
   "display_name": "Python 3 (ipykernel)",
   "language": "python",
   "name": "python3"
  },
  "language_info": {
   "codemirror_mode": {
    "name": "ipython",
    "version": 3
   },
   "file_extension": ".py",
   "mimetype": "text/x-python",
   "name": "python",
   "nbconvert_exporter": "python",
   "pygments_lexer": "ipython3",
   "version": "3.8.15"
  }
 },
 "nbformat": 4,
 "nbformat_minor": 5
}
