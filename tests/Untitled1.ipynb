{
 "cells": [
  {
   "cell_type": "code",
   "execution_count": 1,
   "id": "172550bd-44da-4d7f-a881-0351606d3bde",
   "metadata": {},
   "outputs": [],
   "source": [
    "import numpy as np\n",
    "\n",
    "A, b = [], []\n",
    "D=3\n",
    "for _ in range(5):\n",
    "    A.append(np.eye(D))\n",
    "    b.append(np.zeros(D))\n",
    "            \n",
    "            "
   ]
  },
  {
   "cell_type": "code",
   "execution_count": 3,
   "id": "bc31d3d1-a25c-475f-b16d-3f0a6c2f9a51",
   "metadata": {},
   "outputs": [
    {
     "data": {
      "text/plain": [
       "([array([[1., 0., 0.],\n",
       "         [0., 1., 0.],\n",
       "         [0., 0., 1.]]),\n",
       "  array([[1., 0., 0.],\n",
       "         [0., 1., 0.],\n",
       "         [0., 0., 1.]]),\n",
       "  array([[1., 0., 0.],\n",
       "         [0., 1., 0.],\n",
       "         [0., 0., 1.]]),\n",
       "  array([[1., 0., 0.],\n",
       "         [0., 1., 0.],\n",
       "         [0., 0., 1.]]),\n",
       "  array([[1., 0., 0.],\n",
       "         [0., 1., 0.],\n",
       "         [0., 0., 1.]])],\n",
       " [array([0., 0., 0.]),\n",
       "  array([0., 0., 0.]),\n",
       "  array([0., 0., 0.]),\n",
       "  array([0., 0., 0.]),\n",
       "  array([0., 0., 0.])])"
      ]
     },
     "execution_count": 3,
     "metadata": {},
     "output_type": "execute_result"
    }
   ],
   "source": [
    "A,b"
   ]
  },
  {
   "cell_type": "code",
   "execution_count": 9,
   "id": "3242f8d9-bc4a-4c9b-a461-b54d0fe09349",
   "metadata": {},
   "outputs": [
    {
     "data": {
      "text/plain": [
       "array([0., 0., 0.])"
      ]
     },
     "execution_count": 9,
     "metadata": {},
     "output_type": "execute_result"
    }
   ],
   "source": [
    "_A = A[0]\n",
    "_b=b[0]\n",
    "A_inv = np.linalg.inv(_A)\n",
    "theta_hat = A_inv @ _b\n",
    "theta_hat"
   ]
  },
  {
   "cell_type": "code",
   "execution_count": 7,
   "id": "c0d92fe9-b3e7-4f63-90d6-2e64b9b5bc24",
   "metadata": {},
   "outputs": [
    {
     "data": {
      "text/plain": [
       "array([[1., 0., 0.],\n",
       "       [0., 1., 0.],\n",
       "       [0., 0., 1.]])"
      ]
     },
     "execution_count": 7,
     "metadata": {},
     "output_type": "execute_result"
    }
   ],
   "source": [
    "_A"
   ]
  },
  {
   "cell_type": "code",
   "execution_count": 13,
   "id": "731cdece-d316-493a-8dc1-cc8084d3b684",
   "metadata": {},
   "outputs": [
    {
     "data": {
      "text/plain": [
       "(array([[ 0.39691629],\n",
       "        [ 0.50576413],\n",
       "        [-0.45650851]]),\n",
       " array([[ 0.39691629,  0.50576413, -0.45650851]]))"
      ]
     },
     "execution_count": 13,
     "metadata": {},
     "output_type": "execute_result"
    }
   ],
   "source": [
    "feature_dim=3\n",
    "H=1\n",
    "\n",
    "tt=(-1 + 2 * np.random.rand(feature_dim, H)) / np.sqrt(feature_dim)\n",
    "tt,tt.T"
   ]
  },
  {
   "cell_type": "code",
   "execution_count": 12,
   "id": "a104f3ae-39b5-47f7-ba7a-9ca4c0e19f3b",
   "metadata": {},
   "outputs": [
    {
     "data": {
      "text/plain": [
       "array([0., 0., 0.])"
      ]
     },
     "execution_count": 12,
     "metadata": {},
     "output_type": "execute_result"
    }
   ],
   "source": [
    "theta = np.dot(np.linalg.inv(_A), _b)\n",
    "theta.T"
   ]
  }
 ],
 "metadata": {
  "kernelspec": {
   "display_name": "Python 3 (ipykernel)",
   "language": "python",
   "name": "python3"
  },
  "language_info": {
   "codemirror_mode": {
    "name": "ipython",
    "version": 3
   },
   "file_extension": ".py",
   "mimetype": "text/x-python",
   "name": "python",
   "nbconvert_exporter": "python",
   "pygments_lexer": "ipython3",
   "version": "3.8.15"
  }
 },
 "nbformat": 4,
 "nbformat_minor": 5
}
