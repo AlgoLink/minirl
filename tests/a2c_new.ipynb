{
 "cells": [
  {
   "cell_type": "code",
   "execution_count": 1,
   "id": "6fdeeb10-23cb-466e-a248-83b23b29dcee",
   "metadata": {},
   "outputs": [],
   "source": [
    "from minirl.algos.a2c import A2C"
   ]
  },
  {
   "cell_type": "code",
   "execution_count": 2,
   "id": "99c4eec7-b0be-4ee3-9916-6578663cb180",
   "metadata": {},
   "outputs": [
    {
     "name": "stdout",
     "output_type": "stream",
     "text": [
      "Warning: else clause of get_act_fcn_deriv()\n",
      "Softmax must use cross entropy loss\n",
      "Warning: else clause of get_act_fcn_deriv()\n",
      "Softmax must use cross entropy loss\n",
      "Could not load weights: File Not Found, use default\n",
      "Could not load weights: File Not Found, use default\n"
     ]
    }
   ],
   "source": [
    "import gym\n",
    "env = gym.make(\"CartPole-v1\")\n",
    "ob_n = env.observation_space.shape[0]\n",
    "ac_n = env.action_space.n\n",
    "\n",
    "\n",
    "test = A2C(ob_n,ac_n)"
   ]
  },
  {
   "cell_type": "code",
   "execution_count": 4,
   "id": "ca594feb-915b-483a-a92e-8223a9714073",
   "metadata": {},
   "outputs": [
    {
     "data": {
      "text/plain": [
       "2"
      ]
     },
     "execution_count": 4,
     "metadata": {},
     "output_type": "execute_result"
    }
   ],
   "source": [
    "ac_n"
   ]
  },
  {
   "cell_type": "code",
   "execution_count": 3,
   "id": "a2f33078-5623-452a-a427-f1e47fb1711e",
   "metadata": {},
   "outputs": [
    {
     "ename": "NameError",
     "evalue": "name 'obs' is not defined",
     "output_type": "error",
     "traceback": [
      "\u001b[0;31m---------------------------------------------------------------------------\u001b[0m",
      "\u001b[0;31mNameError\u001b[0m                                 Traceback (most recent call last)",
      "Cell \u001b[0;32mIn[3], line 2\u001b[0m\n\u001b[1;32m      1\u001b[0m \u001b[38;5;28;01mimport\u001b[39;00m \u001b[38;5;21;01mnumpy\u001b[39;00m \u001b[38;5;28;01mas\u001b[39;00m \u001b[38;5;21;01mnp\u001b[39;00m\n\u001b[0;32m----> 2\u001b[0m state \u001b[38;5;241m=\u001b[39m np\u001b[38;5;241m.\u001b[39mexpand_dims(\u001b[43mobs\u001b[49m, axis\u001b[38;5;241m=\u001b[39m\u001b[38;5;241m1\u001b[39m)\n\u001b[1;32m      3\u001b[0m state\n",
      "\u001b[0;31mNameError\u001b[0m: name 'obs' is not defined"
     ]
    }
   ],
   "source": [
    "import numpy as np\n",
    "state = np.expand_dims(obs, axis=1)\n",
    "state\n",
    "\n"
   ]
  },
  {
   "cell_type": "code",
   "execution_count": 16,
   "id": "f21f5935-5bcf-4a41-9661-c4583787f73b",
   "metadata": {},
   "outputs": [
    {
     "name": "stdout",
     "output_type": "stream",
     "text": [
      "CPU times: user 806 µs, sys: 1.01 ms, total: 1.81 ms\n",
      "Wall time: 1.71 ms\n"
     ]
    }
   ],
   "source": [
    "%%time\n",
    "import numpy as np\n",
    "obs, _ = env.reset()\n",
    "state = np.expand_dims(obs, axis=1)\n",
    "action,p = test.act(state)"
   ]
  },
  {
   "cell_type": "code",
   "execution_count": 19,
   "id": "f3a285dc-1754-49b5-8497-1afbbd2dd3f8",
   "metadata": {},
   "outputs": [],
   "source": [
    "obs_list=[]"
   ]
  },
  {
   "cell_type": "code",
   "execution_count": 21,
   "id": "52ce1619-21c2-4e3c-87d9-1a2c95ae4ae3",
   "metadata": {},
   "outputs": [],
   "source": [
    "obs, _ = env.reset()\n",
    "obs_list.append(obs)"
   ]
  },
  {
   "cell_type": "code",
   "execution_count": 22,
   "id": "bda88fb7-c32a-4dff-a889-0159cad17c31",
   "metadata": {},
   "outputs": [
    {
     "data": {
      "text/plain": [
       "[array([-0.00208154,  0.03989721,  0.04567558,  0.04808117], dtype=float32),\n",
       " array([-0.03967952,  0.0283169 , -0.00230562, -0.01212178], dtype=float32)]"
      ]
     },
     "execution_count": 22,
     "metadata": {},
     "output_type": "execute_result"
    }
   ],
   "source": [
    "obs_list"
   ]
  },
  {
   "cell_type": "code",
   "execution_count": 23,
   "id": "6e11dff8-f78c-4b6c-b6b2-a5695bf241c7",
   "metadata": {},
   "outputs": [
    {
     "data": {
      "text/plain": [
       "array([[-0.00208154,  0.03989721,  0.04567558,  0.04808117, -0.03967952,\n",
       "         0.0283169 , -0.00230562, -0.01212178]], dtype=float32)"
      ]
     },
     "execution_count": 23,
     "metadata": {},
     "output_type": "execute_result"
    }
   ],
   "source": [
    "np.reshape(obs_list, [1, -1])"
   ]
  },
  {
   "cell_type": "code",
   "execution_count": 15,
   "id": "b8f7b3c9-e20a-4dbe-b190-0f1ee1c16a5b",
   "metadata": {},
   "outputs": [
    {
     "data": {
      "text/plain": [
       "[array([[-0.04730239],\n",
       "        [-0.04990605],\n",
       "        [-0.03703809],\n",
       "        [-0.00909954]], dtype=float32),\n",
       " array([[-0.04730239],\n",
       "        [-0.04990605],\n",
       "        [-0.03703809],\n",
       "        [-0.00909954]], dtype=float32)]"
      ]
     },
     "execution_count": 15,
     "metadata": {},
     "output_type": "execute_result"
    }
   ],
   "source": [
    "mb_states"
   ]
  },
  {
   "cell_type": "code",
   "execution_count": 4,
   "id": "26e20a85-8b28-470e-a33e-27deb4dcce92",
   "metadata": {},
   "outputs": [],
   "source": [
    "next_state, reward, done,_, _ = env.step(action)"
   ]
  },
  {
   "cell_type": "code",
   "execution_count": 14,
   "id": "16676ad7-61b4-4778-82fd-ce3222836ab6",
   "metadata": {},
   "outputs": [
    {
     "data": {
      "text/plain": [
       "array([-0.04279293,  0.15251337,  0.04241492, -0.24093306], dtype=float32)"
      ]
     },
     "execution_count": 14,
     "metadata": {},
     "output_type": "execute_result"
    }
   ],
   "source": [
    "c"
   ]
  },
  {
   "cell_type": "code",
   "execution_count": 5,
   "id": "685537cc-30c0-4d4e-a253-9b99ccd3a6dc",
   "metadata": {},
   "outputs": [],
   "source": [
    "mb_states = []\n",
    "mb_next_states = []\n",
    "mb_actions = []\n",
    "mb_action_probs = []\n",
    "mb_clipped_rewards = []\n",
    "mb_dones = []\n",
    "mb_states.append(state)\n",
    "_next_state=np.expand_dims(next_state, axis=1)\n",
    "mb_next_states.append(_next_state)\n",
    "mb_actions.append(action)\n",
    "mb_dones.append(done)\n",
    "mb_clipped_rewards.append(reward)\n",
    "mb_action_probs.append(p)"
   ]
  },
  {
   "cell_type": "code",
   "execution_count": 8,
   "id": "57f8e313-2aa7-4dae-b42b-2429ee10d8d1",
   "metadata": {},
   "outputs": [],
   "source": [
    "mb_states.append(state)\n",
    "_next_state=np.expand_dims(next_state, axis=1)\n",
    "mb_next_states.append(_next_state)\n",
    "mb_actions.append(action)\n",
    "mb_dones.append(done)\n",
    "mb_clipped_rewards.append(reward)\n",
    "mb_action_probs.append(p)"
   ]
  },
  {
   "cell_type": "code",
   "execution_count": 9,
   "id": "2b36b868-d8ec-4a7c-b869-3a59ee2eb346",
   "metadata": {},
   "outputs": [
    {
     "data": {
      "text/plain": [
       "[array([[-0.04730239],\n",
       "        [-0.04990605],\n",
       "        [-0.03703809],\n",
       "        [-0.00909954]], dtype=float32),\n",
       " array([[-0.04730239],\n",
       "        [-0.04990605],\n",
       "        [-0.03703809],\n",
       "        [-0.00909954]], dtype=float32)]"
      ]
     },
     "execution_count": 9,
     "metadata": {},
     "output_type": "execute_result"
    }
   ],
   "source": [
    "mb_states"
   ]
  },
  {
   "cell_type": "code",
   "execution_count": 15,
   "id": "b48dba87-4499-4a33-8d8d-12a702074eb5",
   "metadata": {},
   "outputs": [
    {
     "data": {
      "text/plain": [
       "array([[1.]])"
      ]
     },
     "execution_count": 15,
     "metadata": {},
     "output_type": "execute_result"
    }
   ],
   "source": [
    "dr=np.vstack(mb_clipped_rewards)\n",
    "class rr:\n",
    "    def discount_rewards(self, rewards, gamma):\n",
    "        \"\"\"take 1D float array of rewards and compute discounted reward\"\"\"\n",
    "        r = rewards\n",
    "        discounted_r = np.zeros_like(r)\n",
    "        running_add = 0\n",
    "        for t in reversed(range(0, r.size)):\n",
    "            if r[t] != 0:\n",
    "                running_add = (\n",
    "                    0  # reset the sum, since this was a game boundary (pong specific!)\n",
    "                )\n",
    "            running_add = running_add * gamma + r[t]\n",
    "            discounted_r[t] = running_add\n",
    "\n",
    "        #discounted_r -= np.mean(discounted_r)\n",
    "        #print(discounted_r)\n",
    "        #discounted_r /= np.std(discounted_r)\n",
    "        return discounted_r\n",
    "    \n",
    "rr().discount_rewards(dr,0.99)"
   ]
  },
  {
   "cell_type": "code",
   "execution_count": 12,
   "id": "5f0d1bd8-c17b-438f-89d6-f44305f1d51a",
   "metadata": {},
   "outputs": [
    {
     "data": {
      "text/plain": [
       "array([[-0.04730239, -0.04730239],\n",
       "       [-0.04990605, -0.04990605],\n",
       "       [-0.03703809, -0.03703809],\n",
       "       [-0.00909954, -0.00909954]], dtype=float32)"
      ]
     },
     "execution_count": 12,
     "metadata": {},
     "output_type": "execute_result"
    }
   ],
   "source": [
    "np.hstack(mb_states)"
   ]
  },
  {
   "cell_type": "code",
   "execution_count": 10,
   "id": "526ae399-db67-4dd2-a384-002b4759b57e",
   "metadata": {},
   "outputs": [
    {
     "ename": "ValueError",
     "evalue": "matmul: Input operand 1 has a mismatch in its core dimension 0, with gufunc signature (n?,k),(k,m?)->(n?,m?) (size 2 is different from 1)",
     "output_type": "error",
     "traceback": [
      "\u001b[0;31m---------------------------------------------------------------------------\u001b[0m",
      "\u001b[0;31mValueError\u001b[0m                                Traceback (most recent call last)",
      "Cell \u001b[0;32mIn[10], line 1\u001b[0m\n\u001b[0;32m----> 1\u001b[0m \u001b[43mtest\u001b[49m\u001b[38;5;241;43m.\u001b[39;49m\u001b[43mlearn\u001b[49m\u001b[43m(\u001b[49m\u001b[43mstates\u001b[49m\u001b[43m \u001b[49m\u001b[38;5;241;43m=\u001b[39;49m\u001b[43mmb_states\u001b[49m\u001b[43m \u001b[49m\u001b[43m,\u001b[49m\u001b[43m \u001b[49m\n\u001b[1;32m      2\u001b[0m \u001b[43m           \u001b[49m\u001b[43mactions\u001b[49m\u001b[38;5;241;43m=\u001b[39;49m\u001b[43mmb_actions\u001b[49m\u001b[43m,\u001b[49m\u001b[43m \u001b[49m\n\u001b[1;32m      3\u001b[0m \u001b[43m           \u001b[49m\u001b[43maction_probs\u001b[49m\u001b[38;5;241;43m=\u001b[39;49m\u001b[43mmb_action_probs\u001b[49m\u001b[43m,\u001b[49m\n\u001b[1;32m      4\u001b[0m \u001b[43m           \u001b[49m\u001b[43mnext_states\u001b[49m\u001b[38;5;241;43m=\u001b[39;49m\u001b[43mmb_next_states\u001b[49m\u001b[43m,\u001b[49m\u001b[43m \u001b[49m\n\u001b[1;32m      5\u001b[0m \u001b[43m           \u001b[49m\u001b[43mrewards\u001b[49m\u001b[38;5;241;43m=\u001b[39;49m\u001b[43mmb_clipped_rewards\u001b[49m\u001b[43m,\u001b[49m\u001b[43m \u001b[49m\n\u001b[1;32m      6\u001b[0m \u001b[43m           \u001b[49m\u001b[43mdones\u001b[49m\u001b[38;5;241;43m=\u001b[39;49m\u001b[43mmb_dones\u001b[49m\u001b[43m)\u001b[49m\n",
      "File \u001b[0;32m~/miniconda3/lib/python3.8/site-packages/minirl/algos/a2c.py:74\u001b[0m, in \u001b[0;36mA2C.learn\u001b[0;34m(self, states, actions, action_probs, next_states, rewards, dones, target)\u001b[0m\n\u001b[1;32m     70\u001b[0m td_errors \u001b[38;5;241m=\u001b[39m mb_targets \u001b[38;5;241m-\u001b[39m values\n\u001b[1;32m     72\u001b[0m init_gradient \u001b[38;5;241m=\u001b[39m init_gradient \u001b[38;5;241m*\u001b[39m td_errors\n\u001b[0;32m---> 74\u001b[0m \u001b[38;5;28;43mself\u001b[39;49m\u001b[38;5;241;43m.\u001b[39;49m\u001b[43mcritic\u001b[49m\u001b[38;5;241;43m.\u001b[39;49m\u001b[43mtrain\u001b[49m\u001b[43m(\u001b[49m\u001b[43mmb_states\u001b[49m\u001b[43m,\u001b[49m\u001b[43m \u001b[49m\u001b[43mmb_targets\u001b[49m\u001b[43m)\u001b[49m\n\u001b[1;32m     75\u001b[0m \u001b[38;5;28mself\u001b[39m\u001b[38;5;241m.\u001b[39mactor\u001b[38;5;241m.\u001b[39mtrain(mb_states, actions, action_gradient\u001b[38;5;241m=\u001b[39minit_gradient)\n",
      "File \u001b[0;32m~/miniconda3/lib/python3.8/site-packages/minirl/agents/base.py:108\u001b[0m, in \u001b[0;36mCritic.train\u001b[0;34m(self, state, target)\u001b[0m\n\u001b[1;32m    106\u001b[0m \u001b[38;5;28;01mdef\u001b[39;00m \u001b[38;5;21mtrain\u001b[39m(\u001b[38;5;28mself\u001b[39m, state, target):\n\u001b[1;32m    107\u001b[0m     \u001b[38;5;66;03m# self.optimiser.train(np.vstack((state, action)), target)\u001b[39;00m\n\u001b[0;32m--> 108\u001b[0m     \u001b[38;5;28;43mself\u001b[39;49m\u001b[38;5;241;43m.\u001b[39;49m\u001b[43moptimiser\u001b[49m\u001b[38;5;241;43m.\u001b[39;49m\u001b[43mtrain\u001b[49m\u001b[43m(\u001b[49m\u001b[43mstate\u001b[49m\u001b[43m,\u001b[49m\u001b[43m \u001b[49m\u001b[43mtarget\u001b[49m\u001b[43m)\u001b[49m\n",
      "File \u001b[0;32m~/miniconda3/lib/python3.8/site-packages/minirl/models/optim.py:84\u001b[0m, in \u001b[0;36mAdam.train\u001b[0;34m(self, x, target, num_epochs, init_gradient, learning_rate)\u001b[0m\n\u001b[1;32m     79\u001b[0m     batch_init_gradient \u001b[38;5;241m=\u001b[39m batch_init_gradient \u001b[38;5;241m*\u001b[39m \u001b[38;5;28mself\u001b[39m\u001b[38;5;241m.\u001b[39mloss_fcn_deriv(\n\u001b[1;32m     80\u001b[0m         batch_target, batch_estimate\n\u001b[1;32m     81\u001b[0m     )\n\u001b[1;32m     83\u001b[0m \u001b[38;5;66;03m# Backpropagate errors and compute gradients\u001b[39;00m\n\u001b[0;32m---> 84\u001b[0m (nabla_w, nabla_b) \u001b[38;5;241m=\u001b[39m \u001b[38;5;28;43mself\u001b[39;49m\u001b[38;5;241;43m.\u001b[39;49m\u001b[43mneural_net\u001b[49m\u001b[38;5;241;43m.\u001b[39;49m\u001b[43mparameter_gradient\u001b[49m\u001b[43m(\u001b[49m\n\u001b[1;32m     85\u001b[0m \u001b[43m    \u001b[49m\u001b[43minit_gradient\u001b[49m\u001b[38;5;241;43m=\u001b[39;49m\u001b[43mbatch_init_gradient\u001b[49m\u001b[43m,\u001b[49m\n\u001b[1;32m     86\u001b[0m \u001b[43m    \u001b[49m\u001b[43mact_loss_merged\u001b[49m\u001b[38;5;241;43m=\u001b[39;49m\u001b[38;5;28;43mself\u001b[39;49m\u001b[38;5;241;43m.\u001b[39;49m\u001b[43mact_loss_merged\u001b[49m\u001b[43m,\u001b[49m\n\u001b[1;32m     87\u001b[0m \u001b[43m\u001b[49m\u001b[43m)\u001b[49m\n\u001b[1;32m     88\u001b[0m \u001b[38;5;66;03m#                print(nabla_w)\u001b[39;00m\n\u001b[1;32m     89\u001b[0m \u001b[38;5;66;03m#                sys.exit(0)\u001b[39;00m\n\u001b[1;32m     90\u001b[0m \u001b[38;5;66;03m#                new_nabla_w = []\u001b[39;00m\n\u001b[0;32m   (...)\u001b[0m\n\u001b[1;32m    107\u001b[0m \n\u001b[1;32m    108\u001b[0m \u001b[38;5;66;03m# correct with momentum\u001b[39;00m\n\u001b[1;32m    109\u001b[0m \u001b[38;5;28mself\u001b[39m\u001b[38;5;241m.\u001b[39mm_weights \u001b[38;5;241m=\u001b[39m [\n\u001b[1;32m    110\u001b[0m     \u001b[38;5;28mself\u001b[39m\u001b[38;5;241m.\u001b[39mB1 \u001b[38;5;241m*\u001b[39m m \u001b[38;5;241m+\u001b[39m (\u001b[38;5;241m1\u001b[39m \u001b[38;5;241m-\u001b[39m \u001b[38;5;28mself\u001b[39m\u001b[38;5;241m.\u001b[39mB1) \u001b[38;5;241m*\u001b[39m dw\n\u001b[1;32m    111\u001b[0m     \u001b[38;5;28;01mfor\u001b[39;00m m, dw \u001b[38;5;129;01min\u001b[39;00m \u001b[38;5;28mzip\u001b[39m(\u001b[38;5;28mself\u001b[39m\u001b[38;5;241m.\u001b[39mm_weights, nabla_w)\n\u001b[1;32m    112\u001b[0m ]\n",
      "File \u001b[0;32m~/miniconda3/lib/python3.8/site-packages/minirl/models/nn.py:83\u001b[0m, in \u001b[0;36mNeuralNetwork.parameter_gradient\u001b[0;34m(self, weights, biases, init_gradient, act_loss_merged)\u001b[0m\n\u001b[1;32m     81\u001b[0m \u001b[38;5;28;01mfor\u001b[39;00m l \u001b[38;5;129;01min\u001b[39;00m \u001b[38;5;28mrange\u001b[39m(\u001b[38;5;241m2\u001b[39m, \u001b[38;5;28mself\u001b[39m\u001b[38;5;241m.\u001b[39mnum_layers):\n\u001b[1;32m     82\u001b[0m     z \u001b[38;5;241m=\u001b[39m \u001b[38;5;28mself\u001b[39m\u001b[38;5;241m.\u001b[39mzs[\u001b[38;5;241m-\u001b[39ml]\n\u001b[0;32m---> 83\u001b[0m     delta \u001b[38;5;241m=\u001b[39m (\u001b[43mweights\u001b[49m\u001b[43m[\u001b[49m\u001b[38;5;241;43m-\u001b[39;49m\u001b[43ml\u001b[49m\u001b[43m \u001b[49m\u001b[38;5;241;43m+\u001b[39;49m\u001b[43m \u001b[49m\u001b[38;5;241;43m1\u001b[39;49m\u001b[43m]\u001b[49m\u001b[38;5;241;43m.\u001b[39;49m\u001b[43mtranspose\u001b[49m\u001b[43m(\u001b[49m\u001b[43m)\u001b[49m\u001b[43m \u001b[49m\u001b[38;5;241;43m@\u001b[39;49m\u001b[43m \u001b[49m\u001b[43mdelta\u001b[49m) \u001b[38;5;241m*\u001b[39m \u001b[38;5;28mself\u001b[39m\u001b[38;5;241m.\u001b[39mact_fcn_deriv[\u001b[38;5;241m-\u001b[39ml](z)\n\u001b[1;32m     84\u001b[0m     nabla_w[\u001b[38;5;241m-\u001b[39ml] \u001b[38;5;241m=\u001b[39m (\n\u001b[1;32m     85\u001b[0m         delta \u001b[38;5;241m@\u001b[39m \u001b[38;5;28mself\u001b[39m\u001b[38;5;241m.\u001b[39mactivations[\u001b[38;5;241m-\u001b[39ml \u001b[38;5;241m-\u001b[39m \u001b[38;5;241m1\u001b[39m]\u001b[38;5;241m.\u001b[39mtranspose()\n\u001b[1;32m     86\u001b[0m         \u001b[38;5;241m+\u001b[39m \u001b[38;5;28mself\u001b[39m\u001b[38;5;241m.\u001b[39mreg \u001b[38;5;241m*\u001b[39m \u001b[38;5;28mself\u001b[39m\u001b[38;5;241m.\u001b[39mweights[\u001b[38;5;241m-\u001b[39ml]\n\u001b[1;32m     87\u001b[0m     )\n\u001b[1;32m     88\u001b[0m     nabla_b[\u001b[38;5;241m-\u001b[39ml] \u001b[38;5;241m=\u001b[39m np\u001b[38;5;241m.\u001b[39msum(delta, axis\u001b[38;5;241m=\u001b[39m\u001b[38;5;241m1\u001b[39m, keepdims\u001b[38;5;241m=\u001b[39m\u001b[38;5;28;01mTrue\u001b[39;00m)\n",
      "\u001b[0;31mValueError\u001b[0m: matmul: Input operand 1 has a mismatch in its core dimension 0, with gufunc signature (n?,k),(k,m?)->(n?,m?) (size 2 is different from 1)"
     ]
    }
   ],
   "source": [
    "test.learn(states =mb_states , \n",
    "           actions=mb_actions, \n",
    "           action_probs=mb_action_probs,\n",
    "           next_states=mb_next_states, \n",
    "           rewards=mb_clipped_rewards, \n",
    "           dones=mb_dones)"
   ]
  },
  {
   "cell_type": "code",
   "execution_count": 5,
   "id": "2aeb6dde-16f2-4961-899e-18b7f6e13dd9",
   "metadata": {},
   "outputs": [
    {
     "data": {
      "text/plain": [
       "array([[1]])"
      ]
     },
     "execution_count": 5,
     "metadata": {},
     "output_type": "execute_result"
    }
   ],
   "source": [
    "import numpy as np\n",
    "env_action_max = (-1, 1)[1]\n",
    "np.expand_dims([env_action_max], axis=1)"
   ]
  }
 ],
 "metadata": {
  "kernelspec": {
   "display_name": "Python 3 (ipykernel)",
   "language": "python",
   "name": "python3"
  },
  "language_info": {
   "codemirror_mode": {
    "name": "ipython",
    "version": 3
   },
   "file_extension": ".py",
   "mimetype": "text/x-python",
   "name": "python",
   "nbconvert_exporter": "python",
   "pygments_lexer": "ipython3",
   "version": "3.8.15"
  }
 },
 "nbformat": 4,
 "nbformat_minor": 5
}
