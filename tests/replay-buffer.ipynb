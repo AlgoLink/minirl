{
 "cells": [
  {
   "cell_type": "code",
   "execution_count": 1,
   "id": "4f1b4a72-3f48-4145-8657-43a1a75eca0e",
   "metadata": {},
   "outputs": [],
   "source": [
    "from minirl.utils.buffer import CRM"
   ]
  },
  {
   "cell_type": "code",
   "execution_count": 2,
   "id": "bd393233",
   "metadata": {},
   "outputs": [],
   "source": [
    "test=CRM(2)\n",
    "test.push(([1,2],1,1.1,False))\n"
   ]
  },
  {
   "cell_type": "code",
   "execution_count": 3,
   "id": "4fd8857c",
   "metadata": {},
   "outputs": [],
   "source": [
    "test.push(([1,5],1,1.1,False))"
   ]
  },
  {
   "cell_type": "code",
   "execution_count": 4,
   "id": "9325a0aa",
   "metadata": {},
   "outputs": [
    {
     "data": {
      "text/plain": [
       "[([1, 2], 1, 1.1, False), ([1, 5], 1, 1.1, False)]"
      ]
     },
     "execution_count": 4,
     "metadata": {},
     "output_type": "execute_result"
    }
   ],
   "source": [
    "test.memory"
   ]
  },
  {
   "cell_type": "code",
   "execution_count": 5,
   "id": "1649d637",
   "metadata": {},
   "outputs": [
    {
     "data": {
      "text/plain": [
       "[([1, 2], 1, 1.1, False), ([1, 5], 1, 1.1, False)]"
      ]
     },
     "execution_count": 5,
     "metadata": {},
     "output_type": "execute_result"
    }
   ],
   "source": [
    "test.sample(4)\n"
   ]
  },
  {
   "cell_type": "code",
   "execution_count": 10,
   "id": "7d0d18a5",
   "metadata": {},
   "outputs": [
    {
     "data": {
      "text/plain": [
       "True"
      ]
     },
     "execution_count": 10,
     "metadata": {},
     "output_type": "execute_result"
    }
   ],
   "source": [
    "test.memory_full()"
   ]
  },
  {
   "cell_type": "code",
   "execution_count": 9,
   "id": "3c7231c8",
   "metadata": {},
   "outputs": [
    {
     "data": {
      "text/plain": [
       "[([1, 2], 1, 1.1, False), ([1, 5], 1, 1.1, False)]"
      ]
     },
     "execution_count": 9,
     "metadata": {},
     "output_type": "execute_result"
    }
   ],
   "source": [
    "test.get_lst_samples(7)\n"
   ]
  },
  {
   "cell_type": "code",
   "execution_count": 11,
   "id": "25b93468",
   "metadata": {},
   "outputs": [
    {
     "name": "stdout",
     "output_type": "stream",
     "text": [
      "2023-05-06 16:38:00 [info     ] APIs of mlopskit               model_name=feature_store model_version=1 ops_type=cache\n",
      "2023-05-06 16:38:00 [info     ] The list of all versions for the current model is \u001b[42;1m[1, 2]\u001b[0m.\n",
      "2023-05-06 16:38:00 [warning  ] The version 1 is out of date. You should consider upgrading to version `v2`.\n",
      "2023-05-06 16:38:00 [info     ] Usage of mlopskit-cache        Params=\u001b[36;1m{'db_type': 'rlite/redis/sfdb/diskcache, default:rlite', 'return_type': 'dblink/dbobj, default: dbobj', 'db_name': 'default: rlite_model.cache'}\u001b[0m\n"
     ]
    }
   ],
   "source": [
    "from mlopskit import make\n",
    "\n",
    "test2 = make(\"cache/feature_store-v1\",db_name=\"l.db\")\n"
   ]
  },
  {
   "cell_type": "code",
   "execution_count": 21,
   "id": "e27f433d",
   "metadata": {},
   "outputs": [],
   "source": [
    "import numpy as np\n",
    "params = {}\n",
    "ob_n=50\n",
    "H=200\n",
    "ac_n = 10\n",
    "\n",
    "params[\"W1\"] = (-1 + 2 * np.random.rand(ob_n, H)) / np.sqrt(ob_n)\n",
    "params[\"b1\"] = np.zeros(H)\n",
    "params[\"W2\"] = (-1 + 2 * np.random.rand(H, ac_n)) / np.sqrt(H)\n",
    "params[\"b2\"] = np.zeros(ac_n)"
   ]
  },
  {
   "cell_type": "code",
   "execution_count": 24,
   "id": "4b7108a0",
   "metadata": {},
   "outputs": [
    {
     "name": "stdout",
     "output_type": "stream",
     "text": [
      "CPU times: user 399 µs, sys: 955 µs, total: 1.35 ms\n",
      "Wall time: 1.63 ms\n"
     ]
    },
    {
     "data": {
      "text/plain": [
       "True"
      ]
     },
     "execution_count": 24,
     "metadata": {},
     "output_type": "execute_result"
    }
   ],
   "source": [
    "%%time\n",
    "import pickle\n",
    "t=pickle.dumps(params)\n",
    "test2.set(\"model\",t)\n"
   ]
  },
  {
   "cell_type": "code",
   "execution_count": 27,
   "id": "aabf1fd5",
   "metadata": {},
   "outputs": [
    {
     "name": "stdout",
     "output_type": "stream",
     "text": [
      "CPU times: user 189 µs, sys: 431 µs, total: 620 µs\n",
      "Wall time: 816 µs\n"
     ]
    },
    {
     "data": {
      "text/plain": [
       "(50, 200)"
      ]
     },
     "execution_count": 27,
     "metadata": {},
     "output_type": "execute_result"
    }
   ],
   "source": [
    "%%time\n",
    "tt=test2.get(\"model\")\n",
    "pickle.loads(tt)[\"W1\"].shape"
   ]
  }
 ],
 "metadata": {
  "kernelspec": {
   "display_name": "base",
   "language": "python",
   "name": "python3"
  },
  "language_info": {
   "codemirror_mode": {
    "name": "ipython",
    "version": 3
   },
   "file_extension": ".py",
   "mimetype": "text/x-python",
   "name": "python",
   "nbconvert_exporter": "python",
   "pygments_lexer": "ipython3",
   "version": "3.8.15 (default, Nov 24 2022, 08:57:44) \n[Clang 14.0.6 ]"
  },
  "vscode": {
   "interpreter": {
    "hash": "f06f4baf162c1bba868b3ed890ca059fd0c13f705dc9d48413e36c65b86dd60d"
   }
  }
 },
 "nbformat": 4,
 "nbformat_minor": 5
}
