{
 "cells": [
  {
   "cell_type": "code",
   "execution_count": 73,
   "id": "05934972-2fa5-4a06-8bf1-0d71b8f2bec4",
   "metadata": {},
   "outputs": [],
   "source": [
    "import matplotlib.pyplot as plt\n",
    "import numpy as np\n",
    "from tqdm import tqdm\n",
    "import random\n",
    "import time\n",
    "\n",
    "\n",
    "class CliffWalkingEnv:\n",
    "    def __init__(self, ncol, nrow):\n",
    "        self.nrow = nrow\n",
    "        self.ncol = ncol\n",
    "        self.x = 0  # 记录当前智能体位置的横坐标\n",
    "        self.y = self.nrow - 1  # 记录当前智能体位置的纵坐标\n",
    "\n",
    "    def step(self, action):  # 外部调用这个函数来改变当前位置\n",
    "        # 4种动作, change[0]:上, change[1]:下, change[2]:左, change[3]:右。坐标系原点(0,0)\n",
    "        # 定义在左上角\n",
    "        change = [[0, -1], [0, 1], [-1, 0], [1, 0]]\n",
    "        self.x = min(self.ncol - 1, max(0, self.x + change[action][0]))\n",
    "        self.y = min(self.nrow - 1, max(0, self.y + change[action][1]))\n",
    "        next_state = self.y * self.ncol + self.x\n",
    "        reward = -1\n",
    "        done = False\n",
    "        if self.y == self.nrow - 1 and self.x > 0:  # 下一个位置在悬崖或者目标\n",
    "            done = True\n",
    "            if self.x != self.ncol - 1:\n",
    "                reward = -100\n",
    "        return next_state, reward, done\n",
    "\n",
    "    def reset(self):  # 回归初始状态,起点在左上角\n",
    "        self.x = 0\n",
    "        self.y = self.nrow - 1\n",
    "        return self.y * self.ncol + self.x"
   ]
  },
  {
   "cell_type": "code",
   "execution_count": 74,
   "id": "a6bec042-ecae-47f9-98c4-329943bb9b65",
   "metadata": {},
   "outputs": [],
   "source": [
    "class DynaQ:\n",
    "    \"\"\" Dyna-Q算法 \"\"\"\n",
    "    def __init__(self,\n",
    "                 ncol,\n",
    "                 nrow,\n",
    "                 epsilon,\n",
    "                 alpha,\n",
    "                 gamma,\n",
    "                 n_planning,\n",
    "                 n_action=4):\n",
    "        self.Q_table = np.zeros([nrow * ncol, n_action])  # 初始化Q(s,a)表格\n",
    "        self.n_action = n_action  # 动作个数\n",
    "        self.alpha = alpha  # 学习率\n",
    "        self.gamma = gamma  # 折扣因子\n",
    "        self.epsilon = epsilon  # epsilon-贪婪策略中的参数\n",
    "\n",
    "        self.n_planning = n_planning  #执行Q-planning的次数, 对应1次Q-learning\n",
    "        self.model = dict()  # 环境模型\n",
    "\n",
    "    def take_action(self, state):  # 选取下一步的操作\n",
    "        if np.random.random() < self.epsilon:\n",
    "            action = np.random.randint(self.n_action)\n",
    "        else:\n",
    "            action = np.argmax(self.Q_table[state])\n",
    "        return action\n",
    "\n",
    "    def q_learning(self, s0, a0, r, s1):\n",
    "        td_error = r + self.gamma * self.Q_table[s1].max(\n",
    "        ) - self.Q_table[s0, a0]\n",
    "        self.Q_table[s0, a0] += self.alpha * td_error\n",
    "\n",
    "    def update(self, s0, a0, r, s1):\n",
    "        self.q_learning(s0, a0, r, s1)\n",
    "        self.model[(s0, a0)] = r, s1  # 将数据添加到模型中\n",
    "        for _ in range(self.n_planning):  # Q-planning循环\n",
    "            # 随机选择曾经遇到过的状态动作对\n",
    "            (s, a), (r, s_) = random.choice(list(self.model.items()))\n",
    "            self.q_learning(s, a, r, s_)"
   ]
  },
  {
   "cell_type": "code",
   "execution_count": 75,
   "id": "e255ece6-c600-40ac-b866-4fa8eec4099d",
   "metadata": {},
   "outputs": [
    {
     "name": "stdout",
     "output_type": "stream",
     "text": [
      "Q-planning步数为：0\n"
     ]
    },
    {
     "name": "stderr",
     "output_type": "stream",
     "text": [
      "Iteration 0: 100%|█| 30/30 [00:00<00:00, 171.74it/s, episode=30, return=-138.400\n",
      "Iteration 1: 100%|█| 30/30 [00:00<00:00, 1051.89it/s, episode=60, return=-64.100\n",
      "Iteration 2: 100%|█| 30/30 [00:00<00:00, 3109.73it/s, episode=90, return=-46.000\n",
      "Iteration 3: 100%|█| 30/30 [00:00<00:00, 744.51it/s, episode=120, return=-38.000\n",
      "Iteration 4: 100%|█| 30/30 [00:00<00:00, 3940.16it/s, episode=150, return=-28.60\n",
      "Iteration 5: 100%|█| 30/30 [00:00<00:00, 4960.35it/s, episode=180, return=-25.30\n",
      "Iteration 6: 100%|█| 30/30 [00:00<00:00, 2464.68it/s, episode=210, return=-23.60\n",
      "Iteration 7: 100%|█| 30/30 [00:00<00:00, 5826.50it/s, episode=240, return=-20.10\n",
      "Iteration 8: 100%|█| 30/30 [00:00<00:00, 7192.29it/s, episode=270, return=-17.10\n",
      "Iteration 9: 100%|█| 30/30 [00:00<00:00, 7705.87it/s, episode=300, return=-16.50\n"
     ]
    },
    {
     "name": "stdout",
     "output_type": "stream",
     "text": [
      "Q-planning步数为：2\n"
     ]
    },
    {
     "name": "stderr",
     "output_type": "stream",
     "text": [
      "Iteration 0: 100%|█| 30/30 [00:00<00:00, 1415.23it/s, episode=30, return=-53.800\n",
      "Iteration 1: 100%|█| 30/30 [00:00<00:00, 1965.68it/s, episode=60, return=-37.100\n",
      "Iteration 2: 100%|█| 30/30 [00:00<00:00, 2462.26it/s, episode=90, return=-23.600\n",
      "Iteration 3: 100%|█| 30/30 [00:00<00:00, 3204.12it/s, episode=120, return=-18.50\n",
      "Iteration 4: 100%|█| 30/30 [00:00<00:00, 3485.19it/s, episode=150, return=-16.40\n",
      "Iteration 5: 100%|█| 30/30 [00:00<00:00, 3821.69it/s, episode=180, return=-16.40\n",
      "Iteration 6: 100%|█| 30/30 [00:00<00:00, 3912.96it/s, episode=210, return=-13.40\n",
      "Iteration 7: 100%|█| 30/30 [00:00<00:00, 4415.68it/s, episode=240, return=-13.20\n",
      "Iteration 8: 100%|█| 30/30 [00:00<00:00, 3844.58it/s, episode=270, return=-13.20\n",
      "Iteration 9: 100%|█| 30/30 [00:00<00:00, 4433.88it/s, episode=300, return=-13.50\n"
     ]
    },
    {
     "name": "stdout",
     "output_type": "stream",
     "text": [
      "Q-planning步数为：20\n"
     ]
    },
    {
     "name": "stderr",
     "output_type": "stream",
     "text": [
      "Iteration 0: 100%|█| 30/30 [00:00<00:00, 606.60it/s, episode=30, return=-18.500]\n",
      "Iteration 1: 100%|█| 30/30 [00:00<00:00, 938.26it/s, episode=60, return=-13.600]\n",
      "Iteration 2: 100%|█| 30/30 [00:00<00:00, 1009.59it/s, episode=90, return=-13.000\n",
      "Iteration 3: 100%|█| 30/30 [00:00<00:00, 985.77it/s, episode=120, return=-13.500\n",
      "Iteration 4: 100%|█| 30/30 [00:00<00:00, 978.89it/s, episode=150, return=-13.500\n",
      "Iteration 5: 100%|█| 30/30 [00:00<00:00, 974.88it/s, episode=180, return=-13.000\n",
      "Iteration 6: 100%|█| 30/30 [00:00<00:00, 1009.66it/s, episode=210, return=-22.00\n",
      "Iteration 7: 100%|█| 30/30 [00:00<00:00, 972.55it/s, episode=240, return=-23.200\n",
      "Iteration 8: 100%|█| 30/30 [00:00<00:00, 990.81it/s, episode=270, return=-13.000\n",
      "Iteration 9: 100%|█| 30/30 [00:00<00:00, 998.00it/s, episode=300, return=-13.400\n"
     ]
    },
    {
     "data": {
      "image/png": "[encoded data removed]",
      "text/plain": [
       "<Figure size 640x480 with 1 Axes>"
      ]
     },
     "metadata": {},
     "output_type": "display_data"
    }
   ],
   "source": [
    "def DynaQ_CliffWalking(n_planning):\n",
    "    ncol = 12\n",
    "    nrow = 4\n",
    "    env = CliffWalkingEnv(ncol, nrow)\n",
    "    epsilon = 0.01\n",
    "    alpha = 0.1\n",
    "    gamma = 0.9\n",
    "    agent = DynaQ(ncol, nrow, epsilon, alpha, gamma, n_planning)\n",
    "    num_episodes = 300  # 智能体在环境中运行多少条序列\n",
    "\n",
    "    return_list = []  # 记录每一条序列的回报\n",
    "    for i in range(10):  # 显示10个进度条\n",
    "        # tqdm的进度条功能\n",
    "        with tqdm(total=int(num_episodes / 10),\n",
    "                  desc='Iteration %d' % i) as pbar:\n",
    "            for i_episode in range(int(num_episodes / 10)):  # 每个进度条的序列数\n",
    "                episode_return = 0\n",
    "                state = env.reset()\n",
    "                done = False\n",
    "                while not done:\n",
    "                    action = agent.take_action(state)\n",
    "                    next_state, reward, done = env.step(action)\n",
    "                    episode_return += reward  # 这里回报的计算不进行折扣因子衰减\n",
    "                    agent.update(state, action, reward, next_state)\n",
    "                    state = next_state\n",
    "                return_list.append(episode_return)\n",
    "                if (i_episode + 1) % 10 == 0:  # 每10条序列打印一下这10条序列的平均回报\n",
    "                    pbar.set_postfix({\n",
    "                        'episode':\n",
    "                        '%d' % (num_episodes / 10 * i + i_episode + 1),\n",
    "                        'return':\n",
    "                        '%.3f' % np.mean(return_list[-10:])\n",
    "                    })\n",
    "                pbar.update(1)\n",
    "    return return_list\n",
    "\n",
    "np.random.seed(0)\n",
    "random.seed(0)\n",
    "n_planning_list = [0, 2, 20]\n",
    "for n_planning in n_planning_list:\n",
    "    print('Q-planning步数为：%d' % n_planning)\n",
    "    time.sleep(0.5)\n",
    "    return_list = DynaQ_CliffWalking(n_planning)\n",
    "    episodes_list = list(range(len(return_list)))\n",
    "    plt.plot(episodes_list,\n",
    "             return_list,\n",
    "             label=str(n_planning) + ' planning steps')\n",
    "plt.legend()\n",
    "plt.xlabel('Episodes')\n",
    "plt.ylabel('Returns')\n",
    "plt.title('Dyna-Q on {}'.format('Cliff Walking'))\n",
    "plt.show()"
   ]
  },
  {
   "cell_type": "code",
   "execution_count": 2,
   "id": "3d6a0c79-d20e-4ee4-b0ad-5beef9cf51cd",
   "metadata": {},
   "outputs": [],
   "source": [
    "from minirl.core.dynaQ import DynaQ\n",
    "import hirlite\n",
    "\n",
    "tdb = hirlite.Rlite(encoding='utf8',path=\"test.db\")"
   ]
  },
  {
   "cell_type": "code",
   "execution_count": 72,
   "id": "529d9304-ce24-4f8b-a7e9-0ea86fa10ea6",
   "metadata": {},
   "outputs": [
    {
     "ename": "NameError",
     "evalue": "name 'agent' is not defined",
     "output_type": "error",
     "traceback": [
      "\u001b[0;31m---------------------------------------------------------------------------\u001b[0m",
      "\u001b[0;31mNameError\u001b[0m                                 Traceback (most recent call last)",
      "Cell \u001b[0;32mIn[72], line 1\u001b[0m\n\u001b[0;32m----> 1\u001b[0m \u001b[43magent\u001b[49m\u001b[38;5;241m.\u001b[39mget_rewards(\u001b[38;5;124m\"\u001b[39m\u001b[38;5;124mlocal_model\u001b[39m\u001b[38;5;124m\"\u001b[39m)\n",
      "\u001b[0;31mNameError\u001b[0m: name 'agent' is not defined"
     ]
    }
   ],
   "source": [
    "agent.get_rewards(\"local_model\")"
   ]
  },
  {
   "cell_type": "code",
   "execution_count": 3,
   "id": "97d9634b-4bd9-4fbd-b9d7-f2066beb66fb",
   "metadata": {},
   "outputs": [],
   "source": [
    "def DynaQ_CliffWalking(n_planning):\n",
    "    ncol = 12\n",
    "    nrow = 4\n",
    "    env = CliffWalkingEnv(ncol, nrow)\n",
    "    epsilon = 0.01\n",
    "    alpha = 0.1\n",
    "    gamma = 0.9\n",
    "    state_space = [i for i in range(nrow * ncol)]\n",
    "    actions_list = [i for i in range(4)]\n",
    "    agent = DynaQ(state_space=state_space,\n",
    "        actions = actions_list,\n",
    "        alpha=0.1,\n",
    "        gamma=0.9,\n",
    "        random_seed=0,\n",
    "        eps=0.01,\n",
    "        model_db=tdb,\n",
    "        score_db=tdb,\n",
    "        his_db=tdb,\n",
    "        N=n_planning,  # no. of steps in planning phase\n",
    "        n=1,)\n",
    "    #agent = DynaQ(ncol, nrow, epsilon, alpha, gamma, n_planning)\n",
    "    num_episodes = 300  # 智能体在环境中运行多少条序列\n",
    "\n",
    "    return_list = []  # 记录每一条序列的回报\n",
    "    for i in range(10):  # 显示10个进度条\n",
    "        # tqdm的进度条功能\n",
    "        with tqdm(total=int(num_episodes / 10),\n",
    "                  desc='Iteration %d' % i) as pbar:\n",
    "            for i_episode in range(int(num_episodes / 10)):  # 每个进度条的序列数\n",
    "                episode_return = 0\n",
    "                state = env.reset()\n",
    "\n",
    "                done = False\n",
    "                while not done:\n",
    "                    action = agent.act(state,\"local_model\",\"local_model\",use_doubleQ=False)\n",
    "                    #print(agent.model)\n",
    "                    #print(actions_list)\n",
    "                    #action = random.choice(actions_list)\n",
    "                    action = int(action)\n",
    "                    next_state, reward, done = env.step(action)\n",
    "                    #print(next_state,reward,type(reward))\n",
    "                    episode_return += reward  # 这里回报的计算不进行折扣因子衰减\n",
    "                    #agent.learn(state, reward, \"local_model\",\"local_model\",use_doubleQ=F,use_dyna=True)\n",
    "                    agent.update(state, action, reward, next_state,\"local_model\")\n",
    "                    model_id=\"local_model\"\n",
    "                    score_key1 = f\"{model_id}:{state}:Qscore1\"\n",
    "\n",
    "                    f=agent._score_db.zrange(score_key1,'0','0')\n",
    "                    #print(f,score_key1)\n",
    "                    state = next_state\n",
    "                return_list.append(episode_return)\n",
    "                if (i_episode + 1) % 10 == 0:  # 每10条序列打印一下这10条序列的平均回报\n",
    "                    pbar.set_postfix({\n",
    "                        'episode':\n",
    "                        '%d' % (num_episodes / 10 * i + i_episode + 1),\n",
    "                        'return':\n",
    "                        '%.3f' % np.mean(return_list[-10:])\n",
    "                    })\n",
    "                pbar.update(1)\n",
    "    return return_list"
   ]
  },
  {
   "cell_type": "code",
   "execution_count": 4,
   "id": "76bf01ab-69de-4faa-b4f6-ea6513c23a8e",
   "metadata": {},
   "outputs": [
    {
     "name": "stdout",
     "output_type": "stream",
     "text": [
      "Q-planning步数为：20\n",
      "simple two layer neural network based on numpy\n",
      "creating nn: #input:20 #hidden:64 #output:[0, 1, 2, 3]\n"
     ]
    },
    {
     "name": "stderr",
     "output_type": "stream",
     "text": [
      "Iteration 0: 100%|█| 30/30 [01:59<00:00,  4.00s/it, episode=30, return=-376.300]\n",
      "Iteration 1: 100%|█| 30/30 [02:30<00:00,  5.03s/it, episode=60, return=-526.900]\n",
      "Iteration 2: 100%|█| 30/30 [01:39<00:00,  3.30s/it, episode=90, return=-391.700]\n",
      "Iteration 3: 100%|█| 30/30 [05:37<00:00, 11.25s/it, episode=120, return=-794.200\n",
      "Iteration 4: 100%|█| 30/30 [05:05<00:00, 10.17s/it, episode=150, return=-104.600\n",
      "Iteration 5: 100%|█| 30/30 [00:08<00:00,  3.68it/s, episode=180, return=-17.200]\n",
      "Iteration 6: 100%|█| 30/30 [00:08<00:00,  3.62it/s, episode=210, return=-17.200]\n",
      "Iteration 7: 100%|█| 30/30 [00:08<00:00,  3.65it/s, episode=240, return=-17.000]\n",
      "Iteration 8: 100%|█| 30/30 [00:08<00:00,  3.64it/s, episode=270, return=-26.800]\n",
      "Iteration 9: 100%|█| 30/30 [00:08<00:00,  3.65it/s, episode=300, return=-17.300]\n"
     ]
    },
    {
     "data": {
      "image/png": "[encoded data removed]",
      "text/plain": [
       "<Figure size 640x480 with 1 Axes>"
      ]
     },
     "metadata": {},
     "output_type": "display_data"
    }
   ],
   "source": [
    "np.random.seed(0)\n",
    "random.seed(0)\n",
    "n_planning_list = [20]\n",
    "for n_planning in n_planning_list:\n",
    "    print('Q-planning步数为：%d' % n_planning)\n",
    "    time.sleep(0.5)\n",
    "    return_list = DynaQ_CliffWalking(n_planning)\n",
    "    episodes_list = list(range(len(return_list)))\n",
    "    plt.plot(episodes_list,\n",
    "             return_list,\n",
    "             label=str(n_planning) + ' planning steps')\n",
    "plt.legend()\n",
    "plt.xlabel('Episodes')\n",
    "plt.ylabel('Returns')\n",
    "plt.title('Dyna-Q on {}'.format('Cliff Walking'))\n",
    "plt.show()"
   ]
  },
  {
   "cell_type": "code",
   "execution_count": 6,
   "id": "8831908c-a9fa-4edb-80be-308c2170615d",
   "metadata": {},
   "outputs": [
    {
     "name": "stdout",
     "output_type": "stream",
     "text": [
      "simple two layer neural network based on numpy\n",
      "creating nn: #input:20 #hidden:64 #output:[0, 1, 2, 3]\n"
     ]
    },
    {
     "data": {
      "text/plain": [
       "deque([], maxlen=2)"
      ]
     },
     "execution_count": 6,
     "metadata": {},
     "output_type": "execute_result"
    }
   ],
   "source": [
    "ncol = 12\n",
    "nrow = 4\n",
    "state_space = [i for i in range(nrow * ncol)]\n",
    "actions_list = [i for i in range(4)]\n",
    "agent = DynaQ(state_space=state_space,\n",
    "        actions = actions_list,\n",
    "        alpha=0.1,\n",
    "        gamma=0.9,\n",
    "        random_seed=0,\n",
    "        eps=0.2,\n",
    "        model_db=tdb,\n",
    "        score_db=tdb,\n",
    "        his_db=tdb,\n",
    "        N=2,  # no. of steps in planning phase\n",
    "        n=2,)\n",
    "agent.get_rewards(\"local_model\")"
   ]
  },
  {
   "cell_type": "code",
   "execution_count": 14,
   "id": "a13d9d57-8293-4c06-b0b0-25590a8e3a62",
   "metadata": {},
   "outputs": [
    {
     "data": {
      "text/plain": [
       "deque([], maxlen=2)"
      ]
     },
     "execution_count": 14,
     "metadata": {},
     "output_type": "execute_result"
    }
   ],
   "source": [
    "agent.get_rewards(\"local_model\")"
   ]
  },
  {
   "cell_type": "code",
   "execution_count": 25,
   "id": "a38a2745-9755-4fd1-bf95-e8ea649ac55d",
   "metadata": {},
   "outputs": [
    {
     "data": {
      "text/plain": [
       "float"
      ]
     },
     "execution_count": 25,
     "metadata": {},
     "output_type": "execute_result"
    }
   ],
   "source": [
    "t=agent.get_Q_state_value(\n",
    "            1, 1, \"local_model\", model_id_suffix=\"qvalue1\"\n",
    "        )\n",
    "\n",
    "type(t)"
   ]
  },
  {
   "cell_type": "code",
   "execution_count": 8,
   "id": "e1675c98-8071-460b-8d23-f363c0cc6b54",
   "metadata": {},
   "outputs": [
    {
     "data": {
      "text/plain": [
       "[]"
      ]
     },
     "execution_count": 8,
     "metadata": {},
     "output_type": "execute_result"
    }
   ],
   "source": [
    "model_id = \"local_model\"\n",
    "state = 36\n",
    "score_key1 = f\"{model_id}:{state}:Qscore1\"\n",
    "\n",
    "agent._score_db.zrange(score_key1,'0','0')"
   ]
  },
  {
   "cell_type": "code",
   "execution_count": 15,
   "id": "2fe189c1-30c4-4b29-8f7c-9df245756acb",
   "metadata": {},
   "outputs": [
    {
     "data": {
      "text/plain": [
       "[0]"
      ]
     },
     "execution_count": 15,
     "metadata": {},
     "output_type": "execute_result"
    }
   ],
   "source": [
    "np.random.choice([0,1,2,3],size=1).tolist()"
   ]
  },
  {
   "cell_type": "code",
   "execution_count": 22,
   "id": "1605dd76-eecc-4e46-aa38-c2e490557703",
   "metadata": {},
   "outputs": [
    {
     "data": {
      "text/plain": [
       "['a2']"
      ]
     },
     "execution_count": 22,
     "metadata": {},
     "output_type": "execute_result"
    }
   ],
   "source": [
    "agent._score_db.zrange(\"test\",'0','0')"
   ]
  },
  {
   "cell_type": "code",
   "execution_count": 11,
   "id": "080c3e34-9225-4d02-92d5-9c8d71246efa",
   "metadata": {},
   "outputs": [
    {
     "ename": "NameError",
     "evalue": "name 'agent' is not defined",
     "output_type": "error",
     "traceback": [
      "\u001b[0;31m---------------------------------------------------------------------------\u001b[0m",
      "\u001b[0;31mNameError\u001b[0m                                 Traceback (most recent call last)",
      "Cell \u001b[0;32mIn[11], line 1\u001b[0m\n\u001b[0;32m----> 1\u001b[0m \u001b[43magent\u001b[49m\u001b[38;5;241m.\u001b[39m_score_db\u001b[38;5;241m.\u001b[39mzadd(\u001b[38;5;124m\"\u001b[39m\u001b[38;5;124mtest\u001b[39m\u001b[38;5;124m\"\u001b[39m,\u001b[38;5;124m\"\u001b[39m\u001b[38;5;124m-10\u001b[39m\u001b[38;5;124m\"\u001b[39m,\u001b[38;5;124m\"\u001b[39m\u001b[38;5;124ma1\u001b[39m\u001b[38;5;124m\"\u001b[39m)\n\u001b[1;32m      2\u001b[0m agent\u001b[38;5;241m.\u001b[39m_score_db\u001b[38;5;241m.\u001b[39mzadd(\u001b[38;5;124m\"\u001b[39m\u001b[38;5;124mtest\u001b[39m\u001b[38;5;124m\"\u001b[39m,\u001b[38;5;124m\"\u001b[39m\u001b[38;5;124m-101\u001b[39m\u001b[38;5;124m\"\u001b[39m,\u001b[38;5;124m\"\u001b[39m\u001b[38;5;124ma2\u001b[39m\u001b[38;5;124m\"\u001b[39m)\n",
      "\u001b[0;31mNameError\u001b[0m: name 'agent' is not defined"
     ]
    }
   ],
   "source": [
    "agent._score_db.zadd(\"test\",\"-10\",\"a1\")\n",
    "agent._score_db.zadd(\"test\",\"-101\",\"a2\")"
   ]
  },
  {
   "cell_type": "code",
   "execution_count": 11,
   "id": "f81b4c3e-8239-43e5-8ace-726219b07510",
   "metadata": {},
   "outputs": [
    {
     "name": "stdout",
     "output_type": "stream",
     "text": [
      "0\n",
      "0\n",
      "0\n",
      "0\n",
      "0\n",
      "0\n",
      "1\n",
      "0\n",
      "0\n",
      "0\n"
     ]
    }
   ],
   "source": [
    "for i in range(10):\n",
    "    explore = np.random.binomial(1, 0.01)\n",
    "    print(explore)"
   ]
  },
  {
   "cell_type": "code",
   "execution_count": 12,
   "id": "70ddb5d4-4b04-4f50-ae40-7162af94d766",
   "metadata": {},
   "outputs": [
    {
     "data": {
      "text/plain": [
       "1"
      ]
     },
     "execution_count": 12,
     "metadata": {},
     "output_type": "execute_result"
    }
   ],
   "source": [
    "tdb.zadd(\"test\",\"-10\",\"a1\")"
   ]
  },
  {
   "cell_type": "code",
   "execution_count": 16,
   "id": "c39b7ab3-22c5-4f4f-a253-124a54d970f5",
   "metadata": {},
   "outputs": [
    {
     "data": {
      "text/plain": [
       "['a1']"
      ]
     },
     "execution_count": 16,
     "metadata": {},
     "output_type": "execute_result"
    }
   ],
   "source": [
    "tdb.zrange(\"test\",'0','0's)"
   ]
  },
  {
   "cell_type": "code",
   "execution_count": 46,
   "id": "17183b2d-a2db-4d0c-b940-3c4130856684",
   "metadata": {},
   "outputs": [],
   "source": [
    "import pickle"
   ]
  },
  {
   "cell_type": "code",
   "execution_count": 64,
   "id": "b6d0859e-20e8-4a9c-805b-631a27a503af",
   "metadata": {},
   "outputs": [
    {
     "data": {
      "text/plain": [
       "1"
      ]
     },
     "execution_count": 64,
     "metadata": {},
     "output_type": "execute_result"
    }
   ],
   "source": [
    "tdb.lpush('qwe',pickle.dumps([\"DC1\",\"up\"]))"
   ]
  },
  {
   "cell_type": "code",
   "execution_count": 65,
   "id": "6d711682-4198-403c-9366-a3b4b5c75468",
   "metadata": {},
   "outputs": [
    {
     "data": {
      "text/plain": [
       "[b'\\x80\\x04\\x95\\x10\\x00\\x00\\x00\\x00\\x00\\x00\\x00]\\x94(\\x8c\\x03DC1\\x94\\x8c\\x02up\\x94e.']"
      ]
     },
     "execution_count": 65,
     "metadata": {},
     "output_type": "execute_result"
    }
   ],
   "source": [
    "tdb.lrange(\"qwe\",\"0\",\"0\")"
   ]
  },
  {
   "cell_type": "code",
   "execution_count": 52,
   "id": "9047125a-08fe-4a06-9dd5-81bde111918a",
   "metadata": {},
   "outputs": [
    {
     "data": {
      "text/plain": [
       "0"
      ]
     },
     "execution_count": 52,
     "metadata": {},
     "output_type": "execute_result"
    }
   ],
   "source": [
    "tdb.llen(\"qwe2\")\n"
   ]
  },
  {
   "cell_type": "code",
   "execution_count": 56,
   "id": "8e7bdfa7-a95f-45f9-af9b-df95fa1f0691",
   "metadata": {},
   "outputs": [
    {
     "data": {
      "text/plain": [
       "1"
      ]
     },
     "execution_count": 56,
     "metadata": {},
     "output_type": "execute_result"
    }
   ],
   "source": [
    "tdb.exists(\"qwe\")"
   ]
  },
  {
   "cell_type": "code",
   "execution_count": 61,
   "id": "e68e0f39-fbdc-4e17-bf23-75f43b9cfdb5",
   "metadata": {},
   "outputs": [
    {
     "data": {
      "text/plain": [
       "0"
      ]
     },
     "execution_count": 61,
     "metadata": {},
     "output_type": "execute_result"
    }
   ],
   "source": [
    "tdb.delete(\"qwe\")"
   ]
  },
  {
   "cell_type": "code",
   "execution_count": 60,
   "id": "5fd3c944-c22a-4fa7-b5fc-af321dd09fec",
   "metadata": {},
   "outputs": [],
   "source": [
    "tdb.lpop(\"qwe\")\n"
   ]
  },
  {
   "cell_type": "code",
   "execution_count": 66,
   "id": "e5420ed6-3891-4509-b1c3-ac9d4693afd2",
   "metadata": {},
   "outputs": [
    {
     "data": {
      "text/plain": [
       "0"
      ]
     },
     "execution_count": 66,
     "metadata": {},
     "output_type": "execute_result"
    }
   ],
   "source": [
    "model=dict()\n",
    "\n",
    "len(model.keys())"
   ]
  },
  {
   "cell_type": "code",
   "execution_count": 67,
   "id": "3737ab1f-7d49-4b50-a087-b09f18f9a6a9",
   "metadata": {},
   "outputs": [
    {
     "data": {
      "text/plain": [
       "int"
      ]
     },
     "execution_count": 67,
     "metadata": {},
     "output_type": "execute_result"
    }
   ],
   "source": [
    "type(tdb.llen(\"qwe2\"))"
   ]
  },
  {
   "cell_type": "code",
   "execution_count": 68,
   "id": "c91e3bc6-9863-4db1-a12e-460fa41281e7",
   "metadata": {},
   "outputs": [
    {
     "data": {
      "text/plain": [
       "int"
      ]
     },
     "execution_count": 68,
     "metadata": {},
     "output_type": "execute_result"
    }
   ],
   "source": [
    "type(tdb.llen(\"qwe21\"))"
   ]
  },
  {
   "cell_type": "code",
   "execution_count": 72,
   "id": "00228dd2-8df9-4204-a5b6-cb6912971966",
   "metadata": {},
   "outputs": [
    {
     "data": {
      "text/plain": [
       "False"
      ]
     },
     "execution_count": 72,
     "metadata": {},
     "output_type": "execute_result"
    }
   ],
   "source": [
    "model_id=\"qwe21\"\n",
    "key=f\"{model_id}:Hist\"\n",
    "f=tdb.llen(key)\n",
    "f>0"
   ]
  },
  {
   "cell_type": "code",
   "execution_count": null,
   "id": "e711f141-336d-48ac-b49d-15903283baa2",
   "metadata": {},
   "outputs": [],
   "source": []
  }
 ],
 "metadata": {
  "kernelspec": {
   "display_name": "Python 3 (ipykernel)",
   "language": "python",
   "name": "python3"
  },
  "language_info": {
   "codemirror_mode": {
    "name": "ipython",
    "version": 3
   },
   "file_extension": ".py",
   "mimetype": "text/x-python",
   "name": "python",
   "nbconvert_exporter": "python",
   "pygments_lexer": "ipython3",
   "version": "3.8.15"
  }
 },
 "nbformat": 4,
 "nbformat_minor": 5
}
