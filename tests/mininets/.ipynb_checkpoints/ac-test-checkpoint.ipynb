{
 "cells": [
  {
   "cell_type": "code",
   "execution_count": 22,
   "id": "928479cb-1c6f-4fbc-a660-5bc94075f8ca",
   "metadata": {},
   "outputs": [],
   "source": [
    "import model\n",
    "import gym\n",
    "from config import Config\n",
    "\n",
    "env = gym.make(\"CartPole-v1\")\n",
    "ob_n = env.observation_space.shape[0]\n",
    "ac_n = env.action_space.n\n",
    "\n",
    "args = {}\n",
    "config = Config(args)\n",
    "\n",
    "agent = model.Agent(ob_n, ac_n, config=config)\n",
    "obs,_ = env.reset()\n",
    "\n",
    "a,p=agent.act([obs])"
   ]
  },
  {
   "cell_type": "code",
   "execution_count": 31,
   "id": "d3b2b761-7f52-4b95-89b3-3d7b95c5e7e1",
   "metadata": {},
   "outputs": [
    {
     "data": {
      "text/plain": [
       "0.014987000567599714"
      ]
     },
     "execution_count": 31,
     "metadata": {},
     "output_type": "execute_result"
    }
   ],
   "source": [
    "p[0][0]"
   ]
  },
  {
   "cell_type": "code",
   "execution_count": 37,
   "id": "d17067c2-e9b2-42e9-ac1a-2bbfee1b2279",
   "metadata": {},
   "outputs": [
    {
     "name": "stdout",
     "output_type": "stream",
     "text": [
      "Overwriting model_test.py\n"
     ]
    }
   ],
   "source": [
    "%%file model_test.py\n",
    "import model\n",
    "import gym\n",
    "import numpy as np\n",
    "from itertools import count\n",
    "from config import Config\n",
    "\n",
    "env = gym.make(\"CartPole-v1\")\n",
    "ob_n = env.observation_space.shape[0]\n",
    "ac_n = env.action_space.n\n",
    "\n",
    "args = {}\n",
    "config = Config(args)\n",
    "\n",
    "agent = model.Agent(ob_n, ac_n, config=config)\n",
    "avg_reward = []\n",
    "for i_episode in count(1):\n",
    "    ep_reward = 0\n",
    "    obs,_ = env.reset()\n",
    "    \n",
    "    env_xs = []\n",
    "    env_as = []\n",
    "    env_vs = []\n",
    "    env_rs = []\n",
    "    for t in range(10000):  # Don't infinite loop while learning\n",
    "        step_as, step_vs = agent.act([obs])\n",
    "        _obs = [obs]\n",
    "        step_xs = np.vstack([np.array(o).ravel() for o in _obs])\n",
    "        next_obs, reward, done, _,_ = env.step(step_as[0])\n",
    "        ep_reward += reward\n",
    "        # Record the observation, action, value, and reward in the buffers.\n",
    "        env_xs.append(step_xs[0].ravel())\n",
    "        env_as.append(step_as[0])\n",
    "        env_vs.append(step_vs[0][0])\n",
    "        env_rs.append(reward)\n",
    "                \n",
    "        if t%100==0:\n",
    "            #_, extra_vs = agent.forward(np.vstack(observations).reshape(num_envs, -1))\n",
    "            # Perform update and clear buffers.\n",
    "            agent.train_step(env_xs, env_as, env_rs, env_vs)\n",
    "            env_xs = []\n",
    "            env_as = []\n",
    "            env_vs = []\n",
    "            env_rs = []\n",
    "            \n",
    "        if done:\n",
    "            break\n",
    "        \n",
    "        obs=next_obs\n",
    "        \n",
    "    if i_episode % log_interval == 0:\n",
    "        print(\"Ave reward: {}\".format(sum(avg_reward)/len(avg_reward)))\n",
    "        avg_reward = []\n",
    "\n",
    "    else:\n",
    "        avg_reward.append(ep_reward)\n",
    "        \n",
    "    "
   ]
  },
  {
   "cell_type": "code",
   "execution_count": 26,
   "id": "49310baa-1374-40a7-98a1-2b1256cde319",
   "metadata": {},
   "outputs": [
    {
     "data": {
      "text/plain": [
       "array([[0.14977669],\n",
       "       [0.55160794],\n",
       "       [0.97415643],\n",
       "       [0.27076271]])"
      ]
     },
     "execution_count": 26,
     "metadata": {},
     "output_type": "execute_result"
    }
   ],
   "source": [
    "import numpy\n",
    "import numpy as np\n",
    "ps = obs\n",
    "us = numpy.random.uniform(size=ps.shape[0])[:, np.newaxis]\n",
    "us"
   ]
  },
  {
   "cell_type": "code",
   "execution_count": 27,
   "id": "bfe913ac-1c2e-41c3-a12d-33d990b49d04",
   "metadata": {},
   "outputs": [
    {
     "data": {
      "text/plain": [
       "array([[-0.03113233,  0.02473017, -0.03427037,  0.01769771]],\n",
       "      dtype=float32)"
      ]
     },
     "execution_count": 27,
     "metadata": {},
     "output_type": "execute_result"
    }
   ],
   "source": [
    "observations = [obs]\n",
    "step_xs = np.vstack([o.ravel() for o in observations])\n",
    "step_xs"
   ]
  },
  {
   "cell_type": "code",
   "execution_count": 29,
   "id": "b4852970-3b1e-465e-9934-0f38067b97bb",
   "metadata": {},
   "outputs": [
    {
     "data": {
      "text/plain": [
       "array([[-0.03113233,  0.02473017, -0.03427037,  0.01769771]],\n",
       "      dtype=float32)"
      ]
     },
     "execution_count": 29,
     "metadata": {},
     "output_type": "execute_result"
    }
   ],
   "source": [
    "np.vstack(observations).reshape(1, -1)"
   ]
  },
  {
   "cell_type": "code",
   "execution_count": 28,
   "id": "540f1a79-7b88-48be-b418-852993a1195e",
   "metadata": {},
   "outputs": [
    {
     "data": {
      "text/plain": [
       "(array([[ 1,  3,  4],\n",
       "        [ 1, 34, 14]]),\n",
       " numpy.ndarray)"
      ]
     },
     "execution_count": 28,
     "metadata": {},
     "output_type": "execute_result"
    }
   ],
   "source": [
    "oo=[[1,3,4],[1,34,14]]\n",
    "hh=np.vstack([np.array(o).ravel() for o in oo])\n",
    "hh,type(hh)"
   ]
  },
  {
   "cell_type": "code",
   "execution_count": 13,
   "id": "6ada2c50-a885-40dd-970c-904757c73289",
   "metadata": {},
   "outputs": [
    {
     "data": {
      "text/plain": [
       "array([-0.04437783, -0.04061498,  0.01197403, -0.04365256], dtype=float32)"
      ]
     },
     "execution_count": 13,
     "metadata": {},
     "output_type": "execute_result"
    }
   ],
   "source": [
    "obs"
   ]
  },
  {
   "cell_type": "code",
   "execution_count": 56,
   "id": "21255039-b6b3-434a-b78c-8d5c452d802a",
   "metadata": {},
   "outputs": [
    {
     "data": {
      "text/plain": [
       "([], [])"
      ]
     },
     "execution_count": 56,
     "metadata": {},
     "output_type": "execute_result"
    }
   ],
   "source": [
    "def _2d_list(n):\n",
    "    return [[] for _ in range(n)]\n",
    "num_envs=0\n",
    "\n",
    "env_xs, env_as = _2d_list(num_envs), _2d_list(num_envs)\n",
    "env_xs, env_as "
   ]
  },
  {
   "cell_type": "code",
   "execution_count": 21,
   "id": "e9f38b2a-49df-472c-a8dd-e4e0a0567112",
   "metadata": {},
   "outputs": [],
   "source": [
    "#step_xs = obs\n",
    "x,p=agent.forward(step_xs)"
   ]
  },
  {
   "cell_type": "code",
   "execution_count": 53,
   "id": "381854df-1f72-41ba-85f7-0fb65b9fde9d",
   "metadata": {},
   "outputs": [
    {
     "ename": "TypeError",
     "evalue": "'float' object is not subscriptable",
     "output_type": "error",
     "traceback": [
      "\u001b[0;31m---------------------------------------------------------------------------\u001b[0m",
      "\u001b[0;31mTypeError\u001b[0m                                 Traceback (most recent call last)",
      "Cell \u001b[0;32mIn[53], line 4\u001b[0m\n\u001b[1;32m      2\u001b[0m env_vs \u001b[38;5;241m=\u001b[39m [\u001b[38;5;241m0.0149\u001b[39m,\u001b[38;5;241m0.0149\u001b[39m,\u001b[38;5;241m0.0149\u001b[39m]\n\u001b[1;32m      3\u001b[0m i\u001b[38;5;241m=\u001b[39m\u001b[38;5;241m0\u001b[39m\n\u001b[0;32m----> 4\u001b[0m rs_bootstrap \u001b[38;5;241m=\u001b[39m [] \u001b[38;5;28;01mif\u001b[39;00m env_rs[i] \u001b[38;5;241m==\u001b[39m [] \u001b[38;5;28;01melse\u001b[39;00m env_rs[i] \u001b[38;5;241m+\u001b[39m [\u001b[43menv_vs\u001b[49m\u001b[43m[\u001b[49m\u001b[43mi\u001b[49m\u001b[43m]\u001b[49m\u001b[43m[\u001b[49m\u001b[38;5;241;43m-\u001b[39;49m\u001b[38;5;241;43m1\u001b[39;49m\u001b[43m]\u001b[49m]\n",
      "\u001b[0;31mTypeError\u001b[0m: 'float' object is not subscriptable"
     ]
    }
   ],
   "source": [
    "env_rs = [1,2,1]\n",
    "env_vs = [0.0149,0.0149,0.0149]\n",
    "i=0\n",
    "rs_bootstrap = [] if env_rs[i] == [] else env_rs[i] + [env_vs[i][-1]]"
   ]
  },
  {
   "cell_type": "code",
   "execution_count": 22,
   "id": "6539ebab-d80e-40a0-8846-50c71b3a1278",
   "metadata": {},
   "outputs": [
    {
     "data": {
      "text/plain": [
       "(array([[0.49750209, 0.50249791]]), array([[0.02165614]]))"
      ]
     },
     "execution_count": 22,
     "metadata": {},
     "output_type": "execute_result"
    }
   ],
   "source": [
    "x,p"
   ]
  },
  {
   "cell_type": "code",
   "execution_count": 50,
   "id": "0a6ef728-884b-43c5-a233-f7f505b3063f",
   "metadata": {},
   "outputs": [
    {
     "data": {
      "text/plain": [
       "0"
      ]
     },
     "execution_count": 50,
     "metadata": {},
     "output_type": "execute_result"
    }
   ],
   "source": [
    "100%100"
   ]
  },
  {
   "cell_type": "code",
   "execution_count": 23,
   "id": "8e5a3407-51d9-4ea5-9167-b0f46ed2c8e4",
   "metadata": {},
   "outputs": [
    {
     "data": {
      "text/plain": [
       "array([0, 0, 0, 1])"
      ]
     },
     "execution_count": 23,
     "metadata": {},
     "output_type": "execute_result"
    }
   ],
   "source": [
    "(numpy.cumsum(x.asnumpy(), axis=1) > us).argmax(axis=1)"
   ]
  },
  {
   "cell_type": "code",
   "execution_count": 25,
   "id": "19b32925-a86d-403f-8309-bb67f68f9356",
   "metadata": {},
   "outputs": [
    {
     "data": {
      "text/plain": [
       "array([[0.38232256]])"
      ]
     },
     "execution_count": 25,
     "metadata": {},
     "output_type": "execute_result"
    }
   ],
   "source": [
    "us = numpy.random.uniform(size=x.shape[0])[:, np.newaxis]\n",
    "us"
   ]
  },
  {
   "cell_type": "code",
   "execution_count": 45,
   "id": "6456ce6a-8437-4f4b-b063-e9c99c673474",
   "metadata": {},
   "outputs": [
    {
     "data": {
      "text/plain": [
       "array([[1],\n",
       "       [2],\n",
       "       [0]])"
      ]
     },
     "execution_count": 45,
     "metadata": {},
     "output_type": "execute_result"
    }
   ],
   "source": [
    "from itertools import chain\n",
    "env_xs = [1,2,0]\n",
    "#env_xs = np.array(env_xs)\n",
    "env_xs = np.vstack([env_xs]).reshape(1,-1)\n",
    "\n",
    "np.vstack(list(chain.from_iterable(env_xs)))"
   ]
  }
 ],
 "metadata": {
  "kernelspec": {
   "display_name": "Python 3 (ipykernel)",
   "language": "python",
   "name": "python3"
  },
  "language_info": {
   "codemirror_mode": {
    "name": "ipython",
    "version": 3
   },
   "file_extension": ".py",
   "mimetype": "text/x-python",
   "name": "python",
   "nbconvert_exporter": "python",
   "pygments_lexer": "ipython3",
   "version": "3.8.15"
  }
 },
 "nbformat": 4,
 "nbformat_minor": 5
}
