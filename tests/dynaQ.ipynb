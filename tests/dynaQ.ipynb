{
 "cells": [
  {
   "cell_type": "code",
   "execution_count": 2,
   "id": "79695e4c-ca8d-4523-a661-74f097dc6b81",
   "metadata": {},
   "outputs": [],
   "source": [
    "from minirl.core.dynaQ import DynaQ"
   ]
  },
  {
   "cell_type": "code",
   "execution_count": 3,
   "id": "49406021-d773-4639-9eba-0b0654f4f82b",
   "metadata": {},
   "outputs": [],
   "source": [
    "import hirlite\n",
    "\n",
    "tdb = hirlite.Rlite(encoding='utf8',path=\"test.db\")"
   ]
  },
  {
   "cell_type": "code",
   "execution_count": 4,
   "id": "506a8321-d915-403f-adc8-b4b068fbed18",
   "metadata": {},
   "outputs": [
    {
     "name": "stdout",
     "output_type": "stream",
     "text": [
      "simple two layer neural network based on numpy\n",
      "creating nn: #input:20 #hidden:64 #output:['up', 'avg', 'nochange']\n"
     ]
    }
   ],
   "source": [
    "state_space=[\"dc1\",\"dc2\",\"dc3\",\"dc4\"]\n",
    "test=DynaQ(state_space=state_space,\n",
    "        actions = [\"up\",\"avg\",\"nochange\"],\n",
    "        alpha=0.7,\n",
    "        gamma=0.9,\n",
    "        random_seed=2023,\n",
    "        eps=0.2,\n",
    "        model_db=tdb,\n",
    "        score_db=tdb,\n",
    "        his_db=tdb,\n",
    "        N=7,  # no. of steps in planning phase\n",
    "        n=3,)"
   ]
  },
  {
   "cell_type": "code",
   "execution_count": 9,
   "id": "c0271f98-cd79-44e4-b8ed-972716aab755",
   "metadata": {},
   "outputs": [
    {
     "data": {
      "text/plain": [
       "'nochange'"
      ]
     },
     "execution_count": 9,
     "metadata": {},
     "output_type": "execute_result"
    }
   ],
   "source": [
    "test.act(\"dc1\",\"local_model\",\"share_model\")"
   ]
  },
  {
   "cell_type": "code",
   "execution_count": 10,
   "id": "f844729d-a7a9-4e8a-b428-9d4d58458c37",
   "metadata": {},
   "outputs": [
    {
     "ename": "IndexError",
     "evalue": "list index out of range",
     "output_type": "error",
     "traceback": [
      "\u001b[0;31m---------------------------------------------------------------------------\u001b[0m",
      "\u001b[0;31mIndexError\u001b[0m                                Traceback (most recent call last)",
      "Cell \u001b[0;32mIn[10], line 3\u001b[0m\n\u001b[1;32m      1\u001b[0m state \u001b[38;5;241m=\u001b[39m \u001b[38;5;124m\"\u001b[39m\u001b[38;5;124mdc1\u001b[39m\u001b[38;5;124m\"\u001b[39m\n\u001b[1;32m      2\u001b[0m model_id \u001b[38;5;241m=\u001b[39m \u001b[38;5;124m\"\u001b[39m\u001b[38;5;124mshare_model\u001b[39m\u001b[38;5;124m\"\u001b[39m\n\u001b[0;32m----> 3\u001b[0m \u001b[43mtest\u001b[49m\u001b[38;5;241;43m.\u001b[39;49m\u001b[43mget_action_bylastDelta\u001b[49m\u001b[43m(\u001b[49m\u001b[43mstate\u001b[49m\u001b[43m,\u001b[49m\u001b[43m \u001b[49m\u001b[43mmodel_id\u001b[49m\u001b[43m,\u001b[49m\u001b[43m \u001b[49m\u001b[43mtopN\u001b[49m\u001b[38;5;241;43m=\u001b[39;49m\u001b[38;5;241;43m1\u001b[39;49m\u001b[43m)\u001b[49m\n",
      "File \u001b[0;32m~/miniconda3/lib/python3.8/site-packages/minirl/core/dynaQ.py:404\u001b[0m, in \u001b[0;36mDynaQ.get_action_bylastDelta\u001b[0;34m(self, state, model_id, topN)\u001b[0m\n\u001b[1;32m    402\u001b[0m delta_key \u001b[38;5;241m=\u001b[39m \u001b[38;5;124mf\u001b[39m\u001b[38;5;124m\"\u001b[39m\u001b[38;5;132;01m{\u001b[39;00mmodel_id\u001b[38;5;132;01m}\u001b[39;00m\u001b[38;5;124m:\u001b[39m\u001b[38;5;132;01m{\u001b[39;00mstate\u001b[38;5;132;01m}\u001b[39;00m\u001b[38;5;124m:lastDelta\u001b[39m\u001b[38;5;124m\"\u001b[39m\n\u001b[1;32m    403\u001b[0m action_list \u001b[38;5;241m=\u001b[39m \u001b[38;5;28mself\u001b[39m\u001b[38;5;241m.\u001b[39m_score_db\u001b[38;5;241m.\u001b[39mzrange(delta_key, \u001b[38;5;124m\"\u001b[39m\u001b[38;5;124m0\u001b[39m\u001b[38;5;124m\"\u001b[39m, \u001b[38;5;28mstr\u001b[39m(topN \u001b[38;5;241m-\u001b[39m \u001b[38;5;241m1\u001b[39m))\n\u001b[0;32m--> 404\u001b[0m \u001b[38;5;28;01mreturn\u001b[39;00m \u001b[43maction_list\u001b[49m\u001b[43m[\u001b[49m\u001b[38;5;241;43m0\u001b[39;49m\u001b[43m]\u001b[49m\n",
      "\u001b[0;31mIndexError\u001b[0m: list index out of range"
     ]
    }
   ],
   "source": [
    "state = \"dc1\"\n",
    "model_id = \"share_model\"\n",
    "test.get_action_bylastDelta(state, model_id, topN=1)"
   ]
  },
  {
   "cell_type": "code",
   "execution_count": 11,
   "id": "983269b7-726e-49f2-950e-a7a8a5e2ecb4",
   "metadata": {},
   "outputs": [
    {
     "data": {
      "text/plain": [
       "deque([], maxlen=3)"
      ]
     },
     "execution_count": 11,
     "metadata": {},
     "output_type": "execute_result"
    }
   ],
   "source": [
    "test.get_stateActionHist(model_id)"
   ]
  },
  {
   "cell_type": "code",
   "execution_count": null,
   "id": "dcb6e586-672d-4845-a84a-19c65bbbb270",
   "metadata": {},
   "outputs": [],
   "source": [
    "test.learn(state,\n",
    "        action,\n",
    "        reward,\n",
    "        local_model_id=None,\n",
    "        share_model_id=None,)"
   ]
  }
 ],
 "metadata": {
  "kernelspec": {
   "display_name": "Python 3 (ipykernel)",
   "language": "python",
   "name": "python3"
  },
  "language_info": {
   "codemirror_mode": {
    "name": "ipython",
    "version": 3
   },
   "file_extension": ".py",
   "mimetype": "text/x-python",
   "name": "python",
   "nbconvert_exporter": "python",
   "pygments_lexer": "ipython3",
   "version": "3.8.15"
  }
 },
 "nbformat": 4,
 "nbformat_minor": 5
}
