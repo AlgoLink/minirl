{
 "cells": [
  {
   "cell_type": "code",
   "execution_count": 1,
   "id": "f238b652-43b8-474b-98a0-1e155e8b1eeb",
   "metadata": {},
   "outputs": [],
   "source": [
    "from minirl import LinUCB,CBandit\n",
    "from minirl.common import trainer"
   ]
  },
  {
   "cell_type": "code",
   "execution_count": 4,
   "id": "965b33c6-f1d7-4477-a42d-1b9b26b2da46",
   "metadata": {},
   "outputs": [],
   "source": [
    "import numpy as np\n",
    "\n",
    "def plot_lin_ucb():\n",
    "    \"\"\"Plot the linUCB policy on a contextual linear bandit problem\"\"\"\n",
    "    np.random.seed(12345)\n",
    "    ep_length = 1\n",
    "    K = np.random.randint(2, 25)\n",
    "    D = np.random.randint(2, 10)\n",
    "\n",
    "    n_duplicates = 5\n",
    "    n_episodes = 5000\n",
    "\n",
    "    cmab = CBandit(K, D, 1)\n",
    "    policy = LinUCB(alpha=1)\n",
    "    policy = trainer.BanditTrainer().train(policy, cmab, ep_length, n_episodes, n_duplicates)\n",
    "\n",
    "\n",
    "#plot_lin_ucb()\n"
   ]
  },
  {
   "cell_type": "code",
   "execution_count": 5,
   "id": "cf152b06-ad2f-4d62-86f1-fea74f3871d8",
   "metadata": {},
   "outputs": [],
   "source": [
    "test=LinUCB()"
   ]
  },
  {
   "cell_type": "code",
   "execution_count": 6,
   "id": "88c6e65a-35ba-41d5-8cb9-d30f24afb01b",
   "metadata": {},
   "outputs": [],
   "source": [
    "bandit = CBandit(4,3)"
   ]
  },
  {
   "cell_type": "code",
   "execution_count": 7,
   "id": "19b8e907-305d-410b-bec6-582a63b1e4a7",
   "metadata": {},
   "outputs": [
    {
     "data": {
      "text/plain": [
       "{'thetas': array([[-0.0248794 ,  0.26638071,  0.21311931, -0.13422025],\n",
       "        [-0.37245536, -0.17338928,  0.22596801, -0.32697131],\n",
       "        [-0.43378958, -0.2766918 ,  0.33857318, -0.53651613]])}"
      ]
     },
     "execution_count": 7,
     "metadata": {},
     "output_type": "execute_result"
    }
   ],
   "source": [
    "bandit.parameters"
   ]
  },
  {
   "cell_type": "code",
   "execution_count": 8,
   "id": "09284ec6-d7fd-4b4b-a52c-fab52b13bc8a",
   "metadata": {},
   "outputs": [
    {
     "data": {
      "text/plain": [
       "{'id': 'ContextualLinearBandit',\n",
       " 'K': 4,\n",
       " 'D': 3,\n",
       " 'payoff_variance': [1, 1, 1, 1]}"
      ]
     },
     "execution_count": 8,
     "metadata": {},
     "output_type": "execute_result"
    }
   ],
   "source": [
    "bandit.hyperparameters"
   ]
  },
  {
   "cell_type": "code",
   "execution_count": 9,
   "id": "702cbd96-879b-4c05-ad30-8e784ddb90be",
   "metadata": {},
   "outputs": [
    {
     "data": {
      "text/plain": [
       "array([[-0.51411529,  1.11687032,  1.94013929, -0.35984943],\n",
       "       [-0.50108124, -1.38224434, -0.66122449,  0.31524995],\n",
       "       [-0.12931385,  0.16600821,  0.21464042,  0.31339494]])"
      ]
     },
     "execution_count": 9,
     "metadata": {},
     "output_type": "execute_result"
    }
   ],
   "source": [
    "bandit.get_context()"
   ]
  },
  {
   "cell_type": "code",
   "execution_count": 10,
   "id": "e5f2ded8-7e94-4298-8d86-88f06a30f4ba",
   "metadata": {},
   "outputs": [
    {
     "data": {
      "text/plain": [
       "(0.15548806017712757, 1)"
      ]
     },
     "execution_count": 10,
     "metadata": {},
     "output_type": "execute_result"
    }
   ],
   "source": [
    "import numpy as np\n",
    "test.act(bandit,bandit.get_context())#np.array([[1,0,0],[1,1,0],[1,0,0]]))"
   ]
  },
  {
   "cell_type": "code",
   "execution_count": 11,
   "id": "f2dcbe74-46d2-4b63-aa49-a7b5b7d89f72",
   "metadata": {},
   "outputs": [
    {
     "data": {
      "text/plain": [
       "{'id': 'ContextualLinearBandit',\n",
       " 'K': 4,\n",
       " 'D': 3,\n",
       " 'payoff_variance': [1, 1, 1, 1]}"
      ]
     },
     "execution_count": 11,
     "metadata": {},
     "output_type": "execute_result"
    }
   ],
   "source": [
    "bandit.hyperparameters"
   ]
  },
  {
   "cell_type": "code",
   "execution_count": 18,
   "id": "0bef0ea1-c0dc-40a9-bbe9-e1cc2c9b8f15",
   "metadata": {},
   "outputs": [
    {
     "data": {
      "text/plain": [
       "{'thetas': array([[-0.0248794 ,  0.26638071,  0.21311931, -0.13422025],\n",
       "        [-0.37245536, -0.17338928,  0.22596801, -0.32697131],\n",
       "        [-0.43378958, -0.2766918 ,  0.33857318, -0.53651613]])}"
      ]
     },
     "execution_count": 18,
     "metadata": {},
     "output_type": "execute_result"
    }
   ],
   "source": [
    "bandit.parameters\n"
   ]
  },
  {
   "cell_type": "code",
   "execution_count": 17,
   "id": "e00e8254-d549-4219-93ee-3195bbbe2791",
   "metadata": {},
   "outputs": [],
   "source": [
    "test._update_params(1, 2.0, bandit.get_context())"
   ]
  },
  {
   "cell_type": "code",
   "execution_count": 25,
   "id": "d8a1ed00-568c-4575-ab1f-e66a422371f2",
   "metadata": {},
   "outputs": [
    {
     "data": {
      "text/plain": [
       "array([[0., 0., 0., 0., 0.],\n",
       "       [0., 0., 0., 0., 0.],\n",
       "       [0., 0., 0., 0., 0.]])"
      ]
     },
     "execution_count": 25,
     "metadata": {},
     "output_type": "execute_result"
    }
   ],
   "source": [
    "features = np.zeros( (3, 5) )\n",
    "features"
   ]
  },
  {
   "cell_type": "code",
   "execution_count": 46,
   "id": "8002719d-5fd8-4938-9b7d-3133fe58c891",
   "metadata": {},
   "outputs": [],
   "source": [
    "from queue import Queue\n",
    "import random\n",
    "\n",
    "\n",
    "class ReplayMemory:\n",
    "    \"\"\"在这个示例中，我们使用Queue创建了一个先进先出队列，作为存储经验的数据结构。ReplayMemory类有以下几个方法：\n",
    "\n",
    "    __init__(self, capacity)：初始化对象，指定经验回放缓冲区的容量。\n",
    "    push(self, transition)：将一条新的经验加入到缓冲区中。如果缓冲区已满，则删除最早的经验。\n",
    "    sample(self, batch_size)：从缓冲区中随机采样一批经验，并返回一个列表。\n",
    "    __len__(self)：返回当前经验回放缓冲区中的经验数。\n",
    "    这个类可以被用于任何需要经验回放的强化学习算法中，例如深度Q网络（DQN）等。\"\"\"\n",
    "\n",
    "    def __init__(self, capacity):\n",
    "        self.capacity = capacity\n",
    "        self.memory = Queue(maxsize=capacity)\n",
    "\n",
    "    def push(self, transition):\n",
    "        if self.memory.full():\n",
    "            self.memory.get()\n",
    "        self.memory.put(transition)\n",
    "\n",
    "    def sample(self, batch_size):\n",
    "        return random.sample(\n",
    "            list(self.memory.queue), min(batch_size, self.memory.qsize())\n",
    "        )\n",
    "\n",
    "    def __len__(self):\n",
    "        return self.memory.qsize()\n",
    "\n",
    "test=ReplayMemory(12)\n",
    "test.push([\"DC1\",\"UP\"])"
   ]
  },
  {
   "cell_type": "code",
   "execution_count": 49,
   "id": "ccf7a288-5148-49a6-8252-b031c16cb8d4",
   "metadata": {},
   "outputs": [],
   "source": [
    "test.push([\"DC1\",\"UP4\"])"
   ]
  },
  {
   "cell_type": "code",
   "execution_count": 50,
   "id": "dddbd163-ac0d-4a68-a126-e8e5ef5e6ff6",
   "metadata": {},
   "outputs": [
    {
     "data": {
      "text/plain": [
       "deque([['DC1', 'UP'], ['DC1', 'UP2'], ['DC1', 'UP3'], ['DC1', 'UP4']])"
      ]
     },
     "execution_count": 50,
     "metadata": {},
     "output_type": "execute_result"
    }
   ],
   "source": [
    "test.memory.queue"
   ]
  },
  {
   "cell_type": "code",
   "execution_count": 51,
   "id": "f77db1b8-c0e2-46d9-8e3f-64c86a5bb3a9",
   "metadata": {},
   "outputs": [
    {
     "data": {
      "text/plain": [
       "[['DC1', 'UP2'], ['DC1', 'UP3']]"
      ]
     },
     "execution_count": 51,
     "metadata": {},
     "output_type": "execute_result"
    }
   ],
   "source": [
    "test.sample(2)"
   ]
  },
  {
   "cell_type": "code",
   "execution_count": 37,
   "id": "629f26f0-95f3-4fc9-88a9-09597b044865",
   "metadata": {},
   "outputs": [
    {
     "data": {
      "text/plain": [
       "['ad', 1, [1, 2]]"
      ]
     },
     "execution_count": 37,
     "metadata": {},
     "output_type": "execute_result"
    }
   ],
   "source": [
    "t=[\"ad\",1]\n",
    "t.append([1,2])\n",
    "t\n"
   ]
  }
 ],
 "metadata": {
  "kernelspec": {
   "display_name": "Python 3 (ipykernel)",
   "language": "python",
   "name": "python3"
  },
  "language_info": {
   "codemirror_mode": {
    "name": "ipython",
    "version": 3
   },
   "file_extension": ".py",
   "mimetype": "text/x-python",
   "name": "python",
   "nbconvert_exporter": "python",
   "pygments_lexer": "ipython3",
   "version": "3.8.15"
  }
 },
 "nbformat": 4,
 "nbformat_minor": 5
}
