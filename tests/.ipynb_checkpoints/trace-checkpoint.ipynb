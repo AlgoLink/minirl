{
 "cells": [
  {
   "cell_type": "code",
   "execution_count": 3,
   "id": "acd1d4ee-6af0-418d-99f8-57976bf9264c",
   "metadata": {},
   "outputs": [],
   "source": [
    "import heapq\n",
    "\n",
    "class PriorityQueue:\n",
    "    def __init__(self):\n",
    "        self.pq = []\n",
    "        self.entry_finder = {}\n",
    "        self.REMOVED = '<removed-task>'\n",
    "        self.counter = 0\n",
    "\n",
    "    def add_item(self, item, priority=0):\n",
    "        if item in self.entry_finder:\n",
    "            self.remove_item(item)\n",
    "        entry = [priority, self.counter, item]\n",
    "        self.counter += 1\n",
    "        self.entry_finder[item] = entry\n",
    "        heapq.heappush(self.pq, entry)\n",
    "\n",
    "    def remove_item(self, item):\n",
    "        entry = self.entry_finder.pop(item)\n",
    "        entry[-1] = self.REMOVED\n",
    "\n",
    "    def pop_item(self):\n",
    "        while self.pq:\n",
    "            priority, count, item = heapq.heappop(self.pq)\n",
    "            if item is not self.REMOVED:\n",
    "                del self.entry_finder[item]\n",
    "                return item, priority\n",
    "        raise KeyError('pop from an empty priority queue')\n",
    "\n",
    "    def empty(self):\n",
    "        return not self.entry_finder\n",
    "\n",
    "    \n",
    "test=PriorityQueue()"
   ]
  },
  {
   "cell_type": "code",
   "execution_count": 14,
   "id": "dd50c2c4-61e5-4dba-969d-f3d107216da8",
   "metadata": {},
   "outputs": [],
   "source": [
    "test.add_item(\"DC1\",-1)"
   ]
  },
  {
   "cell_type": "code",
   "execution_count": 7,
   "id": "08eb2e68-5dfa-4082-bb07-bb0bbc71b99d",
   "metadata": {},
   "outputs": [],
   "source": [
    "test.add_item(\"DC2\",2)"
   ]
  },
  {
   "cell_type": "code",
   "execution_count": 15,
   "id": "71895659-5974-4943-90ac-77d590f4d259",
   "metadata": {},
   "outputs": [
    {
     "data": {
      "text/plain": [
       "{'DC2': [2, 1, 'DC2'], 'DC1': [-1, 2, 'DC1']}"
      ]
     },
     "execution_count": 15,
     "metadata": {},
     "output_type": "execute_result"
    }
   ],
   "source": [
    "test.entry_finder"
   ]
  },
  {
   "cell_type": "code",
   "execution_count": 16,
   "id": "2f508e26-bc6b-4d7c-b976-c3aaeaf2ac5c",
   "metadata": {},
   "outputs": [
    {
     "data": {
      "text/plain": [
       "[[-1, 2, 'DC1'], [2, 1, 'DC2']]"
      ]
     },
     "execution_count": 16,
     "metadata": {},
     "output_type": "execute_result"
    }
   ],
   "source": [
    "test.pq"
   ]
  },
  {
   "cell_type": "code",
   "execution_count": 17,
   "id": "1389a394-db92-44e0-a7ad-f2912085e695",
   "metadata": {},
   "outputs": [
    {
     "data": {
      "text/plain": [
       "('DC1', -1)"
      ]
     },
     "execution_count": 17,
     "metadata": {},
     "output_type": "execute_result"
    }
   ],
   "source": [
    "test.pop_item()"
   ]
  }
 ],
 "metadata": {
  "kernelspec": {
   "display_name": "Python 3 (ipykernel)",
   "language": "python",
   "name": "python3"
  },
  "language_info": {
   "codemirror_mode": {
    "name": "ipython",
    "version": 3
   },
   "file_extension": ".py",
   "mimetype": "text/x-python",
   "name": "python",
   "nbconvert_exporter": "python",
   "pygments_lexer": "ipython3",
   "version": "3.8.15"
  }
 },
 "nbformat": 4,
 "nbformat_minor": 5
}
