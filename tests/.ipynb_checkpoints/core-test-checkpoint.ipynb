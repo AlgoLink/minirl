{
 "cells": [
  {
   "cell_type": "code",
   "execution_count": 1,
   "id": "762d2a72-e851-41cc-b5d4-9d151b0c1047",
   "metadata": {},
   "outputs": [
    {
     "ename": "AttributeError",
     "evalue": "'Value' object has no attribute 'relu'",
     "output_type": "error",
     "traceback": [
      "\u001b[0;31m---------------------------------------------------------------------------\u001b[0m",
      "\u001b[0;31mAttributeError\u001b[0m                            Traceback (most recent call last)",
      "Cell \u001b[0;32mIn[1], line 5\u001b[0m\n\u001b[1;32m      3\u001b[0m x \u001b[38;5;241m=\u001b[39m [\u001b[38;5;241m2.0\u001b[39m, \u001b[38;5;241m3.0\u001b[39m, \u001b[38;5;241m-\u001b[39m\u001b[38;5;241m1.0\u001b[39m]\n\u001b[1;32m      4\u001b[0m n \u001b[38;5;241m=\u001b[39m MLP(\u001b[38;5;241m3\u001b[39m, [\u001b[38;5;241m4\u001b[39m, \u001b[38;5;241m4\u001b[39m, \u001b[38;5;241m1\u001b[39m])\n\u001b[0;32m----> 5\u001b[0m \u001b[43mn\u001b[49m\u001b[43m(\u001b[49m\u001b[43mx\u001b[49m\u001b[43m)\u001b[49m\n",
      "File \u001b[0;32m~/miniconda3/lib/python3.8/site-packages/minirl/core/nn.py:53\u001b[0m, in \u001b[0;36mMLP.__call__\u001b[0;34m(self, x)\u001b[0m\n\u001b[1;32m     51\u001b[0m \u001b[38;5;28;01mdef\u001b[39;00m \u001b[38;5;21m__call__\u001b[39m(\u001b[38;5;28mself\u001b[39m, x):\n\u001b[1;32m     52\u001b[0m     \u001b[38;5;28;01mfor\u001b[39;00m layer \u001b[38;5;129;01min\u001b[39;00m \u001b[38;5;28mself\u001b[39m\u001b[38;5;241m.\u001b[39mlayers:\n\u001b[0;32m---> 53\u001b[0m         x \u001b[38;5;241m=\u001b[39m \u001b[43mlayer\u001b[49m\u001b[43m(\u001b[49m\u001b[43mx\u001b[49m\u001b[43m)\u001b[49m\n\u001b[1;32m     54\u001b[0m     \u001b[38;5;28;01mreturn\u001b[39;00m x\n",
      "File \u001b[0;32m~/miniconda3/lib/python3.8/site-packages/minirl/core/nn.py:36\u001b[0m, in \u001b[0;36mLayer.__call__\u001b[0;34m(self, x)\u001b[0m\n\u001b[1;32m     35\u001b[0m \u001b[38;5;28;01mdef\u001b[39;00m \u001b[38;5;21m__call__\u001b[39m(\u001b[38;5;28mself\u001b[39m, x):\n\u001b[0;32m---> 36\u001b[0m     out \u001b[38;5;241m=\u001b[39m [n(x) \u001b[38;5;28;01mfor\u001b[39;00m n \u001b[38;5;129;01min\u001b[39;00m \u001b[38;5;28mself\u001b[39m\u001b[38;5;241m.\u001b[39mneurons]\n\u001b[1;32m     37\u001b[0m     \u001b[38;5;28;01mreturn\u001b[39;00m out[\u001b[38;5;241m0\u001b[39m] \u001b[38;5;28;01mif\u001b[39;00m \u001b[38;5;28mlen\u001b[39m(out) \u001b[38;5;241m==\u001b[39m \u001b[38;5;241m1\u001b[39m \u001b[38;5;28;01melse\u001b[39;00m out\n",
      "File \u001b[0;32m~/miniconda3/lib/python3.8/site-packages/minirl/core/nn.py:36\u001b[0m, in \u001b[0;36m<listcomp>\u001b[0;34m(.0)\u001b[0m\n\u001b[1;32m     35\u001b[0m \u001b[38;5;28;01mdef\u001b[39;00m \u001b[38;5;21m__call__\u001b[39m(\u001b[38;5;28mself\u001b[39m, x):\n\u001b[0;32m---> 36\u001b[0m     out \u001b[38;5;241m=\u001b[39m [\u001b[43mn\u001b[49m\u001b[43m(\u001b[49m\u001b[43mx\u001b[49m\u001b[43m)\u001b[49m \u001b[38;5;28;01mfor\u001b[39;00m n \u001b[38;5;129;01min\u001b[39;00m \u001b[38;5;28mself\u001b[39m\u001b[38;5;241m.\u001b[39mneurons]\n\u001b[1;32m     37\u001b[0m     \u001b[38;5;28;01mreturn\u001b[39;00m out[\u001b[38;5;241m0\u001b[39m] \u001b[38;5;28;01mif\u001b[39;00m \u001b[38;5;28mlen\u001b[39m(out) \u001b[38;5;241m==\u001b[39m \u001b[38;5;241m1\u001b[39m \u001b[38;5;28;01melse\u001b[39;00m out\n",
      "File \u001b[0;32m~/miniconda3/lib/python3.8/site-packages/minirl/core/nn.py:22\u001b[0m, in \u001b[0;36mNeuron.__call__\u001b[0;34m(self, x)\u001b[0m\n\u001b[1;32m     20\u001b[0m \u001b[38;5;28;01mdef\u001b[39;00m \u001b[38;5;21m__call__\u001b[39m(\u001b[38;5;28mself\u001b[39m, x):\n\u001b[1;32m     21\u001b[0m     act \u001b[38;5;241m=\u001b[39m \u001b[38;5;28msum\u001b[39m((wi\u001b[38;5;241m*\u001b[39mxi \u001b[38;5;28;01mfor\u001b[39;00m wi,xi \u001b[38;5;129;01min\u001b[39;00m \u001b[38;5;28mzip\u001b[39m(\u001b[38;5;28mself\u001b[39m\u001b[38;5;241m.\u001b[39mw, x)), \u001b[38;5;28mself\u001b[39m\u001b[38;5;241m.\u001b[39mb)\n\u001b[0;32m---> 22\u001b[0m     \u001b[38;5;28;01mreturn\u001b[39;00m \u001b[43mact\u001b[49m\u001b[38;5;241;43m.\u001b[39;49m\u001b[43mrelu\u001b[49m() \u001b[38;5;28;01mif\u001b[39;00m \u001b[38;5;28mself\u001b[39m\u001b[38;5;241m.\u001b[39mnonlin \u001b[38;5;28;01melse\u001b[39;00m act\n",
      "\u001b[0;31mAttributeError\u001b[0m: 'Value' object has no attribute 'relu'"
     ]
    }
   ],
   "source": [
    "from minirl.core.engine import Value\n",
    "from minirl.core.nn import MLP\n",
    "x = [2.0, 3.0, -1.0]\n",
    "n = MLP(3, [4, 4, 1])\n",
    "n(x)"
   ]
  },
  {
   "cell_type": "code",
   "execution_count": 2,
   "id": "febf4e0e-d3af-4456-b239-b274371adabd",
   "metadata": {},
   "outputs": [
    {
     "ename": "NameError",
     "evalue": "name 'draw_dot' is not defined",
     "output_type": "error",
     "traceback": [
      "\u001b[0;31m---------------------------------------------------------------------------\u001b[0m",
      "\u001b[0;31mNameError\u001b[0m                                 Traceback (most recent call last)",
      "Cell \u001b[0;32mIn[2], line 6\u001b[0m\n\u001b[1;32m      4\u001b[0m x \u001b[38;5;241m=\u001b[39m [Value(\u001b[38;5;241m1.0\u001b[39m), Value(\u001b[38;5;241m-\u001b[39m\u001b[38;5;241m2.0\u001b[39m)]\n\u001b[1;32m      5\u001b[0m y \u001b[38;5;241m=\u001b[39m n(x)\n\u001b[0;32m----> 6\u001b[0m dot \u001b[38;5;241m=\u001b[39m \u001b[43mdraw_dot\u001b[49m(y)\n",
      "\u001b[0;31mNameError\u001b[0m: name 'draw_dot' is not defined"
     ]
    }
   ],
   "source": [
    "from minirl.core import nn\n",
    "from minirl.core.engine import Value\n",
    "n = nn.Neuron(2)\n",
    "x = [Value(1.0), Value(-2.0)]\n",
    "y = n(x)\n",
    "dot = draw_dot(y)"
   ]
  },
  {
   "cell_type": "code",
   "execution_count": 6,
   "id": "e838e38d-5e65-4363-b243-ed8e39f1f8d1",
   "metadata": {},
   "outputs": [
    {
     "data": {
      "text/plain": [
       "Value(data=0.046414353346754256, grad=0)"
      ]
     },
     "execution_count": 6,
     "metadata": {},
     "output_type": "execute_result"
    }
   ],
   "source": [
    "import dill\n",
    "cc=dill.dumps(n)\n",
    "dill.loads(cc)(x)"
   ]
  },
  {
   "cell_type": "code",
   "execution_count": 2,
   "id": "34235553-2cc9-4a4b-a78d-5e79cc6efc1b",
   "metadata": {},
   "outputs": [],
   "source": [
    "xs = [\n",
    "  [2.0, 3.0, -1.0],\n",
    "  [3.0, -1.0, 0.5],\n",
    "  [0.5, 1.0, 1.0],\n",
    "  [1.0, 1.0, -1.0],\n",
    "]\n",
    "ys = [1.0, -1.0, -1.0, 1.0] # desired targets"
   ]
  },
  {
   "cell_type": "code",
   "execution_count": 3,
   "id": "795b2c8b-f863-476e-8f6c-b4f1aaa99126",
   "metadata": {},
   "outputs": [
    {
     "name": "stdout",
     "output_type": "stream",
     "text": [
      "0 7.547769772933717\n",
      "1 8.818558149790155\n",
      "2 5.300329957290195\n",
      "3 4.052013198291608\n",
      "4 4.002080527931664\n",
      "5 4.000083221117267\n",
      "6 4.0000033288446915\n",
      "7 4.000000133153788\n",
      "8 4.000000005326151\n",
      "9 4.0000000002130465\n",
      "10 4.000000000008522\n",
      "11 4.000000000000341\n",
      "12 4.000000000000014\n",
      "13 4.000000000000001\n",
      "14 4.0\n",
      "15 3.999999999999999\n",
      "16 4.0\n",
      "17 4.0\n",
      "18 4.0\n",
      "19 4.0\n"
     ]
    }
   ],
   "source": [
    "for k in range(20):\n",
    "  \n",
    "  # forward pass\n",
    "  ypred = [n(x) for x in xs]\n",
    "  loss = sum((yout - ygt)**2 for ygt, yout in zip(ys, ypred))\n",
    "  \n",
    "  # backward pass\n",
    "  for p in n.parameters():\n",
    "    p.grad = 0.0\n",
    "  loss.backward()\n",
    "  \n",
    "  # update\n",
    "  for p in n.parameters():\n",
    "    p.data += -0.1 * p.grad\n",
    "  \n",
    "  print(k, loss.data)"
   ]
  },
  {
   "cell_type": "code",
   "execution_count": 4,
   "id": "252494c4-ea9e-4ea4-a612-9b6f66930182",
   "metadata": {},
   "outputs": [
    {
     "data": {
      "text/plain": [
       "Value(data=1.494373072648475e-13, grad=0)"
      ]
     },
     "execution_count": 4,
     "metadata": {},
     "output_type": "execute_result"
    }
   ],
   "source": [
    "n(x)"
   ]
  },
  {
   "cell_type": "code",
   "execution_count": 5,
   "id": "f37a4c84-b16c-4d00-a653-54d778d32e9a",
   "metadata": {},
   "outputs": [
    {
     "data": {
      "text/plain": [
       "[Value(data=-0.6052525658888879, grad=0.0),\n",
       " Value(data=-0.6100940628551146, grad=0.0),\n",
       " Value(data=0.5359056398188697, grad=0.0),\n",
       " Value(data=0.0, grad=0.0),\n",
       " Value(data=-0.540590186361392, grad=0.0),\n",
       " Value(data=-0.5073862268161045, grad=0.0),\n",
       " Value(data=0.35175909006157546, grad=0.0),\n",
       " Value(data=0.0, grad=0.0),\n",
       " Value(data=-1.0377263408320043, grad=0.0),\n",
       " Value(data=-0.008050834112350524, grad=0.0),\n",
       " Value(data=0.5714053706646331, grad=0.0),\n",
       " Value(data=-0.5220931524320976, grad=0.0),\n",
       " Value(data=-0.2987412269095435, grad=0.0),\n",
       " Value(data=-0.08689742196826894, grad=0.0),\n",
       " Value(data=0.2463876366056234, grad=0.0),\n",
       " Value(data=-0.24845651641568195, grad=0.0),\n",
       " Value(data=-0.8523787235841129, grad=0.0),\n",
       " Value(data=0.1570915957967196, grad=0.0),\n",
       " Value(data=0.18823638850947189, grad=0.0),\n",
       " Value(data=-0.6835760438693549, grad=0.0),\n",
       " Value(data=-1.2891474426674097, grad=0.0),\n",
       " Value(data=-0.27907979076609624, grad=0.0),\n",
       " Value(data=-0.3952799310562811, grad=0.0),\n",
       " Value(data=-0.5549373221796114, grad=0.0),\n",
       " Value(data=0.0475313977450188, grad=0.0),\n",
       " Value(data=-0.32580715735644594, grad=0.0),\n",
       " Value(data=0.0821571170641342, grad=0.0),\n",
       " Value(data=-0.7459179879605962, grad=0.0),\n",
       " Value(data=-0.3445402706095268, grad=0.0),\n",
       " Value(data=0.8864146038076893, grad=0.0),\n",
       " Value(data=-0.23002037223536698, grad=0.0),\n",
       " Value(data=-0.1672042735400714, grad=0.0),\n",
       " Value(data=0.4298927593845958, grad=0.0),\n",
       " Value(data=-0.12299447908965022, grad=0.0),\n",
       " Value(data=-0.7996075965940779, grad=0.0),\n",
       " Value(data=-0.14540887707709466, grad=0.0),\n",
       " Value(data=-0.7387419485041318, grad=0.0),\n",
       " Value(data=-0.9238618703922135, grad=0.0),\n",
       " Value(data=0.39648550708325825, grad=0.0),\n",
       " Value(data=-0.12615514790866472, grad=0.0),\n",
       " Value(data=1.494373072648475e-13, grad=5.979217121421243e-12)]"
      ]
     },
     "execution_count": 5,
     "metadata": {},
     "output_type": "execute_result"
    }
   ],
   "source": [
    "n.parameters()"
   ]
  },
  {
   "cell_type": "code",
   "execution_count": 5,
   "id": "2d05926a-4812-438a-9712-440520b76786",
   "metadata": {},
   "outputs": [
    {
     "data": {
      "text/plain": [
       "[Value(data=4.922538198521035e-11, grad=-1.9999999999015492),\n",
       " Value(data=4.922538198521035e-11, grad=2.0000000000984506),\n",
       " Value(data=4.922538198521035e-11, grad=2.0000000000984506),\n",
       " Value(data=4.922538198521035e-11, grad=-1.9999999999015492)]"
      ]
     },
     "execution_count": 5,
     "metadata": {},
     "output_type": "execute_result"
    }
   ],
   "source": [
    "ypred"
   ]
  },
  {
   "cell_type": "code",
   "execution_count": 1,
   "id": "4626fa7e-a6cd-4f3f-aede-d3df622e968f",
   "metadata": {},
   "outputs": [],
   "source": [
    "class Value:\n",
    "  \n",
    "  def __init__(self, data, _children=(), _op='', label=''):\n",
    "    self.data = data\n",
    "    self.grad = 0.0\n",
    "    self._backward = lambda: None\n",
    "    self._prev = set(_children)\n",
    "    self._op = _op\n",
    "    self.label = label\n",
    "\n",
    "  def __repr__(self):\n",
    "    return f\"Value(data={self.data})\"\n",
    "  \n",
    "  def __add__(self, other):\n",
    "    other = other if isinstance(other, Value) else Value(other)\n",
    "    out = Value(self.data + other.data, (self, other), '+')\n",
    "    \n",
    "    def _backward():\n",
    "      self.grad += 1.0 * out.grad\n",
    "      other.grad += 1.0 * out.grad\n",
    "    out._backward = _backward\n",
    "    \n",
    "    return out\n",
    "\n",
    "  def __mul__(self, other):\n",
    "    other = other if isinstance(other, Value) else Value(other)\n",
    "    out = Value(self.data * other.data, (self, other), '*')\n",
    "    \n",
    "    def _backward():\n",
    "      self.grad += other.data * out.grad\n",
    "      other.grad += self.data * out.grad\n",
    "    out._backward = _backward\n",
    "      \n",
    "    return out\n",
    "  \n",
    "  def __pow__(self, other):\n",
    "    assert isinstance(other, (int, float)), \"only supporting int/float powers for now\"\n",
    "    out = Value(self.data**other, (self,), f'**{other}')\n",
    "\n",
    "    def _backward():\n",
    "        self.grad += other * (self.data ** (other - 1)) * out.grad\n",
    "    out._backward = _backward\n",
    "\n",
    "    return out\n",
    "  \n",
    "  def __rmul__(self, other): # other * self\n",
    "    return self * other\n",
    "\n",
    "  def __truediv__(self, other): # self / other\n",
    "    return self * other**-1\n",
    "\n",
    "  def __neg__(self): # -self\n",
    "    return self * -1\n",
    "\n",
    "  def __sub__(self, other): # self - other\n",
    "    return self + (-other)\n",
    "\n",
    "  def __radd__(self, other): # other + self\n",
    "    return self + other\n",
    "\n",
    "  def tanh(self):\n",
    "    x = self.data\n",
    "    t = (math.exp(2*x) - 1)/(math.exp(2*x) + 1)\n",
    "    out = Value(t, (self, ), 'tanh')\n",
    "    \n",
    "    def _backward():\n",
    "      self.grad += (1 - t**2) * out.grad\n",
    "    out._backward = _backward\n",
    "    \n",
    "    return out\n",
    "  \n",
    "  def exp(self):\n",
    "    x = self.data\n",
    "    out = Value(math.exp(x), (self, ), 'exp')\n",
    "    \n",
    "    def _backward():\n",
    "      self.grad += out.data * out.grad # NOTE: in the video I incorrectly used = instead of +=. Fixed here.\n",
    "    out._backward = _backward\n",
    "    \n",
    "    return out\n",
    "  \n",
    "  \n",
    "  def backward(self):\n",
    "    \n",
    "    topo = []\n",
    "    visited = set()\n",
    "    def build_topo(v):\n",
    "      if v not in visited:\n",
    "        visited.add(v)\n",
    "        for child in v._prev:\n",
    "          build_topo(child)\n",
    "        topo.append(v)\n",
    "    build_topo(self)\n",
    "    \n",
    "    self.grad = 1.0\n",
    "    for node in reversed(topo):\n",
    "      node._backward()\n",
    "    \n",
    "class Neuron:\n",
    "  \n",
    "  def __init__(self, nin):\n",
    "    self.w = [Value(random.uniform(-1,1)) for _ in range(nin)]\n",
    "    self.b = Value(random.uniform(-1,1))\n",
    "  \n",
    "  def __call__(self, x):\n",
    "    # w * x + b\n",
    "    act = sum((wi*xi for wi, xi in zip(self.w, x)), self.b)\n",
    "    out = act.tanh()\n",
    "    return out\n",
    "  \n",
    "  def parameters(self):\n",
    "    return self.w + [self.b]\n",
    "\n",
    "class Layer:\n",
    "  \n",
    "  def __init__(self, nin, nout):\n",
    "    self.neurons = [Neuron(nin) for _ in range(nout)]\n",
    "  \n",
    "  def __call__(self, x):\n",
    "    outs = [n(x) for n in self.neurons]\n",
    "    return outs[0] if len(outs) == 1 else outs\n",
    "  \n",
    "  def parameters(self):\n",
    "    return [p for neuron in self.neurons for p in neuron.parameters()]\n",
    "\n",
    "class MLP:\n",
    "  \n",
    "  def __init__(self, nin, nouts):\n",
    "    sz = [nin] + nouts\n",
    "    self.layers = [Layer(sz[i], sz[i+1]) for i in range(len(nouts))]\n",
    "  \n",
    "  def __call__(self, x):\n",
    "    for layer in self.layers:\n",
    "      x = layer(x)\n",
    "    return x\n",
    "  \n",
    "  def parameters(self):\n",
    "    return [p for layer in self.layers for p in layer.parameters()]\n"
   ]
  },
  {
   "cell_type": "code",
   "execution_count": 2,
   "id": "5c68a3cc-1cb5-438f-b472-01361b5920a2",
   "metadata": {},
   "outputs": [],
   "source": [
    "import random\n",
    "import math\n",
    "xs = [\n",
    "  [2.0, 3.0, -1.0],\n",
    "  [3.0, -1.0, 0.5],\n",
    "  [0.5, 1.0, 1.0],\n",
    "  [1.0, 1.0, -1.0],\n",
    "]\n",
    "ys = [1.0, -1.0, -1.0, 1.0] # desired targets\n",
    "n = MLP(3, [4, 4, 1])"
   ]
  },
  {
   "cell_type": "code",
   "execution_count": 12,
   "id": "bec92418-71aa-4b19-bbfd-0cd51a21b5bc",
   "metadata": {},
   "outputs": [
    {
     "name": "stdout",
     "output_type": "stream",
     "text": [
      "0 0.0018231434705995087\n",
      "1 0.0018125319536958472\n",
      "2 0.0018020410143240139\n",
      "3 0.0017916686216402416\n",
      "4 0.0017814127900135437\n",
      "5 0.0017712715777765445\n",
      "6 0.0017612430860177199\n",
      "7 0.0017513254574129749\n",
      "8 0.0017415168750954343\n",
      "9 0.0017318155615617995\n",
      "10 0.0017222197776139412\n",
      "11 0.0017127278213343784\n",
      "12 0.0017033380270945707\n",
      "13 0.0016940487645944976\n",
      "14 0.0016848584379326361\n",
      "15 0.0016757654847050967\n",
      "16 0.0016667683751329005\n",
      "17 0.0016578656112164213\n",
      "18 0.0016490557259158524\n",
      "19 0.0016403372823569093\n"
     ]
    }
   ],
   "source": [
    "for k in range(20):\n",
    "  \n",
    "  # forward pass\n",
    "  ypred = [n(x) for x in xs]\n",
    "  loss = sum((yout - ygt)**2 for ygt, yout in zip(ys, ypred))\n",
    "  \n",
    "  # backward pass\n",
    "  for p in n.parameters():\n",
    "    p.grad = 0.0\n",
    "  loss.backward()\n",
    "  \n",
    "  # update\n",
    "  for p in n.parameters():\n",
    "    p.data += -0.1 * p.grad\n",
    "  \n",
    "  print(k, loss.data)"
   ]
  },
  {
   "cell_type": "code",
   "execution_count": 14,
   "id": "b82689df-069f-4429-ba86-4b14d66c42f0",
   "metadata": {},
   "outputs": [
    {
     "data": {
      "text/plain": [
       "[Value(data=0.9815923593345907),\n",
       " Value(data=-0.9846536802130444),\n",
       " Value(data=-0.9771025612628587),\n",
       " Value(data=0.9767256833448233)]"
      ]
     },
     "execution_count": 14,
     "metadata": {},
     "output_type": "execute_result"
    }
   ],
   "source": [
    "ypred\n"
   ]
  },
  {
   "cell_type": "code",
   "execution_count": 15,
   "id": "94c10cdc-187f-48b2-b977-ee503f73b4bd",
   "metadata": {},
   "outputs": [
    {
     "ename": "NameError",
     "evalue": "name 'x' is not defined",
     "output_type": "error",
     "traceback": [
      "\u001b[0;31m---------------------------------------------------------------------------\u001b[0m",
      "\u001b[0;31mNameError\u001b[0m                                 Traceback (most recent call last)",
      "Cell \u001b[0;32mIn[15], line 1\u001b[0m\n\u001b[0;32m----> 1\u001b[0m n(\u001b[43mx\u001b[49m)\n",
      "\u001b[0;31mNameError\u001b[0m: name 'x' is not defined"
     ]
    }
   ],
   "source": [
    "n(x)"
   ]
  }
 ],
 "metadata": {
  "kernelspec": {
   "display_name": "Python 3 (ipykernel)",
   "language": "python",
   "name": "python3"
  },
  "language_info": {
   "codemirror_mode": {
    "name": "ipython",
    "version": 3
   },
   "file_extension": ".py",
   "mimetype": "text/x-python",
   "name": "python",
   "nbconvert_exporter": "python",
   "pygments_lexer": "ipython3",
   "version": "3.8.15"
  }
 },
 "nbformat": 4,
 "nbformat_minor": 5
}
