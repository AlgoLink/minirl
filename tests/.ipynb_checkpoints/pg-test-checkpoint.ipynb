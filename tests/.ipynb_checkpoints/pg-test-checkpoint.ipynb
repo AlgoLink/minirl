{
 "cells": [
  {
   "cell_type": "code",
   "execution_count": 2,
   "id": "8646cc4b-cc4a-4e0f-970d-a1fcd21880d4",
   "metadata": {},
   "outputs": [],
   "source": [
    "from minirl import PGAgent\n",
    "test = PGAgent(3,2)"
   ]
  },
  {
   "cell_type": "code",
   "execution_count": 40,
   "id": "ce9f6a70-24f3-4ac8-b5c1-d552a90beb45",
   "metadata": {},
   "outputs": [
    {
     "data": {
      "text/plain": [
       "1"
      ]
     },
     "execution_count": 40,
     "metadata": {},
     "output_type": "execute_result"
    }
   ],
   "source": [
    "test.act([0,0,1])"
   ]
  },
  {
   "cell_type": "code",
   "execution_count": 96,
   "id": "a34dd9bd-25e9-4c75-85d3-d75a08a2e17c",
   "metadata": {},
   "outputs": [],
   "source": [
    "test.cal_model_score(10)"
   ]
  },
  {
   "cell_type": "code",
   "execution_count": 97,
   "id": "2492a899-0703-4967-9065-95897a10c974",
   "metadata": {},
   "outputs": [
    {
     "data": {
      "text/plain": [
       "[-10, 10, 10]"
      ]
     },
     "execution_count": 97,
     "metadata": {},
     "output_type": "execute_result"
    }
   ],
   "source": [
    "test.rewards"
   ]
  },
  {
   "cell_type": "code",
   "execution_count": 23,
   "id": "8ee47028-92d6-4d7b-b092-de0fdbf01b58",
   "metadata": {},
   "outputs": [
    {
     "data": {
      "text/plain": [
       "0"
      ]
     },
     "execution_count": 23,
     "metadata": {},
     "output_type": "execute_result"
    }
   ],
   "source": [
    "test.best_score"
   ]
  },
  {
   "cell_type": "code",
   "execution_count": 24,
   "id": "7be355bf-ab42-4513-ad63-205b753c7259",
   "metadata": {},
   "outputs": [
    {
     "data": {
      "text/plain": [
       "deque([-0.1, 1.1], maxlen=10)"
      ]
     },
     "execution_count": 24,
     "metadata": {},
     "output_type": "execute_result"
    }
   ],
   "source": [
    "test.score_history"
   ]
  },
  {
   "cell_type": "code",
   "execution_count": 98,
   "id": "c4135e2d-91fd-41e1-81d2-90115b48b2ed",
   "metadata": {},
   "outputs": [],
   "source": [
    "test.learn()"
   ]
  },
  {
   "cell_type": "code",
   "execution_count": 43,
   "id": "c9e179e8-ceaa-434b-9d3f-55b5ddb035c4",
   "metadata": {},
   "outputs": [
    {
     "data": {
      "text/plain": [
       "array([[0, 0, 1],\n",
       "       [0, 0, 1],\n",
       "       [0, 0, 1]])"
      ]
     },
     "execution_count": 43,
     "metadata": {},
     "output_type": "execute_result"
    }
   ],
   "source": [
    "import numpy as np\n",
    "np.concatenate(test.policy.cache[\"fwd_x\"])"
   ]
  },
  {
   "cell_type": "code",
   "execution_count": 90,
   "id": "43ae9e98-0deb-4fcb-a79a-ca470858c6a5",
   "metadata": {},
   "outputs": [
    {
     "data": {
      "text/plain": [
       "{}"
      ]
     },
     "execution_count": 90,
     "metadata": {},
     "output_type": "execute_result"
    }
   ],
   "source": [
    "test.policy.cache"
   ]
  },
  {
   "cell_type": "code",
   "execution_count": 112,
   "id": "c46dcb61-b20b-4e53-bb6e-49ed77119c22",
   "metadata": {},
   "outputs": [
    {
     "name": "stdout",
     "output_type": "stream",
     "text": [
      "0\n",
      "0\n",
      "1\n",
      "1\n",
      "0\n",
      "0\n",
      "0\n",
      "1\n",
      "0\n",
      "0\n"
     ]
    }
   ],
   "source": [
    "for i in range(10):\n",
    "    print(test.act([1,1,0]))"
   ]
  }
 ],
 "metadata": {
  "kernelspec": {
   "display_name": "Python 3 (ipykernel)",
   "language": "python",
   "name": "python3"
  },
  "language_info": {
   "codemirror_mode": {
    "name": "ipython",
    "version": 3
   },
   "file_extension": ".py",
   "mimetype": "text/x-python",
   "name": "python",
   "nbconvert_exporter": "python",
   "pygments_lexer": "ipython3",
   "version": "3.8.15"
  }
 },
 "nbformat": 4,
 "nbformat_minor": 5
}
