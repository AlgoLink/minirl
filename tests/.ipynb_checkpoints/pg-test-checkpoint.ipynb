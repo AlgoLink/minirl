{
 "cells": [
  {
   "cell_type": "code",
   "execution_count": 69,
   "id": "8646cc4b-cc4a-4e0f-970d-a1fcd21880d4",
   "metadata": {},
   "outputs": [],
   "source": [
    "from minirl import PGAgent\n",
    "test = PGAgent(6,2)"
   ]
  },
  {
   "cell_type": "code",
   "execution_count": 76,
   "id": "ce9f6a70-24f3-4ac8-b5c1-d552a90beb45",
   "metadata": {},
   "outputs": [
    {
     "data": {
      "text/plain": [
       "1"
      ]
     },
     "execution_count": 76,
     "metadata": {},
     "output_type": "execute_result"
    }
   ],
   "source": [
    "test.act([1,1,1,1,1.1,1])"
   ]
  },
  {
   "cell_type": "code",
   "execution_count": 75,
   "id": "a34dd9bd-25e9-4c75-85d3-d75a08a2e17c",
   "metadata": {},
   "outputs": [],
   "source": [
    "test.add_step_reward(0)"
   ]
  },
  {
   "cell_type": "code",
   "execution_count": 60,
   "id": "2492a899-0703-4967-9065-95897a10c974",
   "metadata": {},
   "outputs": [
    {
     "data": {
      "text/plain": [
       "[0, 0]"
      ]
     },
     "execution_count": 60,
     "metadata": {},
     "output_type": "execute_result"
    }
   ],
   "source": [
    "test.rewards"
   ]
  },
  {
   "cell_type": "code",
   "execution_count": 23,
   "id": "8ee47028-92d6-4d7b-b092-de0fdbf01b58",
   "metadata": {},
   "outputs": [
    {
     "data": {
      "text/plain": [
       "0"
      ]
     },
     "execution_count": 23,
     "metadata": {},
     "output_type": "execute_result"
    }
   ],
   "source": [
    "test.best_score"
   ]
  },
  {
   "cell_type": "code",
   "execution_count": 61,
   "id": "7be355bf-ab42-4513-ad63-205b753c7259",
   "metadata": {},
   "outputs": [
    {
     "data": {
      "text/plain": [
       "deque([-1.0, 1.0, -1.0, 0, 0], maxlen=10)"
      ]
     },
     "execution_count": 61,
     "metadata": {},
     "output_type": "execute_result"
    }
   ],
   "source": [
    "test.score_history"
   ]
  },
  {
   "cell_type": "code",
   "execution_count": 62,
   "id": "c4135e2d-91fd-41e1-81d2-90115b48b2ed",
   "metadata": {},
   "outputs": [],
   "source": [
    "test.learn()"
   ]
  },
  {
   "cell_type": "code",
   "execution_count": 43,
   "id": "c9e179e8-ceaa-434b-9d3f-55b5ddb035c4",
   "metadata": {},
   "outputs": [
    {
     "data": {
      "text/plain": [
       "array([[0, 0, 1],\n",
       "       [0, 0, 1],\n",
       "       [0, 0, 1]])"
      ]
     },
     "execution_count": 43,
     "metadata": {},
     "output_type": "execute_result"
    }
   ],
   "source": [
    "import numpy as np\n",
    "np.concatenate(test.policy.cache[\"fwd_x\"])"
   ]
  },
  {
   "cell_type": "code",
   "execution_count": 33,
   "id": "43ae9e98-0deb-4fcb-a79a-ca470858c6a5",
   "metadata": {},
   "outputs": [],
   "source": [
    "#test.policy.params"
   ]
  },
  {
   "cell_type": "code",
   "execution_count": 117,
   "id": "c46dcb61-b20b-4e53-bb6e-49ed77119c22",
   "metadata": {},
   "outputs": [
    {
     "name": "stdout",
     "output_type": "stream",
     "text": [
      "0\n",
      "0\n",
      "0\n",
      "0\n",
      "1\n",
      "1\n",
      "0\n",
      "1\n",
      "1\n",
      "1\n"
     ]
    }
   ],
   "source": [
    "for i in range(10):\n",
    "    print(test.act([1,1,0]))"
   ]
  },
  {
   "cell_type": "code",
   "execution_count": null,
   "id": "4a3c4ed1-b519-4473-902f-df22fe95338d",
   "metadata": {},
   "outputs": [],
   "source": []
  }
 ],
 "metadata": {
  "kernelspec": {
   "display_name": "Python 3 (ipykernel)",
   "language": "python",
   "name": "python3"
  },
  "language_info": {
   "codemirror_mode": {
    "name": "ipython",
    "version": 3
   },
   "file_extension": ".py",
   "mimetype": "text/x-python",
   "name": "python",
   "nbconvert_exporter": "python",
   "pygments_lexer": "ipython3",
   "version": "3.8.15"
  }
 },
 "nbformat": 4,
 "nbformat_minor": 5
}
