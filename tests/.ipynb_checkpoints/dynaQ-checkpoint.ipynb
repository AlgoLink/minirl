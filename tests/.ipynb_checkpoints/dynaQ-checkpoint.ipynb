{
 "cells": [
  {
   "cell_type": "code",
   "execution_count": 1,
   "id": "79695e4c-ca8d-4523-a661-74f097dc6b81",
   "metadata": {},
   "outputs": [],
   "source": [
    "from minirl.core.dynaQ import DynaQ"
   ]
  },
  {
   "cell_type": "code",
   "execution_count": 2,
   "id": "49406021-d773-4639-9eba-0b0654f4f82b",
   "metadata": {},
   "outputs": [],
   "source": [
    "import hirlite\n",
    "\n",
    "tdb = hirlite.Rlite(encoding='utf8',path=\"test.db\")"
   ]
  },
  {
   "cell_type": "code",
   "execution_count": 3,
   "id": "506a8321-d915-403f-adc8-b4b068fbed18",
   "metadata": {},
   "outputs": [
    {
     "name": "stdout",
     "output_type": "stream",
     "text": [
      "simple two layer neural network based on numpy\n",
      "creating nn: #input:20 #hidden:64 #output:['up', 'avg', 'nochange']\n"
     ]
    }
   ],
   "source": [
    "state_space=[\"dc1\",\"dc2\",\"dc3\",\"dc4\"]\n",
    "test=DynaQ(state_space=state_space,\n",
    "        actions = [\"up\",\"avg\",\"nochange\"],\n",
    "        alpha=0.7,\n",
    "        gamma=0.9,\n",
    "        random_seed=2023,\n",
    "        eps=0.2,\n",
    "        model_db=tdb,\n",
    "        score_db=tdb,\n",
    "        his_db=tdb,\n",
    "        N=7,  # no. of steps in planning phase\n",
    "        n=3,)"
   ]
  },
  {
   "cell_type": "code",
   "execution_count": 10,
   "id": "c0271f98-cd79-44e4-b8ed-972716aab755",
   "metadata": {},
   "outputs": [
    {
     "name": "stdout",
     "output_type": "stream",
     "text": [
      "act using random method\n",
      "CPU times: user 466 µs, sys: 1.89 ms, total: 2.36 ms\n",
      "Wall time: 2.53 ms\n"
     ]
    },
    {
     "data": {
      "text/plain": [
       "'up'"
      ]
     },
     "execution_count": 10,
     "metadata": {},
     "output_type": "execute_result"
    }
   ],
   "source": [
    "%%time\n",
    "test.act(\"dc1\",\"local_model\",\"share_model\",debug=True)"
   ]
  },
  {
   "cell_type": "code",
   "execution_count": 9,
   "id": "77a9f80c-788a-492d-912a-fa835c40099d",
   "metadata": {},
   "outputs": [
    {
     "data": {
      "text/plain": [
       "deque([['dc1', 'nochange'], ['dc1', 'nochange'], ['dc1', 'avg']], maxlen=3)"
      ]
     },
     "execution_count": 9,
     "metadata": {},
     "output_type": "execute_result"
    }
   ],
   "source": [
    "test.get_stateActionHist(\"local_model\")"
   ]
  },
  {
   "cell_type": "code",
   "execution_count": 10,
   "id": "f844729d-a7a9-4e8a-b428-9d4d58458c37",
   "metadata": {},
   "outputs": [
    {
     "data": {
      "text/plain": [
       "'avg'"
      ]
     },
     "execution_count": 10,
     "metadata": {},
     "output_type": "execute_result"
    }
   ],
   "source": [
    "state = \"dc1\"\n",
    "model_id = \"share_model\"\n",
    "test.get_action_bylastDelta(state, model_id, topN=1)"
   ]
  },
  {
   "cell_type": "code",
   "execution_count": 14,
   "id": "983269b7-726e-49f2-950e-a7a8a5e2ecb4",
   "metadata": {},
   "outputs": [
    {
     "data": {
      "text/plain": [
       "deque([['dc1', 'nochange'], ['dc1', 'nochange'], ['dc1', 'avg']], maxlen=3)"
      ]
     },
     "execution_count": 14,
     "metadata": {},
     "output_type": "execute_result"
    }
   ],
   "source": [
    "test.get_stateActionHist(\"local_model\")"
   ]
  },
  {
   "cell_type": "code",
   "execution_count": 16,
   "id": "e206f8a8-b9ce-48fd-9487-1bbdb1b2b7b0",
   "metadata": {},
   "outputs": [
    {
     "data": {
      "text/plain": [
       "['avg']"
      ]
     },
     "execution_count": 16,
     "metadata": {},
     "output_type": "execute_result"
    }
   ],
   "source": [
    "model_id=\"share_model\"\n",
    "topN=1\n",
    "delta_key = f\"{model_id}:{state}:lastDelta\"\n",
    "action_list = test._score_db.zrange(delta_key, \"0\", str(topN - 1))\n",
    "action_list"
   ]
  },
  {
   "cell_type": "code",
   "execution_count": 11,
   "id": "dcb6e586-672d-4845-a84a-19c65bbbb270",
   "metadata": {},
   "outputs": [
    {
     "ename": "NameError",
     "evalue": "name 'state' is not defined",
     "output_type": "error",
     "traceback": [
      "\u001b[0;31m---------------------------------------------------------------------------\u001b[0m",
      "\u001b[0;31mNameError\u001b[0m                                 Traceback (most recent call last)",
      "File \u001b[0;32m<timed eval>:1\u001b[0m\n",
      "\u001b[0;31mNameError\u001b[0m: name 'state' is not defined"
     ]
    }
   ],
   "source": [
    "%%time\n",
    "test.learn(state,\n",
    "        action=\"avg\",\n",
    "        reward=1.0,\n",
    "        local_model_id=\"local_model\",\n",
    "        share_model_id=\"share_model\",)"
   ]
  }
 ],
 "metadata": {
  "kernelspec": {
   "display_name": "Python 3 (ipykernel)",
   "language": "python",
   "name": "python3"
  },
  "language_info": {
   "codemirror_mode": {
    "name": "ipython",
    "version": 3
   },
   "file_extension": ".py",
   "mimetype": "text/x-python",
   "name": "python",
   "nbconvert_exporter": "python",
   "pygments_lexer": "ipython3",
   "version": "3.8.15"
  }
 },
 "nbformat": 4,
 "nbformat_minor": 5
}
