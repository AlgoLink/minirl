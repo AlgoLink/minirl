{
 "cells": [
  {
   "cell_type": "code",
   "execution_count": 1,
   "id": "0442e6d7-24b6-4f42-ac53-7b903dcdb262",
   "metadata": {},
   "outputs": [
    {
     "name": "stdout",
     "output_type": "stream",
     "text": [
      "2023-05-08 16:36:05 [info     ] APIs of mlopskit               model_name=feature_store model_version=1 ops_type=cache\n",
      "2023-05-08 16:36:05 [info     ] The list of all versions for the current model is \u001b[42;1m[1, 2]\u001b[0m.\n",
      "2023-05-08 16:36:05 [warning  ] The version 1 is out of date. You should consider upgrading to version `v2`.\n",
      "2023-05-08 16:36:05 [info     ] Usage of mlopskit-cache        Params=\u001b[36;1m{'db_type': 'rlite/redis/sfdb/diskcache, default:rlite', 'return_type': 'dblink/dbobj, default: dbobj', 'db_name': 'default: rlite_model.cache'}\u001b[0m\n"
     ]
    }
   ],
   "source": [
    "from minirl.agents.pg import PGAgent\n",
    "\n",
    "from mlopskit import make\n",
    "\n",
    "model_db = make(\"cache/feature_store-v1\",db_name=\"lmodel.db\")"
   ]
  },
  {
   "cell_type": "code",
   "execution_count": 2,
   "id": "681859d7",
   "metadata": {},
   "outputs": [
    {
     "data": {
      "text/plain": [
       "1"
      ]
     },
     "execution_count": 2,
     "metadata": {},
     "output_type": "execute_result"
    }
   ],
   "source": [
    "model_db.rpush(\"rpush\",\"1\")"
   ]
  },
  {
   "cell_type": "code",
   "execution_count": 7,
   "id": "d400f41c",
   "metadata": {},
   "outputs": [
    {
     "data": {
      "text/plain": [
       "3"
      ]
     },
     "execution_count": 7,
     "metadata": {},
     "output_type": "execute_result"
    }
   ],
   "source": [
    "model_db.lpush(\"rpush\",\"3\")"
   ]
  },
  {
   "cell_type": "code",
   "execution_count": 15,
   "id": "bae42076",
   "metadata": {},
   "outputs": [
    {
     "data": {
      "text/plain": [
       "['3', '1', '2']"
      ]
     },
     "execution_count": 15,
     "metadata": {},
     "output_type": "execute_result"
    }
   ],
   "source": [
    "model_db.lrange(\"rpush\",\"0\",\"2\")\n"
   ]
  },
  {
   "cell_type": "code",
   "execution_count": 10,
   "id": "3ce299ea",
   "metadata": {},
   "outputs": [
    {
     "data": {
      "text/plain": [
       "0"
      ]
     },
     "execution_count": 10,
     "metadata": {},
     "output_type": "execute_result"
    }
   ],
   "source": [
    "model_db.llen(\"rpush2\")\n"
   ]
  },
  {
   "cell_type": "code",
   "execution_count": 5,
   "id": "550206ac",
   "metadata": {},
   "outputs": [
    {
     "name": "stdout",
     "output_type": "stream",
     "text": [
      "Overwriting pg_newmodel.py\n"
     ]
    }
   ],
   "source": [
    "%%file pg_newmodel.py\n",
    "\n",
    "from itertools import count\n",
    "import gym\n",
    "import numpy as np\n",
    "from minirl.agents.pg import PGAgent\n",
    "\n",
    "from mlopskit import make\n",
    "\n",
    "model_db = make(\"cache/feature_store-v1\",db_name=\"lmodel.db\")\n",
    "model_id=\"pg\"\n",
    "env = gym.make('CartPole-v1')\n",
    "ob_n = env.observation_space.shape[0]\n",
    "ac_n = env.action_space.n\n",
    "agent=PGAgent(ob_n,ac_n,model_db=model_db,model_id=model_id)\n",
    "render_interval = -1\n",
    "log_interval=100\n",
    "def main():\n",
    "    \"\"\"Run REINFORCE algorithm to train on the environment\"\"\"\n",
    "    avg_reward = []\n",
    "    for i_episode in count(1):\n",
    "        ep_reward = 0\n",
    "        obs,_ = env.reset()\n",
    "        for t in range(100):  # Don't infinite loop while learning\n",
    "            \n",
    "            action = agent.act(obs,model_id)\n",
    "            next_obs, reward, done, _,_ = env.step(action)\n",
    "            ep_reward += reward\n",
    "            agent.rewards.append(reward)\n",
    "\n",
    "            if render_interval != -1 and i_episode % render_interval == 0:\n",
    "                env.render()\n",
    "\n",
    "            if done:\n",
    "                break\n",
    "                \n",
    "            obs=next_obs\n",
    "\n",
    "        agent.learn(model_id)\n",
    "\n",
    "        if i_episode % log_interval == 0:\n",
    "            print(\"Ave reward: {}\".format(sum(avg_reward)/len(avg_reward)))\n",
    "            avg_reward = []\n",
    "\n",
    "        else:\n",
    "            avg_reward.append(ep_reward)\n",
    "\n",
    "\n",
    "main()"
   ]
  },
  {
   "cell_type": "code",
   "execution_count": null,
   "id": "8bdeafec",
   "metadata": {},
   "outputs": [],
   "source": []
  }
 ],
 "metadata": {
  "kernelspec": {
   "display_name": "base",
   "language": "python",
   "name": "python3"
  },
  "language_info": {
   "codemirror_mode": {
    "name": "ipython",
    "version": 3
   },
   "file_extension": ".py",
   "mimetype": "text/x-python",
   "name": "python",
   "nbconvert_exporter": "python",
   "pygments_lexer": "ipython3",
   "version": "3.8.15"
  },
  "vscode": {
   "interpreter": {
    "hash": "f06f4baf162c1bba868b3ed890ca059fd0c13f705dc9d48413e36c65b86dd60d"
   }
  }
 },
 "nbformat": 4,
 "nbformat_minor": 5
}
