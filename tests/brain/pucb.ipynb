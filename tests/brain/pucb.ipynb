{
 "cells": [
  {
   "cell_type": "code",
   "execution_count": 2,
   "metadata": {},
   "outputs": [
    {
     "name": "stdout",
     "output_type": "stream",
     "text": [
      "2023-06-19 20:27:24 [info     ] APIs of mlopskit               model_name=feature_store model_version=1 ops_type=cache\n",
      "2023-06-19 20:27:24 [info     ] The list of all versions for the current model is \u001b[42;1m[1, 2]\u001b[0m.\n",
      "2023-06-19 20:27:24 [warning  ] The version 1 is out of date. You should consider upgrading to version `v2`.\n",
      "2023-06-19 20:27:24 [info     ] Usage of mlopskit-cache        Params=\u001b[36;1m{'db_type': 'rlite/redis/sfdb/diskcache, default:rlite', 'return_type': 'dblink/dbobj, default: dbobj', 'db_name': 'default: rlite_model.cache'}\u001b[0m\n"
     ]
    }
   ],
   "source": [
    "from minirl.brain.pucb import PUCB\n",
    "\n",
    "from mlopskit import make\n",
    "model_db = make(\"cache/feature_store-v1\",db_name=\"pucb.db\")"
   ]
  },
  {
   "cell_type": "code",
   "execution_count": 3,
   "metadata": {},
   "outputs": [],
   "source": [
    "test=PUCB(action_n=3,model_db=model_db)"
   ]
  },
  {
   "cell_type": "code",
   "execution_count": 87,
   "metadata": {},
   "outputs": [
    {
     "name": "stdout",
     "output_type": "stream",
     "text": [
      "1\n",
      "2\n",
      "2\n",
      "1\n",
      "2\n",
      "2\n",
      "1\n",
      "2\n",
      "2\n",
      "2\n"
     ]
    }
   ],
   "source": [
    "import numpy as np\n",
    "\n",
    "p=[1/3,1/3,1.0/3]\n",
    "for i in range(10):\n",
    "    c=test.act(priors=np.array(p),model_id='test')\n",
    "    print(c)"
   ]
  },
  {
   "cell_type": "code",
   "execution_count": 34,
   "metadata": {},
   "outputs": [],
   "source": [
    "test.learn(2,1.0,\"test\")"
   ]
  },
  {
   "cell_type": "code",
   "execution_count": 66,
   "metadata": {},
   "outputs": [
    {
     "data": {
      "text/plain": [
       "(array([7., 0., 4.]),\n",
       " array([0.09859155, 0.        , 0.04301075]),\n",
       " array([131.,  71., 119.]))"
      ]
     },
     "execution_count": 66,
     "metadata": {},
     "output_type": "execute_result"
    }
   ],
   "source": [
    "test.get_weights(\"test\")"
   ]
  },
  {
   "cell_type": "code",
   "execution_count": 84,
   "metadata": {},
   "outputs": [],
   "source": [
    "test.learn(0,3.0,\"test\")"
   ]
  },
  {
   "cell_type": "code",
   "execution_count": 85,
   "metadata": {},
   "outputs": [
    {
     "data": {
      "text/plain": [
       "(array([10.,  0.,  4.]),\n",
       " array([0.04739336, 0.        , 0.04301075]),\n",
       " array([211.,  71., 119.]))"
      ]
     },
     "execution_count": 85,
     "metadata": {},
     "output_type": "execute_result"
    }
   ],
   "source": [
    "test.get_weights(\"test\")"
   ]
  },
  {
   "cell_type": "code",
   "execution_count": 89,
   "metadata": {},
   "outputs": [
    {
     "data": {
      "text/plain": [
       "{'DC1': 0,\n",
       " 'DC2': 1,\n",
       " 'DC3': 2,\n",
       " 'DC4': 3,\n",
       " 'DC5': 4,\n",
       " 'DC6': 5,\n",
       " 'DC7': 6,\n",
       " 'DC8': 7,\n",
       " 'DC9': 8,\n",
       " 'DC10': 9,\n",
       " 'DC11': 10,\n",
       " 'DC12': 11,\n",
       " 'DC13': 12,\n",
       " 'DC14': 13,\n",
       " 'DC15': 14,\n",
       " 'DC16': 15,\n",
       " 'DC17': 16,\n",
       " 'DC18': 17,\n",
       " 'DC19': 18,\n",
       " 'DC20': 19,\n",
       " 'DC21': 20,\n",
       " 'DC22': 21,\n",
       " 'DC23': 22,\n",
       " 'DC24': 23,\n",
       " 'DC25': 24,\n",
       " 'DC26': 25,\n",
       " 'DC27': 26,\n",
       " 'DC28': 27,\n",
       " 'DC29': 28,\n",
       " 'DC30': 29,\n",
       " 'DC31': 30,\n",
       " 'DC32': 31,\n",
       " 'DC33': 32,\n",
       " 'DC34': 33}"
      ]
     },
     "execution_count": 89,
     "metadata": {},
     "output_type": "execute_result"
    }
   ],
   "source": [
    "price_dict = {\n",
    "    \"DC1\": 0.99,\n",
    "    \"DC2\": 1.99,\n",
    "    \"DC3\": 2.99,\n",
    "    \"DC4\": 3.99,\n",
    "    \"DC5\": 4.99,\n",
    "    \"DC6\": 5.99,\n",
    "    \"DC7\": 7.99,\n",
    "    \"DC8\": 9.99,\n",
    "    \"DC9\": 11.99,\n",
    "    \"DC10\": 14.99,\n",
    "    \"DC11\": 19.99,\n",
    "    \"DC12\": 24.99,\n",
    "    \"DC13\": 29.99,\n",
    "    \"DC14\": 39.99,\n",
    "    \"DC15\": 49.99,\n",
    "    \"DC16\": 59.99,\n",
    "    \"DC17\": 69.99,\n",
    "    \"DC18\": 79.99,\n",
    "    \"DC19\": 89.99,\n",
    "    \"DC20\": 99.99,\n",
    "    \"DC21\": 109.99,\n",
    "    \"DC22\": 119.99,\n",
    "    \"DC23\": 124.99,\n",
    "    \"DC24\": 139.99,\n",
    "    \"DC25\": 149.99,\n",
    "    \"DC26\": 159.99,\n",
    "    \"DC27\": 169.99,\n",
    "    \"DC28\": 179.99,\n",
    "    \"DC29\": 189.99,\n",
    "    \"DC30\": 199.99,\n",
    "    \"DC31\": 249.99,\n",
    "    \"DC32\": 299.99,\n",
    "    \"DC33\": 349.99,\n",
    "    \"DC34\": 399.99,\n",
    "}\n",
    "\n",
    "\n",
    "\n",
    "index_dict = {key: index for index, key in enumerate(price_dict.keys())}\n",
    "\n",
    "index_dict"
   ]
  },
  {
   "cell_type": "code",
   "execution_count": 96,
   "metadata": {},
   "outputs": [
    {
     "data": {
      "text/plain": [
       "[]"
      ]
     },
     "execution_count": 96,
     "metadata": {},
     "output_type": "execute_result"
    }
   ],
   "source": [
    "def get_index_list(price_dict, index_dict, min_price, max_price):\n",
    "    index_list = []\n",
    "    for dc, price in price_dict.items():\n",
    "        if min_price <= price <= max_price:\n",
    "            index_list.append(index_dict[dc])\n",
    "    return index_list\n",
    "\n",
    "\n",
    "get_index_list(price_dict,index_dict,0,0.1)"
   ]
  },
  {
   "cell_type": "code",
   "execution_count": 100,
   "metadata": {},
   "outputs": [
    {
     "data": {
      "text/plain": [
       "1.99"
      ]
     },
     "execution_count": 100,
     "metadata": {},
     "output_type": "execute_result"
    }
   ],
   "source": [
    "def get_price_by_index(price_dict, index_dict, index):\n",
    "    dc = list(index_dict.keys())[list(index_dict.values()).index(index)]\n",
    "    price = price_dict[dc]\n",
    "    return price\n",
    "\n",
    "\n",
    "get_price_by_index(price_dict, index_dict, 1)\n",
    "\n"
   ]
  },
  {
   "cell_type": "code",
   "execution_count": null,
   "metadata": {},
   "outputs": [],
   "source": [
    "from minirl.brain.cmab import LinUCB\n",
    "\n",
    "test=LinUCB(actions=[1,2,3],obs_dim=4,model_db=model_db)"
   ]
  }
 ],
 "metadata": {
  "kernelspec": {
   "display_name": "base",
   "language": "python",
   "name": "python3"
  },
  "language_info": {
   "codemirror_mode": {
    "name": "ipython",
    "version": 3
   },
   "file_extension": ".py",
   "mimetype": "text/x-python",
   "name": "python",
   "nbconvert_exporter": "python",
   "pygments_lexer": "ipython3",
   "version": "3.8.15 (default, Nov 24 2022, 08:57:44) \n[Clang 14.0.6 ]"
  },
  "orig_nbformat": 4,
  "vscode": {
   "interpreter": {
    "hash": "f06f4baf162c1bba868b3ed890ca059fd0c13f705dc9d48413e36c65b86dd60d"
   }
  }
 },
 "nbformat": 4,
 "nbformat_minor": 2
}
