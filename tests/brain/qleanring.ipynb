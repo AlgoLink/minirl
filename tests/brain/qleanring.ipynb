{
 "cells": [
  {
   "cell_type": "code",
   "execution_count": null,
   "metadata": {},
   "outputs": [],
   "source": [
    "from minirl.brain.q_learning import Qlearning\n",
    "from mlopskit import make\n",
    "\n",
    "model_db = make(\"cache/uni_pricing_rl-v3\", db_name=\"qlearning.db\")\n",
    "\n",
    "# Agent parameters\n",
    "agent_parameters = {\n",
    "    \"obs_dim\": (34,),\n",
    "    \"action_n\": 3,\n",
    "    \"actions\": [],\n",
    "    \"eps\": 0.2,\n",
    "    \"gamma\": 0.99,\n",
    "    \"model_db\": model_db,\n",
    "    \"score_db\": None,\n",
    "    \"seed\": 0,\n",
    "    \"alpha\": 0.1,\n",
    "    \"alpha_theta\": 0.1,\n",
    "}\n",
    "\n",
    "\n",
    "test = Qlearning(agent_parameters)"
   ]
  }
 ],
 "metadata": {
  "kernelspec": {
   "display_name": "base",
   "language": "python",
   "name": "python3"
  },
  "language_info": {
   "name": "python",
   "version": "3.8.15 (default, Nov 24 2022, 08:57:44) \n[Clang 14.0.6 ]"
  },
  "orig_nbformat": 4,
  "vscode": {
   "interpreter": {
    "hash": "f06f4baf162c1bba868b3ed890ca059fd0c13f705dc9d48413e36c65b86dd60d"
   }
  }
 },
 "nbformat": 4,
 "nbformat_minor": 2
}
