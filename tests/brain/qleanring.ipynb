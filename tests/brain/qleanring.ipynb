{
 "cells": [
  {
   "cell_type": "code",
   "execution_count": null,
   "metadata": {},
   "outputs": [],
   "source": [
    "from minirl.brain.q_learning import Qlearning\n",
    "from mlopskit import make\n",
    "\n",
    "model_db = make(\"cache/uni_pricing_rl-v3\", db_name=\"qlearning.db\")\n",
    "\n",
    "# Agent parameters\n",
    "agent_parameters = {\n",
    "    \"obs_dim\": (34,),\n",
    "    \"action_n\": 3,\n",
    "    \"actions\": [],\n",
    "    \"eps\": 0.2,\n",
    "    \"gamma\": 0.99,\n",
    "    \"model_db\": model_db,\n",
    "    \"score_db\": None,\n",
    "    \"seed\": 0,\n",
    "    \"alpha\": 0.1,\n",
    "    \"alpha_theta\": 0.1,\n",
    "}\n",
    "\n",
    "\n",
    "test = Qlearning(agent_parameters)"
   ]
  },
  {
   "cell_type": "code",
   "execution_count": 2,
   "metadata": {},
   "outputs": [
    {
     "name": "stdout",
     "output_type": "stream",
     "text": [
      "2023-06-09 15:33:47 [info     ] APIs of mlopskit               model_name=feature_store model_version=1 ops_type=cache\n",
      "2023-06-09 15:33:48 [info     ] The list of all versions for the current model is \u001b[42;1m[1, 2]\u001b[0m.\n",
      "2023-06-09 15:33:48 [warning  ] The version 1 is out of date. You should consider upgrading to version `v2`.\n",
      "2023-06-09 15:33:48 [info     ] Usage of mlopskit-cache        Params=\u001b[36;1m{'db_type': 'rlite/redis/sfdb/diskcache, default:rlite', 'return_type': 'dblink/dbobj, default: dbobj', 'db_name': 'default: rlite_model.cache'}\u001b[0m\n"
     ]
    }
   ],
   "source": [
    "from minirl.brain.q_learning import Qlearning\n",
    "from mlopskit import make\n",
    "\n",
    "model_db = make(\"cache/feature_store-v1\", db_name=\"qlearning.db\")\n",
    "\n",
    "# Agent parameters\n",
    "agent_parameters = {\n",
    "    \"obs_dim\": (34,),\n",
    "    \"action_n\": 3,\n",
    "    #\"actions\": [],\n",
    "    \"eps\": 0.2,\n",
    "    \"gamma\": 0.99,\n",
    "    \"model_db\": model_db,\n",
    "    \"score_db\": None,\n",
    "    \"seed\": 0,\n",
    "    \"alpha\": 0.1,\n",
    "    \"alpha_theta\": 0.1,\n",
    "}\n",
    "\n",
    "\n",
    "test = Qlearning(agent_parameters)"
   ]
  },
  {
   "cell_type": "code",
   "execution_count": 3,
   "metadata": {},
   "outputs": [
    {
     "data": {
      "text/plain": [
       "{'id': 'QLearning',\n",
       " 'alpha': 0.1,\n",
       " 'actions': ['up', 'nochange', 'lower'],\n",
       " 'eps': 0.2,\n",
       " 'gamma': 0.99,\n",
       " 'action_n': 3,\n",
       " 'model_db': <hirlite.Rlite at 0x2875c5e50>,\n",
       " 'config': {'obs_dim': (34,),\n",
       "  'action_n': 3,\n",
       "  'eps': 0.2,\n",
       "  'gamma': 0.99,\n",
       "  'model_db': <hirlite.Rlite at 0x2875c5e50>,\n",
       "  'score_db': None,\n",
       "  'seed': 0,\n",
       "  'alpha': 0.1,\n",
       "  'alpha_theta': 0.1}}"
      ]
     },
     "execution_count": 3,
     "metadata": {},
     "output_type": "execute_result"
    }
   ],
   "source": [
    "test.hyperparams"
   ]
  },
  {
   "cell_type": "code",
   "execution_count": 14,
   "metadata": {},
   "outputs": [
    {
     "data": {
      "text/plain": [
       "{'Q': defaultdict(float, {})}"
      ]
     },
     "execution_count": 14,
     "metadata": {},
     "output_type": "execute_result"
    }
   ],
   "source": [
    "test.params"
   ]
  },
  {
   "cell_type": "code",
   "execution_count": 29,
   "metadata": {},
   "outputs": [
    {
     "name": "stdout",
     "output_type": "stream",
     "text": [
      "up\n",
      "up\n",
      "up\n",
      "up\n",
      "up\n",
      "lower\n",
      "up\n",
      "up\n",
      "up\n",
      "up\n"
     ]
    }
   ],
   "source": [
    "\n",
    "for i in range(10):\n",
    "    x=test.act(\"4\",\"test\")\n",
    "    print(x)"
   ]
  },
  {
   "cell_type": "code",
   "execution_count": 27,
   "metadata": {},
   "outputs": [],
   "source": [
    "test.learn(\"4\",\"lower\",-1,\"3\",\"test\")"
   ]
  },
  {
   "cell_type": "code",
   "execution_count": 30,
   "metadata": {},
   "outputs": [
    {
     "data": {
      "text/plain": [
       "defaultdict(float,\n",
       "            {('2', 'up'): 0.1,\n",
       "             ('2', 'nochange'): 0.0,\n",
       "             ('2', 'lower'): 0.0,\n",
       "             (1, 'up'): 0.19,\n",
       "             ('3', 'up'): 0.0,\n",
       "             ('3', 'nochange'): 0.0,\n",
       "             ('3', 'lower'): 0.0,\n",
       "             ('4', 'up'): 0.1,\n",
       "             ('4', 'lower'): -0.1})"
      ]
     },
     "execution_count": 30,
     "metadata": {},
     "output_type": "execute_result"
    }
   ],
   "source": [
    "test.load_weights(\"test\")"
   ]
  },
  {
   "cell_type": "code",
   "execution_count": null,
   "metadata": {},
   "outputs": [],
   "source": [
    "import numpy as np\n",
    "def argmax_rand(arr):\n",
    "    # break ties randomly, np.argmax() always picks first max\n",
    "    return np.random.choice(np.flatnonzero(arr == np.max(arr)))\n",
    "\n",
    "\n",
    "argmax_rand([1,2])"
   ]
  }
 ],
 "metadata": {
  "kernelspec": {
   "display_name": "base",
   "language": "python",
   "name": "python3"
  },
  "language_info": {
   "codemirror_mode": {
    "name": "ipython",
    "version": 3
   },
   "file_extension": ".py",
   "mimetype": "text/x-python",
   "name": "python",
   "nbconvert_exporter": "python",
   "pygments_lexer": "ipython3",
   "version": "3.8.15"
  },
  "orig_nbformat": 4,
  "vscode": {
   "interpreter": {
    "hash": "f06f4baf162c1bba868b3ed890ca059fd0c13f705dc9d48413e36c65b86dd60d"
   }
  }
 },
 "nbformat": 4,
 "nbformat_minor": 2
}
