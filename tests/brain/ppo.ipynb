{
 "cells": [
  {
   "cell_type": "code",
   "execution_count": 1,
   "metadata": {},
   "outputs": [
    {
     "name": "stdout",
     "output_type": "stream",
     "text": [
      "An actor network is created.\n",
      "An actor network is created.\n"
     ]
    }
   ],
   "source": [
    "from minirl.brain.ppo import Agent,TrainingRecord,Transition\n",
    "import numpy as np\n",
    "\n",
    "test=Agent(4,3)"
   ]
  },
  {
   "cell_type": "code",
   "execution_count": 2,
   "metadata": {},
   "outputs": [
    {
     "name": "stdout",
     "output_type": "stream",
     "text": [
      "1 [[-1.40107114 -1.34767422 -1.05150656]]\n"
     ]
    }
   ],
   "source": [
    "a,p=test.act([1,0,0,0])\n",
    "print(a,p)\n",
    "#a,p=test.manet.predict([1,0,0,0],2)"
   ]
  },
  {
   "cell_type": "code",
   "execution_count": 13,
   "metadata": {},
   "outputs": [
    {
     "data": {
      "text/plain": [
       "array([1, 0, 0, 0])"
      ]
     },
     "execution_count": 13,
     "metadata": {},
     "output_type": "execute_result"
    }
   ],
   "source": [
    "\n",
    "state = np.array([1,0,0,0])\n",
    "np.array(state)"
   ]
  },
  {
   "cell_type": "code",
   "execution_count": 8,
   "metadata": {},
   "outputs": [
    {
     "data": {
      "text/plain": [
       "3"
      ]
     },
     "execution_count": 8,
     "metadata": {},
     "output_type": "execute_result"
    }
   ],
   "source": [
    "len([[1,2,3]][0])"
   ]
  },
  {
   "cell_type": "code",
   "execution_count": 3,
   "metadata": {},
   "outputs": [],
   "source": [
    "state = np.array([1,0,0,0])\n",
    "action = a\n",
    "action_log_prob = p\n",
    "reward = 1.99\n",
    "state_ = np.array([0,1,0,0])\n",
    "xx=[]\n",
    "re=Transition(state, action, action_log_prob, (reward + 8) / 8, state_)\n",
    "xx.append(re)"
   ]
  },
  {
   "cell_type": "code",
   "execution_count": 4,
   "metadata": {},
   "outputs": [],
   "source": [
    "xx.append(re)"
   ]
  },
  {
   "cell_type": "code",
   "execution_count": 5,
   "metadata": {},
   "outputs": [
    {
     "data": {
      "text/plain": [
       "[Transition(s=array([1, 0, 0, 0]), a=0, a_log_p=array([[-0.83189781, -0.89948072, -0.56960182]]), r=1.24875, s_=array([0, 1, 0, 0])),\n",
       " Transition(s=array([1, 0, 0, 0]), a=0, a_log_p=array([[-0.83189781, -0.89948072, -0.56960182]]), r=1.24875, s_=array([0, 1, 0, 0]))]"
      ]
     },
     "execution_count": 5,
     "metadata": {},
     "output_type": "execute_result"
    }
   ],
   "source": [
    "xx"
   ]
  },
  {
   "cell_type": "code",
   "execution_count": null,
   "metadata": {},
   "outputs": [],
   "source": [
    "value(x)"
   ]
  },
  {
   "cell_type": "code",
   "execution_count": 5,
   "metadata": {},
   "outputs": [
    {
     "ename": "ValueError",
     "evalue": "could not broadcast input array from shape (4,) into shape (1,)",
     "output_type": "error",
     "traceback": [
      "\u001b[0;31m---------------------------------------------------------------------------\u001b[0m",
      "\u001b[0;31mValueError\u001b[0m                                Traceback (most recent call last)",
      "Cell \u001b[0;32mIn[5], line 1\u001b[0m\n\u001b[0;32m----> 1\u001b[0m test\u001b[39m.\u001b[39;49mlearn(xx)\n",
      "File \u001b[0;32m~/miniconda3/lib/python3.8/site-packages/minirl/brain/ppo.py:611\u001b[0m, in \u001b[0;36mAgent.learn\u001b[0;34m(self, buffer)\u001b[0m\n\u001b[1;32m    608\u001b[0m target_v0[i] \u001b[39m=\u001b[39m target_v[result[i]]\n\u001b[1;32m    609\u001b[0m adv0[i] \u001b[39m=\u001b[39m adv[result[i]]\n\u001b[0;32m--> 611\u001b[0m s[i] \u001b[39m=\u001b[39m bs[result[i]]\n\u001b[1;32m    612\u001b[0m \u001b[39mfor\u001b[39;00m j \u001b[39min\u001b[39;00m \u001b[39mrange\u001b[39m(\u001b[39m1\u001b[39m):\n\u001b[1;32m    613\u001b[0m     s[i, j] \u001b[39m=\u001b[39m bs[result[i]]\n",
      "\u001b[0;31mValueError\u001b[0m: could not broadcast input array from shape (4,) into shape (1,)"
     ]
    }
   ],
   "source": [
    "test.learn(xx)"
   ]
  },
  {
   "cell_type": "code",
   "execution_count": 5,
   "metadata": {},
   "outputs": [],
   "source": [
    "x=True\n",
    "if not x:\n",
    "    print(\"x\")"
   ]
  }
 ],
 "metadata": {
  "kernelspec": {
   "display_name": "base",
   "language": "python",
   "name": "python3"
  },
  "language_info": {
   "codemirror_mode": {
    "name": "ipython",
    "version": 3
   },
   "file_extension": ".py",
   "mimetype": "text/x-python",
   "name": "python",
   "nbconvert_exporter": "python",
   "pygments_lexer": "ipython3",
   "version": "3.8.15"
  },
  "orig_nbformat": 4,
  "vscode": {
   "interpreter": {
    "hash": "f06f4baf162c1bba868b3ed890ca059fd0c13f705dc9d48413e36c65b86dd60d"
   }
  }
 },
 "nbformat": 4,
 "nbformat_minor": 2
}
