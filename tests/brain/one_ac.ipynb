{
 "cells": [
  {
   "cell_type": "code",
   "execution_count": 1,
   "metadata": {},
   "outputs": [
    {
     "name": "stdout",
     "output_type": "stream",
     "text": [
      "2023-06-08 10:06:19 [info     ] APIs of mlopskit               model_name=uni_pricing_rl model_version=3 ops_type=cache\n",
      "2023-06-08 10:06:19 [error    ] \u001b[31;1mModel uni_pricing_rl is not exist,To resolve this issue, you will need to create and register the uni_pricing_rl model using `push` method before create db/cache\u001b[0m\n"
     ]
    }
   ],
   "source": [
    "from minirl.brain.one_ac_config import agent_parameters"
   ]
  },
  {
   "cell_type": "code",
   "execution_count": 2,
   "metadata": {},
   "outputs": [
    {
     "data": {
      "text/plain": [
       "{'obs_dim': (34,),\n",
       " 'action_n': 3,\n",
       " 'actions': [],\n",
       " 'eps': 0.2,\n",
       " 'gamma': 0.99,\n",
       " 'model_db': None,\n",
       " 'score_db': None,\n",
       " 'seed': 0,\n",
       " 'alpha_w': 0.1,\n",
       " 'alpha_theta': 0.1}"
      ]
     },
     "execution_count": 2,
     "metadata": {},
     "output_type": "execute_result"
    }
   ],
   "source": [
    "agent_parameters"
   ]
  }
 ],
 "metadata": {
  "kernelspec": {
   "display_name": "base",
   "language": "python",
   "name": "python3"
  },
  "language_info": {
   "codemirror_mode": {
    "name": "ipython",
    "version": 3
   },
   "file_extension": ".py",
   "mimetype": "text/x-python",
   "name": "python",
   "nbconvert_exporter": "python",
   "pygments_lexer": "ipython3",
   "version": "3.8.15"
  },
  "orig_nbformat": 4,
  "vscode": {
   "interpreter": {
    "hash": "f06f4baf162c1bba868b3ed890ca059fd0c13f705dc9d48413e36c65b86dd60d"
   }
  }
 },
 "nbformat": 4,
 "nbformat_minor": 2
}
