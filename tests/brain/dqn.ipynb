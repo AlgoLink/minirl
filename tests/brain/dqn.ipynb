{
 "cells": [
  {
   "cell_type": "code",
   "execution_count": 1,
   "metadata": {},
   "outputs": [
    {
     "name": "stdout",
     "output_type": "stream",
     "text": [
      "2023-05-23 15:08:04 [info     ] APIs of mlopskit               model_name=feature_store model_version=1 ops_type=cache\n",
      "2023-05-23 15:08:04 [info     ] The list of all versions for the current model is \u001b[42;1m[1, 2]\u001b[0m.\n",
      "2023-05-23 15:08:04 [warning  ] The version 1 is out of date. You should consider upgrading to version `v2`.\n",
      "2023-05-23 15:08:04 [info     ] Usage of mlopskit-cache        Params=\u001b[36;1m{'db_type': 'rlite/redis/sfdb/diskcache, default:rlite', 'return_type': 'dblink/dbobj, default: dbobj', 'db_name': 'default: rlite_model.cache'}\u001b[0m\n"
     ]
    }
   ],
   "source": [
    "from mlopskit import make\n",
    "\n",
    "model_db = make(\"cache/feature_store-v1\", db_name=\"dqn.db\")"
   ]
  },
  {
   "cell_type": "code",
   "execution_count": 2,
   "metadata": {},
   "outputs": [],
   "source": [
    "from minirl.brain.dqn import DQNAgent\n",
    "\n",
    "test=DQNAgent(4,3,64,0.01,model_db=model_db)"
   ]
  },
  {
   "cell_type": "code",
   "execution_count": 18,
   "metadata": {},
   "outputs": [
    {
     "data": {
      "text/plain": [
       "array([[ 1.1       , -0.01584985,  0.06314397]])"
      ]
     },
     "execution_count": 18,
     "metadata": {},
     "output_type": "execute_result"
    }
   ],
   "source": [
    "dd=test.model.predict(np.array([[1,0,0,0]]))\n",
    "dd[0][0]=1.1\n",
    "dd"
   ]
  },
  {
   "cell_type": "code",
   "execution_count": 10,
   "metadata": {},
   "outputs": [],
   "source": [
    "import numpy as np\n",
    "reward = 1\n",
    "\n",
    "g=reward + 0.98 * np.max(dd)"
   ]
  },
  {
   "cell_type": "code",
   "execution_count": 7,
   "metadata": {},
   "outputs": [
    {
     "name": "stdout",
     "output_type": "stream",
     "text": [
      "1 <class 'numpy.int64'>\n",
      "1 <class 'numpy.int64'>\n",
      "1 <class 'numpy.int64'>\n",
      "1 <class 'numpy.int64'>\n",
      "1 <class 'numpy.int64'>\n",
      "1 <class 'numpy.int64'>\n",
      "1 <class 'numpy.int64'>\n",
      "1 <class 'numpy.int64'>\n",
      "1 <class 'numpy.int64'>\n",
      "1 <class 'numpy.int64'>\n"
     ]
    }
   ],
   "source": [
    "for i in range(10):\n",
    "    c = test.act([[1,0,0,0]],\"test3\")\n",
    "    print(c,type(c))"
   ]
  },
  {
   "cell_type": "code",
   "execution_count": 5,
   "metadata": {},
   "outputs": [],
   "source": [
    "import numpy as np\n",
    "\n",
    "state=np.array([[1,0,0,0]])\n",
    "next_state=np.array([[0,1,0,0]])\n",
    "for i in range(10):\n",
    "    test.learn(state,1,next_state,1.0,\"test3\")"
   ]
  },
  {
   "cell_type": "code",
   "execution_count": 5,
   "metadata": {},
   "outputs": [
    {
     "data": {
      "text/plain": [
       "{}"
      ]
     },
     "execution_count": 5,
     "metadata": {},
     "output_type": "execute_result"
    }
   ],
   "source": [
    "test.model.q_val"
   ]
  },
  {
   "cell_type": "code",
   "execution_count": 14,
   "metadata": {},
   "outputs": [
    {
     "data": {
      "text/plain": [
       "array([[ 0.08477906, -0.01357327,  0.24057955, -0.15129921, -0.00483628,\n",
       "        -0.07707545, -0.05678914],\n",
       "       [-0.01745422, -0.14687918,  0.02317782, -0.06951836, -0.01262851,\n",
       "        -0.17151188,  0.08863943],\n",
       "       [-0.06284439,  0.07291588,  0.09590553, -0.0109476 , -0.14697387,\n",
       "        -0.04037211,  0.28882319]])"
      ]
     },
     "execution_count": 14,
     "metadata": {},
     "output_type": "execute_result"
    }
   ],
   "source": [
    "import numpy as np\n",
    "\n",
    "np.random.normal(\n",
    "            scale=0.1, size=(3, 7)\n",
    "        )"
   ]
  }
 ],
 "metadata": {
  "kernelspec": {
   "display_name": "base",
   "language": "python",
   "name": "python3"
  },
  "language_info": {
   "codemirror_mode": {
    "name": "ipython",
    "version": 3
   },
   "file_extension": ".py",
   "mimetype": "text/x-python",
   "name": "python",
   "nbconvert_exporter": "python",
   "pygments_lexer": "ipython3",
   "version": "3.8.15"
  },
  "orig_nbformat": 4,
  "vscode": {
   "interpreter": {
    "hash": "f06f4baf162c1bba868b3ed890ca059fd0c13f705dc9d48413e36c65b86dd60d"
   }
  }
 },
 "nbformat": 4,
 "nbformat_minor": 2
}
