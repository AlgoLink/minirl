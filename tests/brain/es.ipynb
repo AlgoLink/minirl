{
 "cells": [
  {
   "cell_type": "code",
   "execution_count": 3,
   "metadata": {},
   "outputs": [],
   "source": [
    "from minirl.brain.es import Model\n",
    "\n",
    "\n",
    "test_model = Model(4,64,3)\n",
    "\n",
    "\n"
   ]
  },
  {
   "cell_type": "code",
   "execution_count": 4,
   "metadata": {},
   "outputs": [
    {
     "data": {
      "text/plain": [
       "(array([[-14.4829959 ,  16.74821895,  30.55435607]]), array([[-4.07639034]]))"
      ]
     },
     "execution_count": 4,
     "metadata": {},
     "output_type": "execute_result"
    }
   ],
   "source": [
    "test_model.predict([1,0,0,0])"
   ]
  },
  {
   "cell_type": "code",
   "execution_count": 10,
   "metadata": {},
   "outputs": [
    {
     "data": {
      "text/plain": [
       "(array([[-20.35808437,  -7.67268228,  15.71366702]]), array([[10.16417959]]))"
      ]
     },
     "execution_count": 10,
     "metadata": {},
     "output_type": "execute_result"
    }
   ],
   "source": [
    "test_model.predict([0,1,0,0])"
   ]
  },
  {
   "cell_type": "code",
   "execution_count": 11,
   "metadata": {},
   "outputs": [
    {
     "data": {
      "text/plain": [
       "(array([[ 1.74806478, 15.12215296, 14.32668046]]), array([[-12.93622419]]))"
      ]
     },
     "execution_count": 11,
     "metadata": {},
     "output_type": "execute_result"
    }
   ],
   "source": [
    "test_model.predict([0,0,1,0])"
   ]
  },
  {
   "cell_type": "code",
   "execution_count": 18,
   "metadata": {},
   "outputs": [
    {
     "ename": "ValueError",
     "evalue": "shapes (64,4,1) and (3,) not aligned: 1 (dim 2) != 3 (dim 0)",
     "output_type": "error",
     "traceback": [
      "\u001b[0;31m---------------------------------------------------------------------------\u001b[0m",
      "\u001b[0;31mValueError\u001b[0m                                Traceback (most recent call last)",
      "Cell \u001b[0;32mIn[18], line 20\u001b[0m\n\u001b[1;32m     14\u001b[0m \u001b[39mfor\u001b[39;00m index, w \u001b[39min\u001b[39;00m \u001b[39menumerate\u001b[39m(weights):\n\u001b[1;32m     15\u001b[0m     A \u001b[39m=\u001b[39m np\u001b[39m.\u001b[39marray([p[index] \u001b[39mfor\u001b[39;00m p \u001b[39min\u001b[39;00m population])\n\u001b[1;32m     16\u001b[0m     weights[index] \u001b[39m=\u001b[39m (\n\u001b[1;32m     17\u001b[0m                     w\n\u001b[1;32m     18\u001b[0m                     \u001b[39m+\u001b[39m learning_rate\n\u001b[1;32m     19\u001b[0m                     \u001b[39m/\u001b[39m (population_size \u001b[39m*\u001b[39m sigma)\n\u001b[0;32m---> 20\u001b[0m                     \u001b[39m*\u001b[39m np\u001b[39m.\u001b[39;49mdot(A\u001b[39m.\u001b[39;49mT, rewards)\u001b[39m.\u001b[39mT\n\u001b[1;32m     21\u001b[0m                 )\n\u001b[1;32m     23\u001b[0m A\n",
      "File \u001b[0;32m<__array_function__ internals>:180\u001b[0m, in \u001b[0;36mdot\u001b[0;34m(*args, **kwargs)\u001b[0m\n",
      "\u001b[0;31mValueError\u001b[0m: shapes (64,4,1) and (3,) not aligned: 1 (dim 2) != 3 (dim 0)"
     ]
    }
   ],
   "source": [
    "x = []\n",
    "learning_rate=0.01\n",
    "population_size =1\n",
    "sigma = 0.1\n",
    "import numpy as np\n",
    "weights = test_model.get_weights()\n",
    "for w in weights:\n",
    "    x.append(np.random.randn(*w.shape))\n",
    "\n",
    "population = []\n",
    "\n",
    "population.append(x)\n",
    "rewards = np.array([1,0,0])\n",
    "for index, w in enumerate(weights):\n",
    "    A = np.array([p[index] for p in population])\n",
    "    weights[index] = (\n",
    "                    w\n",
    "                    + learning_rate\n",
    "                    / (population_size * sigma)\n",
    "                    * np.dot(A.T, rewards).T\n",
    "                )\n",
    "\n",
    "A"
   ]
  }
 ],
 "metadata": {
  "kernelspec": {
   "display_name": "base",
   "language": "python",
   "name": "python3"
  },
  "language_info": {
   "codemirror_mode": {
    "name": "ipython",
    "version": 3
   },
   "file_extension": ".py",
   "mimetype": "text/x-python",
   "name": "python",
   "nbconvert_exporter": "python",
   "pygments_lexer": "ipython3",
   "version": "3.8.15"
  },
  "orig_nbformat": 4,
  "vscode": {
   "interpreter": {
    "hash": "f06f4baf162c1bba868b3ed890ca059fd0c13f705dc9d48413e36c65b86dd60d"
   }
  }
 },
 "nbformat": 4,
 "nbformat_minor": 2
}
