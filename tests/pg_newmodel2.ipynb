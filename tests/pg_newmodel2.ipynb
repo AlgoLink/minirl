{
 "cells": [
  {
   "cell_type": "code",
   "execution_count": 5,
   "id": "36263bf0-167c-41a9-b062-9337304e451f",
   "metadata": {},
   "outputs": [
    {
     "name": "stdout",
     "output_type": "stream",
     "text": [
      "Overwriting pg_newmodel2.py\n"
     ]
    }
   ],
   "source": [
    "%%file pg_newmodel2.py\n",
    "from itertools import count\n",
    "import gym\n",
    "import numpy as np\n",
    "from minirl.agents.pg import PGAgent\n",
    "\n",
    "from mlopskit import make\n",
    "\n",
    "model_db = make(\"cache/feature_store-v1\", db_name=\"lmodel2.db\")\n",
    "model_id = \"pg\"\n",
    "env = gym.make(\"CartPole-v1\")\n",
    "ob_n = env.observation_space.shape[0]\n",
    "ac_n = env.action_space.n\n",
    "agent = PGAgent(ob_n, ac_n, model_db=model_db,score_db=model_db,his_db=model_db, model_id=model_id)\n",
    "render_interval = -1\n",
    "log_interval = 100\n",
    "\n",
    "\n",
    "def main():\n",
    "    \"\"\"Run REINFORCE algorithm to train on the environment\"\"\"\n",
    "    avg_reward = []\n",
    "    for i_episode in count(1):\n",
    "        ep_reward = 0\n",
    "        obs, _ = env.reset()\n",
    "        for t in range(100):  # Don't infinite loop while learning\n",
    "\n",
    "            action = agent.act(obs, model_id)\n",
    "            next_obs, reward, done, _, _ = env.step(action)\n",
    "            ep_reward += reward\n",
    "            #agent.rewards.append(reward)\n",
    "            agent.policy._add_to_cache_using_rpush(\"rewards\", str(reward), model_id)\n",
    "\n",
    "            if render_interval != -1 and i_episode % render_interval == 0:\n",
    "                env.render()\n",
    "\n",
    "            if done:\n",
    "                break\n",
    "\n",
    "            obs = next_obs\n",
    "\n",
    "        agent.learn(model_id)\n",
    "\n",
    "        if i_episode % log_interval == 0:\n",
    "            print(\"Ave reward: {}\".format(sum(avg_reward) / len(avg_reward)))\n",
    "            avg_reward = []\n",
    "\n",
    "        else:\n",
    "            avg_reward.append(ep_reward)\n",
    "\n",
    "\n",
    "main()\n"
   ]
  },
  {
   "cell_type": "code",
   "execution_count": 7,
   "id": "1838f1cc",
   "metadata": {},
   "outputs": [
    {
     "name": "stdout",
     "output_type": "stream",
     "text": [
      "2023-05-08 22:13:10 [info     ] APIs of mlopskit               model_name=feature_store model_version=1 ops_type=cache\n",
      "2023-05-08 22:13:11 [info     ] The list of all versions for the current model is \u001b[42;1m[1, 2]\u001b[0m.\n",
      "2023-05-08 22:13:11 [warning  ] The version 1 is out of date. You should consider upgrading to version `v2`.\n",
      "2023-05-08 22:13:11 [info     ] Usage of mlopskit-cache        Params=\u001b[36;1m{'db_type': 'rlite/redis/sfdb/diskcache, default:rlite', 'return_type': 'dblink/dbobj, default: dbobj', 'db_name': 'default: rlite_model.cache'}\u001b[0m\n"
     ]
    }
   ],
   "source": [
    "from itertools import count\n",
    "import gym\n",
    "import numpy as np\n",
    "from minirl.agents.pg import PGAgent\n",
    "\n",
    "from mlopskit import make\n",
    "\n",
    "model_db = make(\"cache/feature_store-v1\", db_name=\"lmodel2.db\")\n",
    "model_id = \"pg\"\n",
    "env = gym.make(\"CartPole-v1\")\n",
    "ob_n = env.observation_space.shape[0]\n",
    "ac_n = env.action_space.n\n",
    "agent = PGAgent(ob_n, ac_n, model_db=model_db,score_db=model_db,his_db=model_db, model_id=model_id)\n",
    "render_interval = -1\n",
    "log_interval = 100"
   ]
  },
  {
   "cell_type": "code",
   "execution_count": null,
   "id": "39ae8afe",
   "metadata": {},
   "outputs": [
    {
     "ename": "",
     "evalue": "",
     "output_type": "error",
     "traceback": [
      "\u001b[1;31mThe Kernel crashed while executing code in the the current cell or a previous cell. Please review the code in the cell(s) to identify a possible cause of the failure. Click <a href='https://aka.ms/vscodeJupyterKernelCrash'>here</a> for more info. View Jupyter <a href='command:jupyter.viewOutput'>log</a> for further details."
     ]
    },
    {
     "ename": "",
     "evalue": "",
     "output_type": "error",
     "traceback": [
      "\u001b[1;31mCanceled future for execute_request message before replies were done"
     ]
    }
   ],
   "source": [
    "model_id=\"pg\"\n",
    "lu=agent.target_model.cache_local_key(\"aprobs\", model_id)\n",
    "\n",
    "agent.policy._score_db.delete(lu)"
   ]
  }
 ],
 "metadata": {
  "kernelspec": {
   "display_name": "base",
   "language": "python",
   "name": "python3"
  },
  "language_info": {
   "codemirror_mode": {
    "name": "ipython",
    "version": 3
   },
   "file_extension": ".py",
   "mimetype": "text/x-python",
   "name": "python",
   "nbconvert_exporter": "python",
   "pygments_lexer": "ipython3",
   "version": "3.8.15"
  },
  "vscode": {
   "interpreter": {
    "hash": "f06f4baf162c1bba868b3ed890ca059fd0c13f705dc9d48413e36c65b86dd60d"
   }
  }
 },
 "nbformat": 4,
 "nbformat_minor": 5
}
